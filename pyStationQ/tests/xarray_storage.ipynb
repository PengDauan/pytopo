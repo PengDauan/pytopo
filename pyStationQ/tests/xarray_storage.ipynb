{
 "cells": [
  {
   "cell_type": "code",
   "execution_count": 1,
   "metadata": {
    "collapsed": true
   },
   "outputs": [],
   "source": [
    "import numpy as np\n",
    "import xarray as xr"
   ]
  },
  {
   "cell_type": "code",
   "execution_count": 40,
   "metadata": {
    "collapsed": true
   },
   "outputs": [],
   "source": [
    "class XStorage:\n",
    "    def __getitem__(self, key):\n",
    "        return self._dsets[key]\n",
    "    \n",
    "    def __init__(self, datasets):\n",
    "        self._dsets = {}\n",
    "        for name, info in datasets.items():\n",
    "            dtype = info.get('dtype', np.float)\n",
    "            shape = info.get('shape', (0,))\n",
    "            coords = info.get('coords', None)\n",
    "            self._dsets[name] = xr.DataArray(np.zeros(shape, dtype=dtype), coords=coords)\n"
   ]
  },
  {
   "cell_type": "code",
   "execution_count": null,
   "metadata": {
    "collapsed": true
   },
   "outputs": [],
   "source": []
  },
  {
   "cell_type": "code",
   "execution_count": 41,
   "metadata": {},
   "outputs": [],
   "source": [
    "xs = XStorage({'values':{'shape':(1,3,3),\n",
    "                         'dtype':int}})"
   ]
  },
  {
   "cell_type": "code",
   "execution_count": null,
   "metadata": {
    "collapsed": true
   },
   "outputs": [],
   "source": []
  },
  {
   "cell_type": "code",
   "execution_count": 47,
   "metadata": {
    "collapsed": true
   },
   "outputs": [],
   "source": [
    "d = xr.DataArray(np.zeros(9).reshape(1,3,3), \n",
    "                 coords=[('index', [1,]), ('time', [0,0.1,0.2]), ('amp', [1,2,3])])"
   ]
  },
  {
   "cell_type": "code",
   "execution_count": 66,
   "metadata": {},
   "outputs": [],
   "source": [
    "d.loc[dict(time=0.1)] = [5,5,5]"
   ]
  },
  {
   "cell_type": "code",
   "execution_count": 67,
   "metadata": {},
   "outputs": [
    {
     "data": {
      "text/plain": [
       "<xarray.DataArray (index: 1, time: 3, amp: 3)>\n",
       "array([[[ 0.,  0.,  0.],\n",
       "        [ 5.,  5.,  5.],\n",
       "        [ 0.,  0.,  0.]]])\n",
       "Coordinates:\n",
       "  * index    (index) int32 1\n",
       "  * time     (time) float64 0.0 0.1 0.2\n",
       "  * amp      (amp) int32 1 2 3"
      ]
     },
     "execution_count": 67,
     "metadata": {},
     "output_type": "execute_result"
    }
   ],
   "source": [
    "d"
   ]
  },
  {
   "cell_type": "code",
   "execution_count": null,
   "metadata": {
    "collapsed": true
   },
   "outputs": [],
   "source": [
    "d."
   ]
  }
 ],
 "metadata": {
  "kernelspec": {
   "display_name": "Python 3",
   "language": "python",
   "name": "python3"
  },
  "language_info": {
   "codemirror_mode": {
    "name": "ipython",
    "version": 3
   },
   "file_extension": ".py",
   "mimetype": "text/x-python",
   "name": "python",
   "nbconvert_exporter": "python",
   "pygments_lexer": "ipython3",
   "version": "3.6.3"
  }
 },
 "nbformat": 4,
 "nbformat_minor": 2
}
