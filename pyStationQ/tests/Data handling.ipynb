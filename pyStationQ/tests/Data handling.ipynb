{
 "cells": [
  {
   "cell_type": "code",
   "execution_count": 4,
   "metadata": {
    "collapsed": true
   },
   "outputs": [],
   "source": [
    "import sys\n",
    "from importlib import reload\n",
    "from collections import OrderedDict\n",
    "from pprint import pprint\n",
    "\n",
    "import numpy as np\n",
    "from matplotlib import pyplot as plt\n",
    "import h5py\n",
    "import pandas as pd\n",
    "\n",
    "%matplotlib notebook"
   ]
  },
  {
   "cell_type": "code",
   "execution_count": 5,
   "metadata": {
    "collapsed": true
   },
   "outputs": [],
   "source": [
    "import qcodes as qc"
   ]
  },
  {
   "cell_type": "markdown",
   "metadata": {},
   "source": [
    "# Setup notes\n",
    "\n",
    "For this example to run, you need to have set up a labpython config file. There is a template in labpythonQDelft/templates."
   ]
  },
  {
   "cell_type": "code",
   "execution_count": 6,
   "metadata": {},
   "outputs": [],
   "source": [
    "from pysweep.data_storage import base_storage\n",
    "reload(base_storage)\n",
    "from pysweep.data_storage.base_storage import BaseStorage, DataSet\n",
    "\n",
    "from pysweep import sweep_object\n",
    "reload(sweep_object)\n",
    "from pysweep.sweep_object import sweep, ChainSweep"
   ]
  },
  {
   "cell_type": "code",
   "execution_count": 180,
   "metadata": {},
   "outputs": [],
   "source": [
    "from importlib import reload\n",
    "from qctools import instruments as instools\n",
    "reload(instools)\n",
    "\n",
    "import labpythonconfig as cfg\n",
    "reload(cfg)\n",
    "\n",
    "from experiment import measurement\n",
    "reload(measurement)\n",
    "from experiment.measurement import Parameter, BaseMeasurement\n",
    "from experiment.measurement import Data, GridData"
   ]
  },
  {
   "cell_type": "code",
   "execution_count": 181,
   "metadata": {
    "collapsed": true
   },
   "outputs": [],
   "source": [
    "station = qc.Station()"
   ]
  },
  {
   "cell_type": "code",
   "execution_count": null,
   "metadata": {
    "collapsed": true
   },
   "outputs": [],
   "source": []
  },
  {
   "cell_type": "code",
   "execution_count": 182,
   "metadata": {},
   "outputs": [],
   "source": [
    "ivals = np.arange(5, dtype=int)\n",
    "jvals = np.arange(5, dtype=float) * 0.1\n",
    "scales = np.linspace(0,1,3)\n",
    "\n",
    "d = GridData(None)\n",
    "d.grids['some data'] = {}\n",
    "d.grids['some data']['coords'] = [\n",
    "    ('scale', scales),\n",
    "    ('j', jvals),\n",
    "    ('i', ivals),\n",
    "]\n",
    "\n",
    "stop = False\n",
    "for i in ivals:\n",
    "    for j in jvals:\n",
    "        v = (i + j**2) * scales\n",
    "        rec = OrderedDict({\n",
    "            'scale' : {'value' : scales, 'independent_parameter' : True},\n",
    "            'j' : {'value' : j, 'independent_parameter' : True},\n",
    "            'i' : {'value' : i, 'independent_parameter' : True},\n",
    "            'some data' : {'value' : v},\n",
    "        })\n",
    "        if (i >= ivals[-3]) and (j >= jvals[-3]):\n",
    "            stop = True\n",
    "            break\n",
    "        if not stop:\n",
    "            d.add(rec)\n",
    "\n",
    "tbl = GridData.flatten_page(d._pages['some data'])\n",
    "# pd.DataFrame(tbl)"
   ]
  },
  {
   "cell_type": "code",
   "execution_count": 183,
   "metadata": {},
   "outputs": [],
   "source": [
    "data, coords = d['some data']"
   ]
  },
  {
   "cell_type": "code",
   "execution_count": 184,
   "metadata": {},
   "outputs": [
    {
     "data": {
      "text/plain": [
       "array([[[ 0.   ,  0.   ,  0.   ],\n",
       "        [ 0.   ,  0.   ,  0.   ],\n",
       "        [ 0.   ,  0.   ,    nan],\n",
       "        [ 0.   ,  0.   ,    nan],\n",
       "        [ 0.   ,  0.   ,    nan]],\n",
       "\n",
       "       [[ 0.   ,  0.5  ,  1.   ],\n",
       "        [ 0.005,  0.505,  1.005],\n",
       "        [ 0.02 ,  0.52 ,    nan],\n",
       "        [ 0.045,  0.545,    nan],\n",
       "        [ 0.08 ,  0.58 ,    nan]],\n",
       "\n",
       "       [[ 0.   ,  1.   ,  2.   ],\n",
       "        [ 0.01 ,  1.01 ,  2.01 ],\n",
       "        [ 0.04 ,  1.04 ,    nan],\n",
       "        [ 0.09 ,  1.09 ,    nan],\n",
       "        [ 0.16 ,  1.16 ,    nan]]])"
      ]
     },
     "execution_count": 184,
     "metadata": {},
     "output_type": "execute_result"
    }
   ],
   "source": [
    "data"
   ]
  },
  {
   "cell_type": "code",
   "execution_count": null,
   "metadata": {
    "collapsed": true
   },
   "outputs": [],
   "source": []
  },
  {
   "cell_type": "code",
   "execution_count": null,
   "metadata": {
    "collapsed": true
   },
   "outputs": [],
   "source": []
  }
 ],
 "metadata": {
  "kernelspec": {
   "display_name": "Python 3",
   "language": "python",
   "name": "python3"
  },
  "language_info": {
   "codemirror_mode": {
    "name": "ipython",
    "version": 3
   },
   "file_extension": ".py",
   "mimetype": "text/x-python",
   "name": "python",
   "nbconvert_exporter": "python",
   "pygments_lexer": "ipython3",
   "version": "3.6.2"
  }
 },
 "nbformat": 4,
 "nbformat_minor": 2
}
