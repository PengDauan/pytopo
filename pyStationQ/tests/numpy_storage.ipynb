{
 "cells": [
  {
   "cell_type": "code",
   "execution_count": 1,
   "metadata": {
    "collapsed": true
   },
   "outputs": [],
   "source": [
    "import numpy as np\n",
    "from collections import defaultdict, Iterator\n",
    "from numpy.lib.recfunctions import merge_arrays\n",
    "from pprint import pprint"
   ]
  },
  {
   "cell_type": "code",
   "execution_count": 2,
   "metadata": {
    "collapsed": true
   },
   "outputs": [],
   "source": [
    "class Delayed: \n",
    "    pass"
   ]
  },
  {
   "cell_type": "code",
   "execution_count": 3,
   "metadata": {
    "collapsed": true
   },
   "outputs": [],
   "source": [
    "class DelayedArray(np.ndarray): \n",
    "    def __new__(cls, input_array):\n",
    "        obj = np.asarray(input_array).view(cls)\n",
    "        \n",
    "        if len(obj.shape) == 1:\n",
    "            obj = obj.reshape((-1, 1))\n",
    "        \n",
    "        return obj"
   ]
  },
  {
   "cell_type": "code",
   "execution_count": 4,
   "metadata": {
    "collapsed": true
   },
   "outputs": [],
   "source": [
    "class NpStore: \n",
    "    def __init__(self): \n",
    "        self._pages = defaultdict(lambda: None)\n",
    "        self._delay_buffer = defaultdict(lambda: None)\n",
    "\n",
    "    @staticmethod\n",
    "    def sane_append(array1, array2): \n",
    "        if array1 is None:\n",
    "            return array2\n",
    "        return np.append(array1, array2)\n",
    "    \n",
    "    @staticmethod\n",
    "    def get_shapes(values, flatten=False):\n",
    "        shapes = [v.shape if hasattr(v, \"shape\") else tuple() for v in values]  \n",
    "        \n",
    "        if flatten:\n",
    "            if len(set([shp[0] for shp in shapes])) > 1: \n",
    "                raise ValueError(\"When flattening, the first dimension of all values must be equal\")\n",
    "            \n",
    "            shapes = [shp[1:] for shp in shapes]\n",
    "        \n",
    "        return shapes\n",
    "    \n",
    "    def dict_to_array(self, dictionary, flatten=False, value_parser=np.atleast_1d): \n",
    "        \n",
    "        units = [d[\"unit\"] for d in dictionary.values()]\n",
    "        field_names = [\"{} [{}]\".format(*nu) for nu in zip(dictionary.keys(), units)]\n",
    "\n",
    "        values = [value_parser(d[\"value\"]) for d in dictionary.values()]\n",
    "        shapes = self.get_shapes(values, flatten=flatten)\n",
    "\n",
    "        types = [str(shp) + str(i.dtype) for shp, i in zip(shapes, values)]\n",
    "        dtype = list(zip(field_names, types))\n",
    "\n",
    "        if flatten: \n",
    "            rval= np.array([tuple(i) for i in zip(*values)], dtype=dtype)\n",
    "        else:\n",
    "            rval = np.array([tuple(values)], dtype=dtype)\n",
    "\n",
    "        return rval \n",
    "    \n",
    "    def add(self, record):\n",
    "        \n",
    "        independents = [(name, value) for name, value in record.items() if value.get('independent_parameter', False)]\n",
    "        independents = self.dict_to_array(dict(independents))\n",
    "        \n",
    "        dependents = [(name, value) for name, value in record.items() if not value.get('independent_parameter', False)]\n",
    "        \n",
    "        for name, parameter_record in dependents: \n",
    "            \n",
    "            dependent = dict([(name, parameter_record)])\n",
    "            \n",
    "            if isinstance(parameter_record[\"value\"], Delayed): \n",
    "                self._delay_buffer[name] = self.sane_append(self._delay_buffer[name], independents)\n",
    "                continue\n",
    "                \n",
    "            elif isinstance(parameter_record[\"value\"], DelayedArray):\n",
    "                independents = np.append(self._delay_buffer[name], independents)\n",
    "                dependent = self.dict_to_array(dependent, flatten=True)\n",
    "                del self._delay_buffer[name]\n",
    "                \n",
    "            else:\n",
    "                dependent = self.dict_to_array(dependent)\n",
    "                \n",
    "            page = merge_arrays([independents, dependent], flatten=True, usemask=False)\n",
    "            self._pages[name] = self.sane_append(self._pages[name], page)\n",
    "    \n",
    "    def dataset(self, dset): \n",
    "        \n",
    "        def value_parser(array):\n",
    "            if len(array.shape) == 1: \n",
    "                return array.reshape((-1, 1))\n",
    "            return array\n",
    "        \n",
    "        independents = [(name, value) for name, value in dset.items() if value.get('independent_parameter', False)]\n",
    "        independents = self.dict_to_array(dict(independents), flatten=True, value_parser=value_parser)\n",
    "        \n",
    "        dependents = [(name, value) for name, value in dset.items() if not value.get('independent_parameter', False)]\n",
    "        \n",
    "        for name, parameter_record in dependents: \n",
    "            dependent = self.dict_to_array({name: parameter_record}, flatten=True, value_parser=value_parser)\n",
    "            \n",
    "            page = merge_arrays([independents, dependent], flatten=True, usemask=False)\n",
    "            self._pages[name] = self.sane_append(self._pages[name], page)\n",
    "    \n",
    "    def __getitem__(self, item): \n",
    "        return self._pages.__getitem__(item)"
   ]
  },
  {
   "cell_type": "code",
   "execution_count": 5,
   "metadata": {
    "collapsed": true
   },
   "outputs": [],
   "source": [
    "store = NpStore()"
   ]
  },
  {
   "cell_type": "code",
   "execution_count": 6,
   "metadata": {
    "collapsed": true
   },
   "outputs": [],
   "source": [
    "store.add({\n",
    "    \"x\": {\"unit\": \"V\", \"value\": 4.1, 'independent_parameter': True}, \n",
    "    \"y\": {\"unit\": \"V\", \"value\": 6.7, 'independent_parameter': True}, \n",
    "    \"a\": {\"unit\": \"I\", \"value\": 0.7}\n",
    "})\n",
    "\n",
    "\n",
    "\n",
    "store.add({\n",
    "    \"x\": {\"unit\": \"V\", \"value\": 3.5, 'independent_parameter': True}, \n",
    "    \"y\": {\"unit\": \"V\", \"value\": 8.1, 'independent_parameter': True}, \n",
    "    \"a\": {\"unit\": \"I\", \"value\": 0.9}\n",
    "})"
   ]
  },
  {
   "cell_type": "code",
   "execution_count": 7,
   "metadata": {},
   "outputs": [
    {
     "name": "stdout",
     "output_type": "stream",
     "text": [
      "array([[ 4.1],\n",
      "       [ 3.5]])\n"
     ]
    }
   ],
   "source": [
    "pprint(store[\"a\"][\"x [V]\"])"
   ]
  },
  {
   "cell_type": "code",
   "execution_count": 8,
   "metadata": {},
   "outputs": [
    {
     "name": "stdout",
     "output_type": "stream",
     "text": [
      "array([[ 6.7],\n",
      "       [ 8.1]])\n"
     ]
    }
   ],
   "source": [
    "pprint(store[\"a\"][\"y [V]\"])"
   ]
  },
  {
   "cell_type": "code",
   "execution_count": 9,
   "metadata": {},
   "outputs": [
    {
     "name": "stdout",
     "output_type": "stream",
     "text": [
      "array([[ 0.7],\n",
      "       [ 0.9]])\n"
     ]
    }
   ],
   "source": [
    "pprint(store[\"a\"][\"a [I]\"])"
   ]
  },
  {
   "cell_type": "code",
   "execution_count": 10,
   "metadata": {
    "collapsed": true
   },
   "outputs": [],
   "source": [
    "store = NpStore()"
   ]
  },
  {
   "cell_type": "code",
   "execution_count": 11,
   "metadata": {
    "collapsed": true
   },
   "outputs": [],
   "source": [
    "store.add({\n",
    "    \"x\": {\"unit\": \"V\", \"value\": 4.1, 'independent_parameter': True}, \n",
    "    \"y\": {\"unit\": \"V\", \"value\": 6.7, 'independent_parameter': True}, \n",
    "    \"a\": {\"unit\": \"I\", \"value\": [0.2, -1.3]}\n",
    "})\n",
    "\n",
    "\n",
    "\n",
    "store.add({\n",
    "    \"x\": {\"unit\": \"V\", \"value\": 3.5, 'independent_parameter': True}, \n",
    "    \"y\": {\"unit\": \"V\", \"value\": 8.1, 'independent_parameter': True}, \n",
    "    \"a\": {\"unit\": \"I\", \"value\": [4.5, -1.2]}\n",
    "})"
   ]
  },
  {
   "cell_type": "code",
   "execution_count": 12,
   "metadata": {},
   "outputs": [
    {
     "name": "stdout",
     "output_type": "stream",
     "text": [
      "array([[ 0.2, -1.3],\n",
      "       [ 4.5, -1.2]])\n"
     ]
    }
   ],
   "source": [
    "pprint(store[\"a\"][\"a [I]\"])"
   ]
  },
  {
   "cell_type": "code",
   "execution_count": 13,
   "metadata": {
    "collapsed": true
   },
   "outputs": [],
   "source": [
    "store = NpStore()"
   ]
  },
  {
   "cell_type": "code",
   "execution_count": 14,
   "metadata": {
    "collapsed": true
   },
   "outputs": [],
   "source": [
    "store.add({\n",
    "    \"x\": {\"unit\": \"V\", \"value\": 4.1, 'independent_parameter': True}, \n",
    "    \"y\": {\"unit\": \"V\", \"value\": 6.7, 'independent_parameter': True}, \n",
    "    \"a\": {\"unit\": \"I\", \"value\": Delayed()}\n",
    "})\n",
    "\n",
    "store.add({\n",
    "    \"x\": {\"unit\": \"V\", \"value\": 3.5, 'independent_parameter': True}, \n",
    "    \"y\": {\"unit\": \"V\", \"value\": 8.0, 'independent_parameter': True}, \n",
    "    \"a\": {\"unit\": \"I\", \"value\": Delayed()}\n",
    "})\n",
    "\n",
    "store.add({\n",
    "    \"x\": {\"unit\": \"V\", \"value\": 3.5, 'independent_parameter': True}, \n",
    "    \"y\": {\"unit\": \"V\", \"value\": 8.1, 'independent_parameter': True}, \n",
    "    \"a\": {\"unit\": \"I\", \"value\": DelayedArray([[4.5, 3.4E-2], [-1.2, 9.0E-3], [-6.2, 2.0E-3]])}\n",
    "})\n",
    "\n",
    "store.add({\n",
    "    \"x\": {\"unit\": \"V\", \"value\": -4.1, 'independent_parameter': True}, \n",
    "    \"y\": {\"unit\": \"V\", \"value\": -6.7, 'independent_parameter': True}, \n",
    "    \"a\": {\"unit\": \"I\", \"value\": Delayed()}\n",
    "})\n",
    "\n",
    "store.add({\n",
    "    \"x\": {\"unit\": \"V\", \"value\": -3.5, 'independent_parameter': True}, \n",
    "    \"y\": {\"unit\": \"V\", \"value\": -8.0, 'independent_parameter': True}, \n",
    "    \"a\": {\"unit\": \"I\", \"value\": Delayed()}\n",
    "})\n",
    "\n",
    "store.add({\n",
    "    \"x\": {\"unit\": \"V\", \"value\": -3.5, 'independent_parameter': True}, \n",
    "    \"y\": {\"unit\": \"V\", \"value\": -8.1, 'independent_parameter': True}, \n",
    "    \"a\": {\"unit\": \"I\", \"value\": DelayedArray([[-4.5, -3.4E-2], [1.2, -9.0E-3], [6.2, 2.0E-3]])}\n",
    "})"
   ]
  },
  {
   "cell_type": "code",
   "execution_count": 15,
   "metadata": {},
   "outputs": [
    {
     "data": {
      "text/plain": [
       "array([[  4.50000000e+00,   3.40000000e-02],\n",
       "       [ -1.20000000e+00,   9.00000000e-03],\n",
       "       [ -6.20000000e+00,   2.00000000e-03],\n",
       "       [ -4.50000000e+00,  -3.40000000e-02],\n",
       "       [  1.20000000e+00,  -9.00000000e-03],\n",
       "       [  6.20000000e+00,   2.00000000e-03]])"
      ]
     },
     "execution_count": 15,
     "metadata": {},
     "output_type": "execute_result"
    }
   ],
   "source": [
    "store[\"a\"][\"a [I]\"]"
   ]
  },
  {
   "cell_type": "code",
   "execution_count": 16,
   "metadata": {},
   "outputs": [
    {
     "data": {
      "text/plain": [
       "array([[ 4.1],\n",
       "       [ 3.5],\n",
       "       [ 3.5],\n",
       "       [-4.1],\n",
       "       [-3.5],\n",
       "       [-3.5]])"
      ]
     },
     "execution_count": 16,
     "metadata": {},
     "output_type": "execute_result"
    }
   ],
   "source": [
    "store[\"a\"][\"x [V]\"]"
   ]
  },
  {
   "cell_type": "code",
   "execution_count": 17,
   "metadata": {},
   "outputs": [
    {
     "data": {
      "text/plain": [
       "array([[ 6.7],\n",
       "       [ 8. ],\n",
       "       [ 8.1],\n",
       "       [-6.7],\n",
       "       [-8. ],\n",
       "       [-8.1]])"
      ]
     },
     "execution_count": 17,
     "metadata": {},
     "output_type": "execute_result"
    }
   ],
   "source": [
    "store[\"a\"][\"y [V]\"]"
   ]
  },
  {
   "cell_type": "code",
   "execution_count": 18,
   "metadata": {
    "collapsed": true
   },
   "outputs": [],
   "source": [
    "store = NpStore()"
   ]
  },
  {
   "cell_type": "code",
   "execution_count": 19,
   "metadata": {
    "collapsed": true
   },
   "outputs": [],
   "source": [
    "store.dataset({\n",
    "    \"x\": {\"unit\": \"V\", \"value\": np.arange(100), 'independent_parameter': True}, \n",
    "    \"y\": {\"unit\": \"V\", \"value\": np.arange(100), 'independent_parameter': True}, \n",
    "    \"a\": {\"unit\": \"I\", \"value\": np.linspace(-1, 1, 100)}, \n",
    "    \"b\": {\"unit\": \"I\", \"value\": np.linspace(-3, 2, 100)}, \n",
    "})"
   ]
  },
  {
   "cell_type": "code",
   "execution_count": 20,
   "metadata": {},
   "outputs": [
    {
     "data": {
      "text/plain": [
       "array([[-1.        ],\n",
       "       [-0.97979798],\n",
       "       [-0.95959596],\n",
       "       [-0.93939394],\n",
       "       [-0.91919192],\n",
       "       [-0.8989899 ],\n",
       "       [-0.87878788],\n",
       "       [-0.85858586],\n",
       "       [-0.83838384],\n",
       "       [-0.81818182],\n",
       "       [-0.7979798 ],\n",
       "       [-0.77777778],\n",
       "       [-0.75757576],\n",
       "       [-0.73737374],\n",
       "       [-0.71717172],\n",
       "       [-0.6969697 ],\n",
       "       [-0.67676768],\n",
       "       [-0.65656566],\n",
       "       [-0.63636364],\n",
       "       [-0.61616162],\n",
       "       [-0.5959596 ],\n",
       "       [-0.57575758],\n",
       "       [-0.55555556],\n",
       "       [-0.53535354],\n",
       "       [-0.51515152],\n",
       "       [-0.49494949],\n",
       "       [-0.47474747],\n",
       "       [-0.45454545],\n",
       "       [-0.43434343],\n",
       "       [-0.41414141],\n",
       "       [-0.39393939],\n",
       "       [-0.37373737],\n",
       "       [-0.35353535],\n",
       "       [-0.33333333],\n",
       "       [-0.31313131],\n",
       "       [-0.29292929],\n",
       "       [-0.27272727],\n",
       "       [-0.25252525],\n",
       "       [-0.23232323],\n",
       "       [-0.21212121],\n",
       "       [-0.19191919],\n",
       "       [-0.17171717],\n",
       "       [-0.15151515],\n",
       "       [-0.13131313],\n",
       "       [-0.11111111],\n",
       "       [-0.09090909],\n",
       "       [-0.07070707],\n",
       "       [-0.05050505],\n",
       "       [-0.03030303],\n",
       "       [-0.01010101],\n",
       "       [ 0.01010101],\n",
       "       [ 0.03030303],\n",
       "       [ 0.05050505],\n",
       "       [ 0.07070707],\n",
       "       [ 0.09090909],\n",
       "       [ 0.11111111],\n",
       "       [ 0.13131313],\n",
       "       [ 0.15151515],\n",
       "       [ 0.17171717],\n",
       "       [ 0.19191919],\n",
       "       [ 0.21212121],\n",
       "       [ 0.23232323],\n",
       "       [ 0.25252525],\n",
       "       [ 0.27272727],\n",
       "       [ 0.29292929],\n",
       "       [ 0.31313131],\n",
       "       [ 0.33333333],\n",
       "       [ 0.35353535],\n",
       "       [ 0.37373737],\n",
       "       [ 0.39393939],\n",
       "       [ 0.41414141],\n",
       "       [ 0.43434343],\n",
       "       [ 0.45454545],\n",
       "       [ 0.47474747],\n",
       "       [ 0.49494949],\n",
       "       [ 0.51515152],\n",
       "       [ 0.53535354],\n",
       "       [ 0.55555556],\n",
       "       [ 0.57575758],\n",
       "       [ 0.5959596 ],\n",
       "       [ 0.61616162],\n",
       "       [ 0.63636364],\n",
       "       [ 0.65656566],\n",
       "       [ 0.67676768],\n",
       "       [ 0.6969697 ],\n",
       "       [ 0.71717172],\n",
       "       [ 0.73737374],\n",
       "       [ 0.75757576],\n",
       "       [ 0.77777778],\n",
       "       [ 0.7979798 ],\n",
       "       [ 0.81818182],\n",
       "       [ 0.83838384],\n",
       "       [ 0.85858586],\n",
       "       [ 0.87878788],\n",
       "       [ 0.8989899 ],\n",
       "       [ 0.91919192],\n",
       "       [ 0.93939394],\n",
       "       [ 0.95959596],\n",
       "       [ 0.97979798],\n",
       "       [ 1.        ]])"
      ]
     },
     "execution_count": 20,
     "metadata": {},
     "output_type": "execute_result"
    }
   ],
   "source": [
    "store[\"a\"][\"a [I]\"]"
   ]
  },
  {
   "cell_type": "code",
   "execution_count": 21,
   "metadata": {},
   "outputs": [
    {
     "data": {
      "text/plain": [
       "array([[ 0],\n",
       "       [ 1],\n",
       "       [ 2],\n",
       "       [ 3],\n",
       "       [ 4],\n",
       "       [ 5],\n",
       "       [ 6],\n",
       "       [ 7],\n",
       "       [ 8],\n",
       "       [ 9],\n",
       "       [10],\n",
       "       [11],\n",
       "       [12],\n",
       "       [13],\n",
       "       [14],\n",
       "       [15],\n",
       "       [16],\n",
       "       [17],\n",
       "       [18],\n",
       "       [19],\n",
       "       [20],\n",
       "       [21],\n",
       "       [22],\n",
       "       [23],\n",
       "       [24],\n",
       "       [25],\n",
       "       [26],\n",
       "       [27],\n",
       "       [28],\n",
       "       [29],\n",
       "       [30],\n",
       "       [31],\n",
       "       [32],\n",
       "       [33],\n",
       "       [34],\n",
       "       [35],\n",
       "       [36],\n",
       "       [37],\n",
       "       [38],\n",
       "       [39],\n",
       "       [40],\n",
       "       [41],\n",
       "       [42],\n",
       "       [43],\n",
       "       [44],\n",
       "       [45],\n",
       "       [46],\n",
       "       [47],\n",
       "       [48],\n",
       "       [49],\n",
       "       [50],\n",
       "       [51],\n",
       "       [52],\n",
       "       [53],\n",
       "       [54],\n",
       "       [55],\n",
       "       [56],\n",
       "       [57],\n",
       "       [58],\n",
       "       [59],\n",
       "       [60],\n",
       "       [61],\n",
       "       [62],\n",
       "       [63],\n",
       "       [64],\n",
       "       [65],\n",
       "       [66],\n",
       "       [67],\n",
       "       [68],\n",
       "       [69],\n",
       "       [70],\n",
       "       [71],\n",
       "       [72],\n",
       "       [73],\n",
       "       [74],\n",
       "       [75],\n",
       "       [76],\n",
       "       [77],\n",
       "       [78],\n",
       "       [79],\n",
       "       [80],\n",
       "       [81],\n",
       "       [82],\n",
       "       [83],\n",
       "       [84],\n",
       "       [85],\n",
       "       [86],\n",
       "       [87],\n",
       "       [88],\n",
       "       [89],\n",
       "       [90],\n",
       "       [91],\n",
       "       [92],\n",
       "       [93],\n",
       "       [94],\n",
       "       [95],\n",
       "       [96],\n",
       "       [97],\n",
       "       [98],\n",
       "       [99]])"
      ]
     },
     "execution_count": 21,
     "metadata": {},
     "output_type": "execute_result"
    }
   ],
   "source": [
    "store[\"a\"][\"x [V]\"]"
   ]
  },
  {
   "cell_type": "code",
   "execution_count": 22,
   "metadata": {},
   "outputs": [
    {
     "data": {
      "text/plain": [
       "array([[ 0],\n",
       "       [ 1],\n",
       "       [ 2],\n",
       "       [ 3],\n",
       "       [ 4],\n",
       "       [ 5],\n",
       "       [ 6],\n",
       "       [ 7],\n",
       "       [ 8],\n",
       "       [ 9],\n",
       "       [10],\n",
       "       [11],\n",
       "       [12],\n",
       "       [13],\n",
       "       [14],\n",
       "       [15],\n",
       "       [16],\n",
       "       [17],\n",
       "       [18],\n",
       "       [19],\n",
       "       [20],\n",
       "       [21],\n",
       "       [22],\n",
       "       [23],\n",
       "       [24],\n",
       "       [25],\n",
       "       [26],\n",
       "       [27],\n",
       "       [28],\n",
       "       [29],\n",
       "       [30],\n",
       "       [31],\n",
       "       [32],\n",
       "       [33],\n",
       "       [34],\n",
       "       [35],\n",
       "       [36],\n",
       "       [37],\n",
       "       [38],\n",
       "       [39],\n",
       "       [40],\n",
       "       [41],\n",
       "       [42],\n",
       "       [43],\n",
       "       [44],\n",
       "       [45],\n",
       "       [46],\n",
       "       [47],\n",
       "       [48],\n",
       "       [49],\n",
       "       [50],\n",
       "       [51],\n",
       "       [52],\n",
       "       [53],\n",
       "       [54],\n",
       "       [55],\n",
       "       [56],\n",
       "       [57],\n",
       "       [58],\n",
       "       [59],\n",
       "       [60],\n",
       "       [61],\n",
       "       [62],\n",
       "       [63],\n",
       "       [64],\n",
       "       [65],\n",
       "       [66],\n",
       "       [67],\n",
       "       [68],\n",
       "       [69],\n",
       "       [70],\n",
       "       [71],\n",
       "       [72],\n",
       "       [73],\n",
       "       [74],\n",
       "       [75],\n",
       "       [76],\n",
       "       [77],\n",
       "       [78],\n",
       "       [79],\n",
       "       [80],\n",
       "       [81],\n",
       "       [82],\n",
       "       [83],\n",
       "       [84],\n",
       "       [85],\n",
       "       [86],\n",
       "       [87],\n",
       "       [88],\n",
       "       [89],\n",
       "       [90],\n",
       "       [91],\n",
       "       [92],\n",
       "       [93],\n",
       "       [94],\n",
       "       [95],\n",
       "       [96],\n",
       "       [97],\n",
       "       [98],\n",
       "       [99]])"
      ]
     },
     "execution_count": 22,
     "metadata": {},
     "output_type": "execute_result"
    }
   ],
   "source": [
    "store[\"a\"][\"y [V]\"]"
   ]
  },
  {
   "cell_type": "code",
   "execution_count": 23,
   "metadata": {
    "collapsed": true
   },
   "outputs": [],
   "source": [
    "store.add({\n",
    "    \"x\": {\"unit\": \"V\", \"value\": 100, 'independent_parameter': True}, \n",
    "    \"y\": {\"unit\": \"V\", \"value\": 100, 'independent_parameter': True}, \n",
    "    \"a\": {\"unit\": \"I\", \"value\": 1E-4}, \n",
    "    \"b\": {\"unit\": \"I\", \"value\": 2E-4}, \n",
    "})"
   ]
  },
  {
   "cell_type": "code",
   "execution_count": 24,
   "metadata": {},
   "outputs": [
    {
     "data": {
      "text/plain": [
       "array([ 0.0001])"
      ]
     },
     "execution_count": 24,
     "metadata": {},
     "output_type": "execute_result"
    }
   ],
   "source": [
    "store[\"a\"][\"a [I]\"][-1]"
   ]
  },
  {
   "cell_type": "code",
   "execution_count": 25,
   "metadata": {},
   "outputs": [
    {
     "data": {
      "text/plain": [
       "array([100])"
      ]
     },
     "execution_count": 25,
     "metadata": {},
     "output_type": "execute_result"
    }
   ],
   "source": [
    "store[\"a\"][\"x [V]\"][-1]"
   ]
  },
  {
   "cell_type": "code",
   "execution_count": 26,
   "metadata": {
    "collapsed": true
   },
   "outputs": [],
   "source": [
    "store = NpStore()"
   ]
  },
  {
   "cell_type": "code",
   "execution_count": 27,
   "metadata": {
    "collapsed": true
   },
   "outputs": [],
   "source": [
    "store.dataset({\n",
    "    \"x\": {\"unit\": \"V\", \"value\": np.arange(100), 'independent_parameter': True}, \n",
    "    \"y\": {\"unit\": \"V\", \"value\": np.arange(100), 'independent_parameter': True}, \n",
    "    \"a\": {\"unit\": \"I\", \"value\": np.linspace(-1, 1, 200).reshape((100, -1))}, \n",
    "    \"b\": {\"unit\": \"I\", \"value\": np.linspace(-3, 2, 200).reshape((100, -1))}, \n",
    "})"
   ]
  },
  {
   "cell_type": "code",
   "execution_count": 28,
   "metadata": {},
   "outputs": [
    {
     "data": {
      "text/plain": [
       "array([[-1.        , -0.98994975],\n",
       "       [-0.9798995 , -0.96984925],\n",
       "       [-0.95979899, -0.94974874],\n",
       "       [-0.93969849, -0.92964824],\n",
       "       [-0.91959799, -0.90954774],\n",
       "       [-0.89949749, -0.88944724],\n",
       "       [-0.87939698, -0.86934673],\n",
       "       [-0.85929648, -0.84924623],\n",
       "       [-0.83919598, -0.82914573],\n",
       "       [-0.81909548, -0.80904523],\n",
       "       [-0.79899497, -0.78894472],\n",
       "       [-0.77889447, -0.76884422],\n",
       "       [-0.75879397, -0.74874372],\n",
       "       [-0.73869347, -0.72864322],\n",
       "       [-0.71859296, -0.70854271],\n",
       "       [-0.69849246, -0.68844221],\n",
       "       [-0.67839196, -0.66834171],\n",
       "       [-0.65829146, -0.64824121],\n",
       "       [-0.63819095, -0.6281407 ],\n",
       "       [-0.61809045, -0.6080402 ],\n",
       "       [-0.59798995, -0.5879397 ],\n",
       "       [-0.57788945, -0.5678392 ],\n",
       "       [-0.55778894, -0.54773869],\n",
       "       [-0.53768844, -0.52763819],\n",
       "       [-0.51758794, -0.50753769],\n",
       "       [-0.49748744, -0.48743719],\n",
       "       [-0.47738693, -0.46733668],\n",
       "       [-0.45728643, -0.44723618],\n",
       "       [-0.43718593, -0.42713568],\n",
       "       [-0.41708543, -0.40703518],\n",
       "       [-0.39698492, -0.38693467],\n",
       "       [-0.37688442, -0.36683417],\n",
       "       [-0.35678392, -0.34673367],\n",
       "       [-0.33668342, -0.32663317],\n",
       "       [-0.31658291, -0.30653266],\n",
       "       [-0.29648241, -0.28643216],\n",
       "       [-0.27638191, -0.26633166],\n",
       "       [-0.25628141, -0.24623116],\n",
       "       [-0.2361809 , -0.22613065],\n",
       "       [-0.2160804 , -0.20603015],\n",
       "       [-0.1959799 , -0.18592965],\n",
       "       [-0.1758794 , -0.16582915],\n",
       "       [-0.15577889, -0.14572864],\n",
       "       [-0.13567839, -0.12562814],\n",
       "       [-0.11557789, -0.10552764],\n",
       "       [-0.09547739, -0.08542714],\n",
       "       [-0.07537688, -0.06532663],\n",
       "       [-0.05527638, -0.04522613],\n",
       "       [-0.03517588, -0.02512563],\n",
       "       [-0.01507538, -0.00502513],\n",
       "       [ 0.00502513,  0.01507538],\n",
       "       [ 0.02512563,  0.03517588],\n",
       "       [ 0.04522613,  0.05527638],\n",
       "       [ 0.06532663,  0.07537688],\n",
       "       [ 0.08542714,  0.09547739],\n",
       "       [ 0.10552764,  0.11557789],\n",
       "       [ 0.12562814,  0.13567839],\n",
       "       [ 0.14572864,  0.15577889],\n",
       "       [ 0.16582915,  0.1758794 ],\n",
       "       [ 0.18592965,  0.1959799 ],\n",
       "       [ 0.20603015,  0.2160804 ],\n",
       "       [ 0.22613065,  0.2361809 ],\n",
       "       [ 0.24623116,  0.25628141],\n",
       "       [ 0.26633166,  0.27638191],\n",
       "       [ 0.28643216,  0.29648241],\n",
       "       [ 0.30653266,  0.31658291],\n",
       "       [ 0.32663317,  0.33668342],\n",
       "       [ 0.34673367,  0.35678392],\n",
       "       [ 0.36683417,  0.37688442],\n",
       "       [ 0.38693467,  0.39698492],\n",
       "       [ 0.40703518,  0.41708543],\n",
       "       [ 0.42713568,  0.43718593],\n",
       "       [ 0.44723618,  0.45728643],\n",
       "       [ 0.46733668,  0.47738693],\n",
       "       [ 0.48743719,  0.49748744],\n",
       "       [ 0.50753769,  0.51758794],\n",
       "       [ 0.52763819,  0.53768844],\n",
       "       [ 0.54773869,  0.55778894],\n",
       "       [ 0.5678392 ,  0.57788945],\n",
       "       [ 0.5879397 ,  0.59798995],\n",
       "       [ 0.6080402 ,  0.61809045],\n",
       "       [ 0.6281407 ,  0.63819095],\n",
       "       [ 0.64824121,  0.65829146],\n",
       "       [ 0.66834171,  0.67839196],\n",
       "       [ 0.68844221,  0.69849246],\n",
       "       [ 0.70854271,  0.71859296],\n",
       "       [ 0.72864322,  0.73869347],\n",
       "       [ 0.74874372,  0.75879397],\n",
       "       [ 0.76884422,  0.77889447],\n",
       "       [ 0.78894472,  0.79899497],\n",
       "       [ 0.80904523,  0.81909548],\n",
       "       [ 0.82914573,  0.83919598],\n",
       "       [ 0.84924623,  0.85929648],\n",
       "       [ 0.86934673,  0.87939698],\n",
       "       [ 0.88944724,  0.89949749],\n",
       "       [ 0.90954774,  0.91959799],\n",
       "       [ 0.92964824,  0.93969849],\n",
       "       [ 0.94974874,  0.95979899],\n",
       "       [ 0.96984925,  0.9798995 ],\n",
       "       [ 0.98994975,  1.        ]])"
      ]
     },
     "execution_count": 28,
     "metadata": {},
     "output_type": "execute_result"
    }
   ],
   "source": [
    "store[\"a\"][\"a [I]\"]"
   ]
  },
  {
   "cell_type": "code",
   "execution_count": 29,
   "metadata": {
    "collapsed": true
   },
   "outputs": [],
   "source": [
    "store.add({\n",
    "    \"x\": {\"unit\": \"V\", \"value\": 100, 'independent_parameter': True}, \n",
    "    \"y\": {\"unit\": \"V\", \"value\": 100, 'independent_parameter': True}, \n",
    "    \"a\": {\"unit\": \"I\", \"value\": np.array([2.0, 3.0])}, \n",
    "})"
   ]
  },
  {
   "cell_type": "code",
   "execution_count": 30,
   "metadata": {},
   "outputs": [
    {
     "data": {
      "text/plain": [
       "array([ 2.,  3.])"
      ]
     },
     "execution_count": 30,
     "metadata": {},
     "output_type": "execute_result"
    }
   ],
   "source": [
    "store[\"a\"][\"a [I]\"][-1]"
   ]
  },
  {
   "cell_type": "code",
   "execution_count": null,
   "metadata": {
    "collapsed": true
   },
   "outputs": [],
   "source": []
  }
 ],
 "metadata": {
  "kernelspec": {
   "display_name": "Python 3",
   "language": "python",
   "name": "python3"
  },
  "language_info": {
   "codemirror_mode": {
    "name": "ipython",
    "version": 3
   },
   "file_extension": ".py",
   "mimetype": "text/x-python",
   "name": "python",
   "nbconvert_exporter": "python",
   "pygments_lexer": "ipython3",
   "version": "3.6.2"
  }
 },
 "nbformat": 4,
 "nbformat_minor": 2
}
