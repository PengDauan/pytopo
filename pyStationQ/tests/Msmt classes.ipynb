{
 "cells": [
  {
   "cell_type": "code",
   "execution_count": 1,
   "metadata": {
    "collapsed": true
   },
   "outputs": [],
   "source": [
    "import sys\n",
    "import numpy as np\n",
    "from matplotlib import pyplot as plt\n",
    "import h5py\n",
    "from collections import OrderedDict\n",
    "\n",
    "%matplotlib notebook"
   ]
  },
  {
   "cell_type": "code",
   "execution_count": 2,
   "metadata": {
    "collapsed": true
   },
   "outputs": [],
   "source": [
    "import qcodes as qc"
   ]
  },
  {
   "cell_type": "markdown",
   "metadata": {},
   "source": [
    "# Setup notes\n",
    "\n",
    "For this example to run, you need to have set up a labpython config file. There is a template in labpythonQDelft/templates."
   ]
  },
  {
   "cell_type": "code",
   "execution_count": 3,
   "metadata": {},
   "outputs": [
    {
     "ename": "NameError",
     "evalue": "name 'Data' is not defined",
     "output_type": "error",
     "traceback": [
      "\u001b[1;31m---------------------------------------------------------------------------\u001b[0m",
      "\u001b[1;31mNameError\u001b[0m                                 Traceback (most recent call last)",
      "\u001b[1;32m<ipython-input-3-f251c0ad0c68>\u001b[0m in \u001b[0;36m<module>\u001b[1;34m()\u001b[0m\n\u001b[0;32m      6\u001b[0m \u001b[0mreload\u001b[0m\u001b[1;33m(\u001b[0m\u001b[0mcfg\u001b[0m\u001b[1;33m)\u001b[0m\u001b[1;33m\u001b[0m\u001b[0m\n\u001b[0;32m      7\u001b[0m \u001b[1;33m\u001b[0m\u001b[0m\n\u001b[1;32m----> 8\u001b[1;33m \u001b[1;32mfrom\u001b[0m \u001b[0mexperiment\u001b[0m \u001b[1;32mimport\u001b[0m \u001b[0mmeasurement\u001b[0m\u001b[1;33m\u001b[0m\u001b[0m\n\u001b[0m\u001b[0;32m      9\u001b[0m \u001b[0mreload\u001b[0m\u001b[1;33m(\u001b[0m\u001b[0mmeasurement\u001b[0m\u001b[1;33m)\u001b[0m\u001b[1;33m\u001b[0m\u001b[0m\n\u001b[0;32m     10\u001b[0m \u001b[1;32mfrom\u001b[0m \u001b[0mexperiment\u001b[0m\u001b[1;33m.\u001b[0m\u001b[0mmeasurement\u001b[0m \u001b[1;32mimport\u001b[0m \u001b[0mParameter\u001b[0m\u001b[1;33m,\u001b[0m \u001b[0mBaseMeasurement\u001b[0m\u001b[1;33m\u001b[0m\u001b[0m\n",
      "\u001b[1;32m~\\code\\labpythonQDelft\\experiment\\measurement.py\u001b[0m in \u001b[0;36m<module>\u001b[1;34m()\u001b[0m\n\u001b[0;32m     43\u001b[0m \u001b[1;33m\u001b[0m\u001b[0m\n\u001b[0;32m     44\u001b[0m \u001b[1;33m\u001b[0m\u001b[0m\n\u001b[1;32m---> 45\u001b[1;33m \u001b[1;32mclass\u001b[0m \u001b[0mBaseMeasurement\u001b[0m\u001b[1;33m(\u001b[0m\u001b[0mInstrumentBase\u001b[0m\u001b[1;33m)\u001b[0m\u001b[1;33m:\u001b[0m\u001b[1;33m\u001b[0m\u001b[0m\n\u001b[0m\u001b[0;32m     46\u001b[0m \u001b[1;33m\u001b[0m\u001b[0m\n\u001b[0;32m     47\u001b[0m     \u001b[0mdata_cls\u001b[0m \u001b[1;33m=\u001b[0m \u001b[0mData\u001b[0m\u001b[1;33m\u001b[0m\u001b[0m\n",
      "\u001b[1;32m~\\code\\labpythonQDelft\\experiment\\measurement.py\u001b[0m in \u001b[0;36mBaseMeasurement\u001b[1;34m()\u001b[0m\n\u001b[0;32m     45\u001b[0m \u001b[1;32mclass\u001b[0m \u001b[0mBaseMeasurement\u001b[0m\u001b[1;33m(\u001b[0m\u001b[0mInstrumentBase\u001b[0m\u001b[1;33m)\u001b[0m\u001b[1;33m:\u001b[0m\u001b[1;33m\u001b[0m\u001b[0m\n\u001b[0;32m     46\u001b[0m \u001b[1;33m\u001b[0m\u001b[0m\n\u001b[1;32m---> 47\u001b[1;33m     \u001b[0mdata_cls\u001b[0m \u001b[1;33m=\u001b[0m \u001b[0mData\u001b[0m\u001b[1;33m\u001b[0m\u001b[0m\n\u001b[0m\u001b[0;32m     48\u001b[0m \u001b[1;33m\u001b[0m\u001b[0m\n\u001b[0;32m     49\u001b[0m     \u001b[1;32mdef\u001b[0m \u001b[0m__init__\u001b[0m\u001b[1;33m(\u001b[0m\u001b[0mself\u001b[0m\u001b[1;33m,\u001b[0m \u001b[0mstation\u001b[0m\u001b[1;33m,\u001b[0m \u001b[0mnamespace\u001b[0m\u001b[1;33m)\u001b[0m\u001b[1;33m:\u001b[0m\u001b[1;33m\u001b[0m\u001b[0m\n",
      "\u001b[1;31mNameError\u001b[0m: name 'Data' is not defined"
     ]
    }
   ],
   "source": [
    "from importlib import reload\n",
    "from qctools import instruments as instools\n",
    "reload(instools)\n",
    "\n",
    "import labpythonconfig as cfg\n",
    "reload(cfg)\n",
    "\n",
    "from experiment import measurement\n",
    "reload(measurement)\n",
    "from experiment.measurement import Parameter, BaseMeasurement"
   ]
  },
  {
   "cell_type": "code",
   "execution_count": null,
   "metadata": {
    "collapsed": true
   },
   "outputs": [],
   "source": [
    "from pysweep.data_storage import base_storage\n",
    "reload(base_storage)\n",
    "from pysweep.data_storage.base_storage import BaseStorage, DataSet\n",
    "\n",
    "from pysweep import sweep_object\n",
    "reload(sweep_object)\n",
    "from pysweep.sweep_object import sweep, ChainSweep"
   ]
  },
  {
   "cell_type": "code",
   "execution_count": null,
   "metadata": {
    "collapsed": true
   },
   "outputs": [],
   "source": [
    "station = qc.Station()"
   ]
  },
  {
   "cell_type": "code",
   "execution_count": null,
   "metadata": {
    "collapsed": true
   },
   "outputs": [],
   "source": [
    "class NameSpace:\n",
    "    pass\n",
    "\n",
    "namespace = NameSpace()"
   ]
  },
  {
   "cell_type": "code",
   "execution_count": null,
   "metadata": {
    "collapsed": true
   },
   "outputs": [],
   "source": []
  },
  {
   "cell_type": "code",
   "execution_count": null,
   "metadata": {
    "collapsed": true
   },
   "outputs": [],
   "source": [
    "class DummyMeasurement(BaseMeasurement):\n",
    "    def __init__(self, station, namespace):\n",
    "        super().__init__(station, namespace)\n",
    "        \n",
    "        self.add_parameter('start', Parameter)\n",
    "        self.add_parameter('stop', Parameter)\n",
    "        self.add_parameter('npts', Parameter)\n",
    "    \n",
    "    def measure(self):        \n",
    "        # set up loop\n",
    "        xpoints = np.linspace(self.start(), self.stop(), self.npts())\n",
    "        ypoints = np.linspace(self.start(), self.stop(), self.npts())\n",
    "                \n",
    "        # now populate in a primitive loop\n",
    "        for x in xpoints:\n",
    "            for y in ypoints:\n",
    "                \n",
    "                # acquire some data\n",
    "                z = np.cos(x) * np.cos(y) * np.linspace(0,1,3)\n",
    "\n",
    "                # add to dataset\n",
    "                self.data.add(OrderedDict(\n",
    "                        {'idx' : {'value' : np.arange(z.size).reshape(z.shape), 'independent_parameter' : True, },\n",
    "                         'y' : {'value' : y, 'independent_parameter' : True, 'unit' : 'V'},\n",
    "                         'x' : {'value' : x, 'independent_parameter' : True, 'unit' : 'V'},\n",
    "                         'z' : {'value' : z },\n",
    "                        }\n",
    "                ))\n",
    "                    \n",
    "\n",
    "m = DummyMeasurement(station, namespace)\n",
    "m.start(0)\n",
    "m.stop(10)\n",
    "m.npts(3)\n",
    "m.run()"
   ]
  },
  {
   "cell_type": "code",
   "execution_count": null,
   "metadata": {},
   "outputs": [],
   "source": [
    "m.data['z'].dtype"
   ]
  },
  {
   "cell_type": "code",
   "execution_count": null,
   "metadata": {
    "collapsed": true
   },
   "outputs": [],
   "source": []
  },
  {
   "cell_type": "code",
   "execution_count": null,
   "metadata": {
    "collapsed": true
   },
   "outputs": [],
   "source": [
    "voltage1 = 0\n",
    "voltage2 = 0\n",
    "\n",
    "def getv1():\n",
    "    global voltage1\n",
    "    return voltage1\n",
    "\n",
    "def setv1(v):\n",
    "    global voltage1\n",
    "    voltage1 = v\n",
    "\n",
    "def getv2():\n",
    "    global voltage2\n",
    "    return voltage2\n",
    "\n",
    "def setv2(v):\n",
    "    global voltage2\n",
    "    voltage2 = v\n",
    "\n",
    "v1 = qc.Parameter('voltage1', get_cmd=getv1, set_cmd=setv1)\n",
    "v2 = qc.Parameter('voltage2', get_cmd=getv2, set_cmd=setv2)\n",
    "\n",
    "station = qc.Station(v1, v2)"
   ]
  },
  {
   "cell_type": "code",
   "execution_count": null,
   "metadata": {
    "collapsed": true
   },
   "outputs": [],
   "source": [
    "class PysweepGrid(BaseMeasurement):\n",
    "    \n",
    "    def measure(self):\n",
    "        swp = []\n",
    "        for p, vals in self.sweep:\n",
    "            swp.append(sweep(p, vals))\n",
    "        swp.append(self.measure_datapoint)\n",
    "        \n",
    "        for rec in ChainSweep([tuple(swp)]):\n",
    "            self.data.add(rec)\n",
    "    \n",
    "\n",
    "class SimpleGrid(PysweepGrid):\n",
    "    \n",
    "    def measure_datapoint(self, station, namespace):\n",
    "        scale = np.linspace(0,1,3)\n",
    "        return OrderedDict({\n",
    "            'scale' : {'value' : scale, 'independent_parameter' : True, },\n",
    "            'data' : {'value' : (self.station.voltage1() + self.station.voltage2()**2) * scale},\n",
    "        })\n",
    "    \n",
    "    def sweep(self):\n",
    "        return\n",
    "    \n",
    "m = SimpleGrid(station, namespace)\n",
    "m.sweep = [\n",
    "    (m.station.voltage1, np.linspace(0,1,3)), \n",
    "    (m.station.voltage2, np.linspace(0,2,5)),\n",
    "]\n",
    "m.run()"
   ]
  },
  {
   "cell_type": "code",
   "execution_count": null,
   "metadata": {
    "collapsed": true
   },
   "outputs": [],
   "source": [
    "fn = m.datafilepath\n",
    "print(fn)"
   ]
  },
  {
   "cell_type": "code",
   "execution_count": null,
   "metadata": {},
   "outputs": [],
   "source": [
    "m.data['data'].dtype"
   ]
  },
  {
   "cell_type": "code",
   "execution_count": null,
   "metadata": {
    "collapsed": true
   },
   "outputs": [],
   "source": []
  }
 ],
 "metadata": {
  "kernelspec": {
   "display_name": "Python 3",
   "language": "python",
   "name": "python3"
  },
  "language_info": {
   "codemirror_mode": {
    "name": "ipython",
    "version": 3
   },
   "file_extension": ".py",
   "mimetype": "text/x-python",
   "name": "python",
   "nbconvert_exporter": "python",
   "pygments_lexer": "ipython3",
   "version": "3.6.2"
  }
 },
 "nbformat": 4,
 "nbformat_minor": 2
}
