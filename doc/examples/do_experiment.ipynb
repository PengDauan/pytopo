{
 "cells": [
  {
   "cell_type": "code",
   "execution_count": 1,
   "metadata": {},
   "outputs": [],
   "source": [
    "import numpy as np\n",
    "\n",
    "from pytopo.qctools.dataset2 import do_experiment, select_experiment\n",
    "from qcodes.sweep import sweep\n",
    "from qcodes import Parameter, Instrument"
   ]
  },
  {
   "cell_type": "code",
   "execution_count": 2,
   "metadata": {},
   "outputs": [],
   "source": [
    "class Function(Instrument): \n",
    "    def __init__(self, func): \n",
    "        super().__init__(func.__name__)\n",
    "        self._func = func\n",
    "        self._internal_state = None\n",
    "    \n",
    "        self.add_parameter(\n",
    "            \"x\", \n",
    "            set_cmd=self._set_state\n",
    "        )\n",
    "    \n",
    "        self.add_parameter(\n",
    "            \"y\", \n",
    "            get_cmd=lambda: self._func(self._internal_state)\n",
    "        )\n",
    "    \n",
    "    def _set_state(self, value): \n",
    "        self._internal_state = value\n",
    "        "
   ]
  },
  {
   "cell_type": "code",
   "execution_count": 3,
   "metadata": {},
   "outputs": [
    {
     "name": "stdout",
     "output_type": "stream",
     "text": [
      "setting up\n",
      "Starting experimental run with id: 15\n",
      "cleaning up\n"
     ]
    }
   ],
   "source": [
    "def f(x): \n",
    "    return np.exp(-x**2) * np.sin(7*x)\n",
    "\n",
    "d = Function(f)\n",
    "\n",
    "def setup(): \n",
    "    print(\"setting up\")\n",
    "\n",
    "def cleanup(): \n",
    "    print(\"cleaning up\")\n",
    "\n",
    "exp = select_experiment(\"test\", \"test_sample\")\n",
    "    \n",
    "data = do_experiment(\n",
    "    [setup], \n",
    "    sweep(d.x, np.linspace(-3, 3, 100))(d.y), \n",
    "    [cleanup], \n",
    "    experiment=exp\n",
    ")"
   ]
  },
  {
   "cell_type": "code",
   "execution_count": 4,
   "metadata": {},
   "outputs": [
    {
     "data": {
      "image/png": "[encoded data removed]",
      "text/plain": [
       "<matplotlib.figure.Figure at 0x212baf6ffd0>"
      ]
     },
     "metadata": {},
     "output_type": "display_data"
    }
   ],
   "source": [
    "data.plot()"
   ]
  },
  {
   "cell_type": "code",
   "execution_count": 5,
   "metadata": {},
   "outputs": [],
   "source": [
    "d = data[\"f_x\"]\n",
    "x = d[\"f_x\"]\n",
    "y = d[\"f_y\"]"
   ]
  },
  {
   "cell_type": "code",
   "execution_count": null,
   "metadata": {},
   "outputs": [],
   "source": []
  }
 ],
 "metadata": {
  "kernelspec": {
   "display_name": "Python 3",
   "language": "python",
   "name": "python3"
  },
  "language_info": {
   "codemirror_mode": {
    "name": "ipython",
    "version": 3
   },
   "file_extension": ".py",
   "mimetype": "text/x-python",
   "name": "python",
   "nbconvert_exporter": "python",
   "pygments_lexer": "ipython3",
   "version": "3.6.5"
  }
 },
 "nbformat": 4,
 "nbformat_minor": 2
}
