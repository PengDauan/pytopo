{
 "cells": [
  {
   "cell_type": "code",
   "execution_count": 3,
   "metadata": {},
   "outputs": [],
   "source": [
    "import time\n",
    "\n",
    "import numpy as np\n",
    "import matplotlib as mpl\n",
    "import pandas as pd\n",
    "\n",
    "import qcodes as qc\n",
    "\n",
    "from qcodes import Station, Parameter, ManualParameter, new_data_set, new_experiment, load_by_id\n",
    "from qcodes.dataset.measurements import Measurement\n",
    "from qcodes.dataset.plotting import plot_by_id\n",
    "from qcodes.dataset.data_export import get_shaped_data_by_runid, get_data_by_id"
   ]
  },
  {
   "cell_type": "markdown",
   "metadata": {},
   "source": [
    "__NOTE:__ this feature may not work. It is planned to make this feature work soon. However, feel free to contribute fixes for it."
   ]
  },
  {
   "cell_type": "markdown",
   "metadata": {},
   "source": [
    "This module provides a few tools for exporting data. In particular, we want to export from the v2 dataset to text files so we can use spyview. The module contains tools for exporting full datasets, and a dataset subscriber that incrementally stores data in a spyview format; this allows us to use spyview for live plotting."
   ]
  },
  {
   "cell_type": "code",
   "execution_count": 2,
   "metadata": {},
   "outputs": [],
   "source": [
    "from pytopo.qctools.dataset_export.spyview import export_dataset_to_spyview, SpyviewExporter"
   ]
  },
  {
   "cell_type": "markdown",
   "metadata": {},
   "source": [
    "We use a qcodes config entry to determine where we export data to. It accepts `time.strftime` formatting strings. Here we store everyting in a year-month/year-month-day subdirectory inside the current working directory."
   ]
  },
  {
   "cell_type": "code",
   "execution_count": 3,
   "metadata": {},
   "outputs": [],
   "source": [
    "qc.config['user']['data_export_dir'] = \"data/%Y-%m/%Y-%m-%d/\"\n",
    "qc.config.save_to_cwd()"
   ]
  },
  {
   "cell_type": "markdown",
   "metadata": {},
   "source": [
    "Usage of the subscriber is pretty straight-forward. It is instantiated using the data columns that we'd like to export, here 'z' and 'z2'. Note: all specified columns must have the same dependencies ('setpoints'); i.e., using 'c' together with 'z' will raise an error. In that case we'd need to use two different exporters."
   ]
  },
  {
   "cell_type": "code",
   "execution_count": 4,
   "metadata": {},
   "outputs": [
    {
     "name": "stdout",
     "output_type": "stream",
     "text": [
      "Starting experimental run with id: 1\n"
     ]
    }
   ],
   "source": [
    "station = Station()\n",
    "exp = new_experiment('an experiment', sample_name='not really a sample')\n",
    "\n",
    "m = Measurement()\n",
    "m.register_custom_parameter('x')\n",
    "m.register_custom_parameter('y')\n",
    "m.register_custom_parameter('z', setpoints=('x', 'y', ))\n",
    "m.register_custom_parameter('z2', setpoints=('x', 'y', ))\n",
    "m.register_custom_parameter('a')\n",
    "m.register_custom_parameter('c', setpoints=('a',))\n",
    "\n",
    "\n",
    "with m.run() as datasaver:\n",
    "    ds = datasaver.dataset\n",
    "    exporter = SpyviewExporter(ds, param_names=['z', 'z2'])\n",
    "    sub_id = ds.subscribe(exporter, min_wait=0, min_count=1)\n",
    "    \n",
    "    for j in range(10):\n",
    "        for i in range(12):\n",
    "            datasaver.add_result(('x', float(i)), \n",
    "                                 ('y', float(j)), \n",
    "                                 ('z', float(i) + j**.5),\n",
    "                                 ('z2', float(i)**.5 + j**.5),\n",
    "                                 ('a', float(i)),\n",
    "                                 ('c', i**2.))\n",
    "            time.sleep(0.1)\n",
    "    \n",
    "    run_id = datasaver.run_id"
   ]
  },
  {
   "cell_type": "markdown",
   "metadata": {},
   "source": [
    "If we have the `run_id` of a finished experiment run, we can also export data columns to spyview compatible .dat files."
   ]
  },
  {
   "cell_type": "code",
   "execution_count": 5,
   "metadata": {},
   "outputs": [],
   "source": [
    "ds = load_by_id(ds.run_id)\n",
    "\n",
    "export_dataset_to_spyview(ds, ['z', 'z2'])"
   ]
  }
 ],
 "metadata": {
  "hide_input": false,
  "kernelspec": {
   "display_name": "Python [conda env:qcodes]",
   "language": "python",
   "name": "conda-env-qcodes-py"
  },
  "language_info": {
   "codemirror_mode": {
    "name": "ipython",
    "version": 3
   },
   "file_extension": ".py",
   "mimetype": "text/x-python",
   "name": "python",
   "nbconvert_exporter": "python",
   "pygments_lexer": "ipython3",
   "version": "3.6.6"
  },
  "toc": {
   "base_numbering": 1,
   "nav_menu": {},
   "number_sections": true,
   "sideBar": true,
   "skip_h1_title": false,
   "title_cell": "Table of Contents",
   "title_sidebar": "Contents",
   "toc_cell": false,
   "toc_position": {},
   "toc_section_display": true,
   "toc_window_display": false
  },
  "varInspector": {
   "cols": {
    "lenName": 16,
    "lenType": 16,
    "lenVar": 40
   },
   "kernels_config": {
    "python": {
     "delete_cmd_postfix": "",
     "delete_cmd_prefix": "del ",
     "library": "var_list.py",
     "varRefreshCmd": "print(var_dic_list())"
    },
    "r": {
     "delete_cmd_postfix": ") ",
     "delete_cmd_prefix": "rm(",
     "library": "var_list.r",
     "varRefreshCmd": "cat(var_dic_list()) "
    }
   },
   "types_to_exclude": [
    "module",
    "function",
    "builtin_function_or_method",
    "instance",
    "_Feature"
   ],
   "window_display": false
  }
 },
 "nbformat": 4,
 "nbformat_minor": 2
}
