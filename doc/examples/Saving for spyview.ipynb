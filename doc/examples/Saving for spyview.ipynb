{
 "cells": [
  {
   "cell_type": "code",
   "execution_count": 1,
   "metadata": {},
   "outputs": [
    {
     "name": "stderr",
     "output_type": "stream",
     "text": [
      "C:\\Users\\wopfa\\AppData\\Local\\Continuum\\anaconda3\\lib\\site-packages\\h5py\\__init__.py:36: FutureWarning: Conversion of the second argument of issubdtype from `float` to `np.floating` is deprecated. In future, it will be treated as `np.float64 == np.dtype(float).type`.\n",
      "  from ._conv import register_converters as _register_converters\n"
     ]
    }
   ],
   "source": [
    "import time\n",
    "import numpy as np\n",
    "import matplotlib as mpl\n",
    "import qcodes as qc\n",
    "import pandas as pd\n",
    "\n",
    "from importlib import reload\n",
    "from qcodes import Station, Parameter, ManualParameter, new_data_set, new_experiment, load_by_id\n",
    "from qcodes.dataset.measurements import Measurement\n",
    "from qcodes.dataset.plotting import plot_by_id\n",
    "from qcodes.dataset.data_export import get_shaped_data_by_runid, get_data_by_id"
   ]
  },
  {
   "cell_type": "markdown",
   "metadata": {},
   "source": [
    "This module provides a few tools for exporting data. In particular, we want to export from the v2 dataset to text files so we can use spyview. The module contains tools for exporting full datasets, and a dataset subscriber that incrementally stores data in a spyview format; this allows us to use spyview for live plotting."
   ]
  },
  {
   "cell_type": "code",
   "execution_count": 2,
   "metadata": {},
   "outputs": [],
   "source": [
    "from pytopo.data import dataset_export as dse"
   ]
  },
  {
   "cell_type": "markdown",
   "metadata": {},
   "source": [
    "We use a qcodes config entry to determine where we export data to. It accepts `time.strftime` formatting strings. Here we store everyting in a year-month/year-month-day subdirectory inside the current working directory."
   ]
  },
  {
   "cell_type": "code",
   "execution_count": 3,
   "metadata": {},
   "outputs": [],
   "source": [
    "qc.config['user']['data_export_dir'] = \"data/%Y-%m/%Y-%m-%d/\"\n",
    "qc.config.save_to_cwd()"
   ]
  },
  {
   "cell_type": "markdown",
   "metadata": {},
   "source": [
    "Usage of the subscriber is pretty straight-forward. It is instantiated using the data columns that we'd like to export, here 'z' and 'z2'. Note: all specified columns must have the same dependencies ('setpoints'); i.e., using 'c' together with 'z' will raise an error. In that case we'd need to use two different exporters."
   ]
  },
  {
   "cell_type": "code",
   "execution_count": 4,
   "metadata": {},
   "outputs": [
    {
     "name": "stdout",
     "output_type": "stream",
     "text": [
      "Starting experimental run with id: 1\n"
     ]
    }
   ],
   "source": [
    "station = Station()\n",
    "exp = new_experiment('an experiment', sample_name='not really a sample')\n",
    "\n",
    "m = Measurement()\n",
    "m.register_custom_parameter('x')\n",
    "m.register_custom_parameter('y')\n",
    "m.register_custom_parameter('z', setpoints=('x', 'y', ))\n",
    "m.register_custom_parameter('z2', setpoints=('x', 'y', ))\n",
    "m.register_custom_parameter('a')\n",
    "m.register_custom_parameter('c', setpoints=('a',))\n",
    "\n",
    "\n",
    "with m.run() as datasaver:\n",
    "    ds = datasaver.dataset\n",
    "    exporter = dse.SpyviewExporter(ds, param_names=['z', 'z2'])\n",
    "    sub_id = ds.subscribe(exporter, min_wait=0, min_count=1)\n",
    "    \n",
    "    for j in range(10):\n",
    "        for i in range(12):\n",
    "            datasaver.add_result(('x', float(i)), \n",
    "                                 ('y', float(j)), \n",
    "                                 ('z', float(i) + j**.5),\n",
    "                                 ('z2', float(i)**.5 + j**.5),\n",
    "                                 ('a', float(i)),\n",
    "                                 ('c', i**2.))\n",
    "            time.sleep(0.1)\n",
    "    \n",
    "    run_id = datasaver.run_id"
   ]
  },
  {
   "cell_type": "markdown",
   "metadata": {},
   "source": [
    "If we have the `run_id` of a finished experiment run, we can also export data columns to spyview compatible .dat files."
   ]
  },
  {
   "cell_type": "code",
   "execution_count": 5,
   "metadata": {},
   "outputs": [],
   "source": [
    "ds = load_by_id(ds.run_id)\n",
    "dse.export_dataset_to_spyview(ds, ['z', 'z2'])"
   ]
  },
  {
   "cell_type": "code",
   "execution_count": null,
   "metadata": {},
   "outputs": [],
   "source": []
  },
  {
   "cell_type": "code",
   "execution_count": null,
   "metadata": {},
   "outputs": [],
   "source": []
  },
  {
   "cell_type": "code",
   "execution_count": null,
   "metadata": {},
   "outputs": [],
   "source": []
  }
 ],
 "metadata": {
  "hide_input": false,
  "kernelspec": {
   "display_name": "Python 3",
   "language": "python",
   "name": "python3"
  },
  "language_info": {
   "codemirror_mode": {
    "name": "ipython",
    "version": 3
   },
   "file_extension": ".py",
   "mimetype": "text/x-python",
   "name": "python",
   "nbconvert_exporter": "python",
   "pygments_lexer": "ipython3",
   "version": "3.6.4"
  },
  "toc": {
   "nav_menu": {},
   "number_sections": true,
   "sideBar": true,
   "skip_h1_title": false,
   "title_cell": "Table of Contents",
   "title_sidebar": "Contents",
   "toc_cell": false,
   "toc_position": {},
   "toc_section_display": true,
   "toc_window_display": false
  }
 },
 "nbformat": 4,
 "nbformat_minor": 2
}
