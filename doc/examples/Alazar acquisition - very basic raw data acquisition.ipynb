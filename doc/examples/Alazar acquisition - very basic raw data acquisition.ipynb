{
 "cells": [
  {
   "cell_type": "markdown",
   "metadata": {
    "toc": true
   },
   "source": [
    "<h1>Table of Contents<span class=\"tocSkip\"></span></h1>\n",
    "<div class=\"toc\"><ul class=\"toc-item\"><li><span><a href=\"#Introduction\" data-toc-modified-id=\"Introduction-1\"><span class=\"toc-item-num\">1&nbsp;&nbsp;</span>Introduction</a></span></li><li><span><a href=\"#Basic-Initialization\" data-toc-modified-id=\"Basic-Initialization-2\"><span class=\"toc-item-num\">2&nbsp;&nbsp;</span>Basic Initialization</a></span></li><li><span><a href=\"#Configure-Alazar\" data-toc-modified-id=\"Configure-Alazar-3\"><span class=\"toc-item-num\">3&nbsp;&nbsp;</span>Configure Alazar</a></span></li></ul></div>"
   ]
  },
  {
   "cell_type": "markdown",
   "metadata": {},
   "source": [
    "# Introduction"
   ]
  },
  {
   "cell_type": "markdown",
   "metadata": {},
   "source": [
    "This is a simple check to see if data gets taken correctly with the Alazar. It should work independently of the model (if all our code is correct ;)). \n",
    "\n",
    "Requirements for running:\n",
    "* a working Alazar\n",
    "* some reasonable (CW) signal coming in that we know in advance. (so we can compare with the DSO program)"
   ]
  },
  {
   "cell_type": "markdown",
   "metadata": {},
   "source": [
    "# Basic Initialization"
   ]
  },
  {
   "cell_type": "code",
   "execution_count": null,
   "metadata": {
    "ExecuteTime": {
     "end_time": "2018-07-12T13:35:06.425842Z",
     "start_time": "2018-07-12T13:35:06.135863Z"
    }
   },
   "outputs": [],
   "source": [
    "%matplotlib notebook\n",
    "\n",
    "from importlib import reload\n",
    "import numpy as np\n",
    "from matplotlib import pyplot as plt"
   ]
  },
  {
   "cell_type": "code",
   "execution_count": null,
   "metadata": {
    "ExecuteTime": {
     "end_time": "2018-07-12T13:35:07.705769Z",
     "start_time": "2018-07-12T13:35:06.825820Z"
    }
   },
   "outputs": [],
   "source": [
    "import qcodes as qc\n",
    "\n",
    "from pytopo.qctools.instruments import create_inst, add2station"
   ]
  },
  {
   "cell_type": "code",
   "execution_count": null,
   "metadata": {
    "ExecuteTime": {
     "end_time": "2018-07-12T13:35:09.538454Z",
     "start_time": "2018-07-12T13:35:07.705769Z"
    }
   },
   "outputs": [],
   "source": [
    "from qcodes.instrument_drivers.AlazarTech import ATS9360\n",
    "from qcodes.instrument_drivers.AlazarTech.ATS9360 import AlazarTech_ATS9360\n",
    "alazar = create_inst(AlazarTech_ATS9360, 'alazar', force_new_instance=True)\n",
    "\n",
    "from pytopo.rf import alazar_acquisition; reload(alazar_acquisition)\n",
    "from pytopo.rf.alazar_acquisition import RawAcqCtl\n",
    "raw_acq = create_inst(RawAcqCtl, 'raw_acq', 'alazar', force_new_instance=True)\n",
    "\n",
    "station = qc.Station(raw_acq)"
   ]
  },
  {
   "cell_type": "markdown",
   "metadata": {},
   "source": [
    "# Configure Alazar"
   ]
  },
  {
   "cell_type": "markdown",
   "metadata": {},
   "source": [
    "Check the model and basic properties."
   ]
  },
  {
   "cell_type": "code",
   "execution_count": null,
   "metadata": {
    "ExecuteTime": {
     "end_time": "2018-07-12T13:35:19.971021Z",
     "start_time": "2018-07-12T13:35:19.581050Z"
    }
   },
   "outputs": [],
   "source": [
    "alazar.IDN()"
   ]
  },
  {
   "cell_type": "markdown",
   "metadata": {},
   "source": [
    "Set some reasonable defaults for the card. Depends obviously on the model you're using, and the test signal."
   ]
  },
  {
   "cell_type": "code",
   "execution_count": null,
   "metadata": {
    "ExecuteTime": {
     "end_time": "2018-07-12T13:35:22.810863Z",
     "start_time": "2018-07-12T13:35:22.200896Z"
    }
   },
   "outputs": [],
   "source": [
    "with alazar.syncing():\n",
    "    alazar.clock_source('INTERNAL_CLOCK')\n",
    "    alazar.sample_rate(1e9)\n",
    "    alazar.clock_edge('CLOCK_EDGE_RISING')\n",
    "    alazar.external_sample_rate(int(1e9))\n",
    "    alazar.decimation(1)\n",
    "    \n",
    "    if alazar.IDN()['model'] != 'ATS9360':\n",
    "        alazar.coupling1('DC')\n",
    "        alazar.coupling2('DC')\n",
    "        alazar.channel_range1(0.1)\n",
    "        alazar.channel_range2(0.1)\n",
    "        \n",
    "    alazar.impedance1(50)\n",
    "    alazar.impedance2(50)\n",
    "    alazar.trigger_source1('CHANNEL_A')\n",
    "    alazar.trigger_level1(128 + 10)\n",
    "    alazar.external_trigger_coupling('DC')\n",
    "    alazar.external_trigger_range('ETR_2V5')\n",
    "    alazar.trigger_delay(0)\n",
    "    alazar.timeout_ticks(int(1e7))"
   ]
  },
  {
   "cell_type": "code",
   "execution_count": null,
   "metadata": {
    "ExecuteTime": {
     "end_time": "2018-07-12T13:35:29.720465Z",
     "start_time": "2018-07-12T13:35:29.590465Z"
    }
   },
   "outputs": [],
   "source": [
    "raw_acq.update_acquisitionkwargs(\n",
    "    samples_per_record=128*10,\n",
    "    records_per_buffer=10,\n",
    "    buffers_per_acquisition=1,\n",
    ")\n",
    "data = raw_acq.acquisition()\n",
    "print(data.shape)"
   ]
  },
  {
   "cell_type": "code",
   "execution_count": null,
   "metadata": {
    "ExecuteTime": {
     "end_time": "2018-07-12T13:38:47.362430Z",
     "start_time": "2018-07-12T13:38:47.082449Z"
    }
   },
   "outputs": [],
   "source": [
    "fig, ax = plt.subplots(1, 1)\n",
    "im = ax.imshow(data[0, :, :, 0], aspect='auto')\n",
    "cb = fig.colorbar(im)\n",
    "\n",
    "fig, ax = plt.subplots(1, 1)\n",
    "im = ax.imshow(data[0, :, :, 1], aspect='auto')\n",
    "cb = fig.colorbar(im)"
   ]
  },
  {
   "cell_type": "code",
   "execution_count": null,
   "metadata": {},
   "outputs": [],
   "source": []
  },
  {
   "cell_type": "code",
   "execution_count": null,
   "metadata": {},
   "outputs": [],
   "source": []
  },
  {
   "cell_type": "code",
   "execution_count": null,
   "metadata": {},
   "outputs": [],
   "source": []
  },
  {
   "cell_type": "code",
   "execution_count": null,
   "metadata": {},
   "outputs": [],
   "source": []
  },
  {
   "cell_type": "code",
   "execution_count": null,
   "metadata": {},
   "outputs": [],
   "source": []
  }
 ],
 "metadata": {
  "kernelspec": {
   "display_name": "Python [default]",
   "language": "python",
   "name": "python3"
  },
  "language_info": {
   "codemirror_mode": {
    "name": "ipython",
    "version": 3
   },
   "file_extension": ".py",
   "mimetype": "text/x-python",
   "name": "python",
   "nbconvert_exporter": "python",
   "pygments_lexer": "ipython3",
   "version": "3.6.6"
  },
  "toc": {
   "base_numbering": 1,
   "nav_menu": {},
   "number_sections": true,
   "sideBar": true,
   "skip_h1_title": false,
   "title_cell": "Table of Contents",
   "title_sidebar": "Contents",
   "toc_cell": true,
   "toc_position": {},
   "toc_section_display": true,
   "toc_window_display": true
  }
 },
 "nbformat": 4,
 "nbformat_minor": 2
}
