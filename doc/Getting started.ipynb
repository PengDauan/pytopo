{
 "cells": [
  {
   "cell_type": "markdown",
   "metadata": {},
   "source": [
    "Latest version of this document: 2018/03/22\n",
    "\n",
    "\n",
    "# Prerequisites\n",
    "\n",
    "\n",
    "## Software\n",
    "\n",
    "* Python\n",
    "    * The latest Anaconda is a good choice (https://www.anaconda.com/download/). The current version is 5.1. Important: we need Python 3.6.\n",
    "    * Required packages:\n",
    "        * Numpy/Scipy/Matplotlib\n",
    "        * h5py\n",
    "        * sqlite3\n",
    "        * pyvisa (install via pip)\n",
    "        \n",
    "* NI Software\n",
    "    * NI VISA and GPIB driver (NI-VISA, NI-488.2)"
   ]
  },
  {
   "cell_type": "code",
   "execution_count": null,
   "metadata": {},
   "outputs": [],
   "source": []
  }
 ],
 "metadata": {
  "hide_input": false,
  "kernelspec": {
   "display_name": "Python 3",
   "language": "python",
   "name": "python3"
  },
  "language_info": {
   "codemirror_mode": {
    "name": "ipython",
    "version": 3
   },
   "file_extension": ".py",
   "mimetype": "text/x-python",
   "name": "python",
   "nbconvert_exporter": "python",
   "pygments_lexer": "ipython3",
   "version": "3.6.4"
  },
  "toc": {
   "nav_menu": {},
   "number_sections": true,
   "sideBar": true,
   "skip_h1_title": false,
   "title_cell": "Table of Contents",
   "title_sidebar": "Contents",
   "toc_cell": false,
   "toc_position": {
    "height": "calc(100% - 180px)",
    "left": "10px",
    "top": "150px",
    "width": "254px"
   },
   "toc_section_display": true,
   "toc_window_display": true
  }
 },
 "nbformat": 4,
 "nbformat_minor": 2
}
