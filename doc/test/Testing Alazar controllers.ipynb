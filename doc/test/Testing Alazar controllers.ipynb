{
 "cells": [
  {
   "cell_type": "code",
   "execution_count": null,
   "metadata": {
    "ExecuteTime": {
     "end_time": "2018-10-12T11:46:56.151344Z",
     "start_time": "2018-10-12T11:46:54.758374Z"
    },
    "collapsed": true
   },
   "outputs": [],
   "source": [
    "%matplotlib notebook\n",
    "\n",
    "# %qtconsole\n",
    "\n",
    "import logging\n",
    "import time\n",
    "from importlib import reload\n",
    "\n",
    "from matplotlib import pyplot as plt\n",
    "from matplotlib import colors, cm\n",
    "import numpy as np\n",
    "\n",
    "import qcodes\n",
    "from qcodes.dataset.experiment_container import new_experiment"
   ]
  },
  {
   "cell_type": "code",
   "execution_count": null,
   "metadata": {
    "ExecuteTime": {
     "end_time": "2018-10-09T14:40:11.646008Z",
     "start_time": "2018-10-09T14:40:11.628994Z"
    },
    "collapsed": true
   },
   "outputs": [],
   "source": [
    "%qtconsole"
   ]
  },
  {
   "cell_type": "markdown",
   "metadata": {},
   "source": [
    "# Imports"
   ]
  },
  {
   "cell_type": "code",
   "execution_count": null,
   "metadata": {
    "ExecuteTime": {
     "end_time": "2018-10-12T11:46:58.383914Z",
     "start_time": "2018-10-12T11:46:58.326884Z"
    }
   },
   "outputs": [],
   "source": [
    "from pytopo.awg_sequencing import broadbean as bbtools; reload(bbtools)\n",
    "from pytopo.rf.alazar import acquisition_tools; reload(acquisition_tools)\n",
    "from pytopo.rf.alazar import awg_sequences; reload(awg_sequences)\n",
    "from pytopo.rf.alazar import acquisition_controllers; reload(acquisition_controllers)"
   ]
  },
  {
   "cell_type": "markdown",
   "metadata": {},
   "source": [
    "# Init"
   ]
  },
  {
   "cell_type": "markdown",
   "metadata": {},
   "source": [
    "## initialize station, create instruments"
   ]
  },
  {
   "cell_type": "code",
   "execution_count": null,
   "metadata": {
    "ExecuteTime": {
     "end_time": "2018-10-12T11:47:13.610862Z",
     "start_time": "2018-10-12T11:47:00.709936Z"
    }
   },
   "outputs": [],
   "source": [
    "%run -i D:/OneDrive/BF2/Code/BF2/BF2/init_station_cqed.py\n",
    "# %run -i D:/OneDrive/Setups/LK1/LK1_code/Code/LK1/LK1/init_station_cqed.py\n",
    "\n",
    "qc.config['core']['db_location'] = r\".\\experiments.db\""
   ]
  },
  {
   "cell_type": "code",
   "execution_count": null,
   "metadata": {
    "ExecuteTime": {
     "end_time": "2018-10-12T11:47:20.879902Z",
     "start_time": "2018-10-12T11:47:13.613865Z"
    }
   },
   "outputs": [],
   "source": [
    "raw_acq = instools.create_inst(acquisition_controllers.RawAcqCtl, \n",
    "                               'raw_acq', 'alazar',\n",
    "                               allocate_samples=1e9, \n",
    "                               force_new_instance=True)\n",
    "station = add2station(station, raw_acq)\n",
    "\n",
    "acquisition_controllers.PostDemodCtl._datadtype = np.int32\n",
    "post_demod_acq = instools.create_inst(acquisition_controllers.PostDemodCtl, \n",
    "                                      'post_demod_acq', 'alazar',\n",
    "                                      allocate_samples=1e9, \n",
    "                                      force_new_instance=True)\n",
    "station = add2station(station, post_demod_acq)\n",
    "\n",
    "post_iq_acq = instools.create_inst(acquisition_controllers.PostIQCtl, \n",
    "                                   'post_iq_acq', 'alazar',\n",
    "                                   allocate_samples=1e9, \n",
    "                                   force_new_instance=True)\n",
    "station = add2station(station, post_iq_acq)"
   ]
  },
  {
   "cell_type": "code",
   "execution_count": null,
   "metadata": {
    "ExecuteTime": {
     "end_time": "2018-10-12T11:47:20.900916Z",
     "start_time": "2018-10-12T11:47:20.882904Z"
    }
   },
   "outputs": [],
   "source": [
    "from qcodes.instrument_drivers.tektronix.AWG5014 import Tektronix_AWG5014\n",
    "from qcodes.instrument_drivers.tektronix.AWG5208 import AWG5208\n",
    "\n",
    "if isinstance(station.awg, Tektronix_AWG5014):\n",
    "    AWGTYPE = '5014'\n",
    "elif isinstance(station.awg, AWG5208):\n",
    "    AWGTYPE = '5208'\n",
    "else:\n",
    "    raise Exception('No usable AWG.')\n",
    "    \n",
    "print(AWGTYPE)"
   ]
  },
  {
   "cell_type": "markdown",
   "metadata": {
    "ExecuteTime": {
     "end_time": "2018-09-20T11:38:25.589714Z",
     "start_time": "2018-09-20T11:38:25.520664Z"
    },
    "heading_collapsed": true
   },
   "source": [
    "## Basic instrument config"
   ]
  },
  {
   "cell_type": "code",
   "execution_count": null,
   "metadata": {
    "ExecuteTime": {
     "end_time": "2018-10-12T09:57:47.292039Z",
     "start_time": "2018-10-12T09:57:46.968196Z"
    },
    "collapsed": true,
    "hidden": true
   },
   "outputs": [],
   "source": [
    "# adopt this for your case. different cards have different allowed ranges.\n",
    "with station.alazar.syncing():\n",
    "    station.alazar.channel_range1(0.4)\n",
    "    station.alazar.channel_range2(0.4)"
   ]
  },
  {
   "cell_type": "markdown",
   "metadata": {},
   "source": [
    "## Test sequence"
   ]
  },
  {
   "cell_type": "code",
   "execution_count": null,
   "metadata": {
    "ExecuteTime": {
     "end_time": "2018-10-12T09:57:51.233317Z",
     "start_time": "2018-10-12T09:57:51.224312Z"
    },
    "collapsed": true
   },
   "outputs": [],
   "source": [
    "from pytopo.rf.alazar.awg_sequences import AlazarTestSequence\n",
    "\n",
    "AlazarTestSequence.chan_map = {\n",
    "    1 : ['pulse', 'ats_trigger', None]\n",
    "}\n",
    "AlazarTestSequence.chan_settings = {\n",
    "    1 : {\n",
    "        'marker_hi' : [1.5, 1.5],\n",
    "        'marker_lo' : [-0.3, -0.3],\n",
    "        },\n",
    "}"
   ]
  },
  {
   "cell_type": "code",
   "execution_count": null,
   "metadata": {
    "ExecuteTime": {
     "end_time": "2018-10-12T09:57:55.800750Z",
     "start_time": "2018-10-12T09:57:52.133784Z"
    },
    "collapsed": true,
    "scrolled": false
   },
   "outputs": [],
   "source": [
    "N = 10\n",
    "pulse_times = [35e-6] * N\n",
    "amplitudes = np.arange(N) * 0.02 + 0.02\n",
    "frequencies = [1e6] * N\n",
    "phases = np.arange(N) * 2 * np.pi/N\n",
    "cycle_time = 40e-6\n",
    "\n",
    "test_seq = AlazarTestSequence(station.awg)\n",
    "test_seq.wait = 'off'\n",
    "test_seq.setup_awg(pulse_times=pulse_times, frequencies=frequencies, \n",
    "                   phases=phases, amplitudes=amplitudes, \n",
    "                   cycle_time=cycle_time, pre_trig_time=0.1e-6, trig_time=0.1e-6,\n",
    "                   plot=True)"
   ]
  },
  {
   "cell_type": "code",
   "execution_count": null,
   "metadata": {
    "ExecuteTime": {
     "end_time": "2018-09-25T20:40:24.845485Z",
     "start_time": "2018-09-25T20:40:24.838482Z"
    },
    "collapsed": true
   },
   "outputs": [],
   "source": []
  },
  {
   "cell_type": "markdown",
   "metadata": {
    "ExecuteTime": {
     "end_time": "2018-09-22T11:35:35.572799Z",
     "start_time": "2018-09-22T11:35:35.467725Z"
    }
   },
   "source": [
    "# Test basic controllers"
   ]
  },
  {
   "cell_type": "markdown",
   "metadata": {
    "heading_collapsed": true
   },
   "source": [
    "## Raw data"
   ]
  },
  {
   "cell_type": "code",
   "execution_count": null,
   "metadata": {
    "ExecuteTime": {
     "end_time": "2018-10-12T09:58:07.938318Z",
     "start_time": "2018-10-12T09:58:07.094928Z"
    },
    "collapsed": true,
    "hidden": true
   },
   "outputs": [],
   "source": [
    "ctl = raw_acq\n",
    "\n",
    "t_rep = 40e-6\n",
    "nsamples = 3840\n",
    "npts = int(1e3)\n",
    "nrecords = 100\n",
    "alloc_buffers = 10\n",
    "SR = 1e8\n",
    "\n",
    "t_total = npts * t_rep\n",
    "nbuffers = npts // nrecords\n",
    "\n",
    "t, data = acquisition_tools.time_acquisition(ctl, nsamples, nrecords, nbuffers, \n",
    "                                             alloc_buffers=alloc_buffers, SR=SR, t_total=t_total)"
   ]
  },
  {
   "cell_type": "code",
   "execution_count": null,
   "metadata": {
    "ExecuteTime": {
     "end_time": "2018-10-12T09:58:10.195835Z",
     "start_time": "2018-10-12T09:58:09.862634Z"
    },
    "collapsed": true,
    "hidden": true
   },
   "outputs": [],
   "source": [
    "fig, ax = plt.subplots(1, 1, figsize=(6,4))\n",
    "im = ax.imshow(data[0, 0, :, :, 0], cmap=cm.seismic, aspect='auto')\n",
    "cb = fig.colorbar(im)\n",
    "\n",
    "ax.set_xlabel('Sample')\n",
    "ax.set_ylabel('Record')\n",
    "\n",
    "fig, ax = plt.subplots(1, 1, figsize=(6,4))\n",
    "im = ax.imshow(data[0, -1, :, :, 0], cmap=cm.seismic, aspect='auto')\n",
    "cb = fig.colorbar(im)\n",
    "\n",
    "ax.set_xlabel('Sample')\n",
    "ax.set_ylabel('Record')"
   ]
  },
  {
   "cell_type": "code",
   "execution_count": null,
   "metadata": {
    "ExecuteTime": {
     "end_time": "2018-09-29T13:12:51.979218Z",
     "start_time": "2018-09-29T13:12:50.965538Z"
    },
    "collapsed": true,
    "hidden": true
   },
   "outputs": [],
   "source": [
    "# avgdata = data.mean(axis=0)\n",
    "\n",
    "# fig, ax = plt.subplots(1, 1)\n",
    "# ax.plot(avgdata[4, :, 0], 'o-')"
   ]
  },
  {
   "cell_type": "code",
   "execution_count": null,
   "metadata": {
    "collapsed": true,
    "hidden": true
   },
   "outputs": [],
   "source": [
    "# fig, ax = plt.subplots(1,1)\n",
    "# ax.plot(ctl.handling_times, 'o')\n",
    "# ax.set_xlabel('buffer')\n",
    "# ax.set_ylabel('handling time (ms)')"
   ]
  },
  {
   "cell_type": "markdown",
   "metadata": {},
   "source": [
    "## Post-acq. demodulation"
   ]
  },
  {
   "cell_type": "markdown",
   "metadata": {
    "heading_collapsed": true
   },
   "source": [
    "### Only demodulation"
   ]
  },
  {
   "cell_type": "code",
   "execution_count": null,
   "metadata": {
    "ExecuteTime": {
     "end_time": "2018-10-08T20:05:33.996950Z",
     "start_time": "2018-10-08T20:05:33.049244Z"
    },
    "collapsed": true,
    "hidden": true
   },
   "outputs": [],
   "source": [
    "ctl = post_demod_acq\n",
    "ctl.average_buffers(True)\n",
    "\n",
    "demod_frq = 1e6\n",
    "t_rep = 40e-6\n",
    "nsamples = 3840 - 128\n",
    "npts = int(1e4)\n",
    "nrecords = 100\n",
    "alloc_buffers = 10\n",
    "SR = 1e8\n",
    "\n",
    "t_total = npts * t_rep\n",
    "nbuffers = npts // nrecords\n",
    "\n",
    "t, data = acquisition_tools.time_acquisition(ctl, nsamples, nrecords, nbuffers, \n",
    "                                             alloc_buffers=alloc_buffers, \n",
    "                                             SR=SR, t_total=t_total)\n",
    "\n",
    "print(f'post_acquire time: {ctl.post_acquire_time:.2f} s')\n",
    "print('Data shape:', data.shape)"
   ]
  },
  {
   "cell_type": "code",
   "execution_count": null,
   "metadata": {
    "ExecuteTime": {
     "end_time": "2018-10-08T20:05:37.803211Z",
     "start_time": "2018-10-08T20:05:37.629091Z"
    },
    "collapsed": true,
    "hidden": true
   },
   "outputs": [],
   "source": [
    "iqdata = data.mean(axis=-2)\n",
    "mag = np.abs(iqdata)\n",
    "phase = np.angle(iqdata, deg=True)\n",
    "phase[phase < -180] += 360\n",
    "\n",
    "# fig, ax = plt.subplots(1,1)\n",
    "# ax.plot(mag[0, :, 0], 'o-')\n",
    "# ax.plot(mag[-1, :, 0] + 0.01, 'o-')\n",
    "\n",
    "# fig, ax = plt.subplots(1,1)\n",
    "# ax.plot(phase[0, :, 0], 'o-')\n",
    "# ax.plot(phase[-1, :, 0]+50, 'o-')\n",
    "\n",
    "fig, (ax, bx) = plt.subplots(2, 1, sharex='all')\n",
    "ax.plot(mag[0, 0, :, 0], 'o-')\n",
    "bx.plot(phase[0, 0, :, 0], 'o-')\n",
    "bx.set_xlabel('Record')\n",
    "ax.set_ylabel('Magnitude (V)')\n",
    "bx.set_ylabel('Phase (deg)')"
   ]
  },
  {
   "cell_type": "code",
   "execution_count": null,
   "metadata": {
    "collapsed": true,
    "hidden": true
   },
   "outputs": [],
   "source": []
  },
  {
   "cell_type": "markdown",
   "metadata": {
    "ExecuteTime": {
     "end_time": "2018-09-22T20:15:18.374718Z",
     "start_time": "2018-09-22T20:15:18.368715Z"
    }
   },
   "source": [
    "### Extracting I/Q"
   ]
  },
  {
   "cell_type": "code",
   "execution_count": null,
   "metadata": {
    "ExecuteTime": {
     "end_time": "2018-10-08T20:06:01.250587Z",
     "start_time": "2018-10-08T20:06:00.292760Z"
    },
    "collapsed": true
   },
   "outputs": [],
   "source": [
    "ctl = post_iq_acq\n",
    "ctl.average_buffers(True)\n",
    "ctl.buffers_per_block(None)\n",
    "ctl.integration_start(1.25e-6)\n",
    "ctl.integration_stop(11.25e-6)\n",
    "\n",
    "demod_frq = 1e6\n",
    "t_rep = 40e-6\n",
    "nsamples = 3840 - 128\n",
    "npts = int(1e4)\n",
    "nrecords = 100\n",
    "alloc_buffers = 10\n",
    "SR = 1e8\n",
    "\n",
    "t_total = npts * t_rep\n",
    "nbuffers = npts // nrecords\n",
    "\n",
    "t, data = acquisition_tools.time_acquisition(ctl, nsamples, nrecords, nbuffers, \n",
    "                                             alloc_buffers=alloc_buffers, \n",
    "                                             SR=SR, t_total=t_total)\n",
    "\n",
    "print(f'post_acquire time: {ctl.post_acquire_time:.2f} s')\n",
    "print('Data shape:', data.shape)"
   ]
  },
  {
   "cell_type": "code",
   "execution_count": null,
   "metadata": {
    "ExecuteTime": {
     "end_time": "2018-10-08T20:06:04.746733Z",
     "start_time": "2018-10-08T20:06:04.575614Z"
    },
    "collapsed": true
   },
   "outputs": [],
   "source": [
    "mag = np.abs(data)\n",
    "phase = np.angle(data, deg=True)\n",
    "phase[phase < -180] += 360\n",
    "\n",
    "# fig, ax = plt.subplots(1,1)\n",
    "# ax.plot(mag[0, :, 0], 'o-')\n",
    "# # ax.plot(mag[-1, :, 0] + 0.01, 'o-')\n",
    "\n",
    "# fig, ax = plt.subplots(1,1)\n",
    "# ax.plot(phase[0, :, 0], 'o-')\n",
    "# # ax.plot(phase[-1, :, 0]+50, 'o-')\n",
    "\n",
    "fig, (ax, bx) = plt.subplots(2, 1, sharex='all')\n",
    "ax.plot(mag[0, 0, :, 0], 'o-')\n",
    "bx.plot(phase[0, 0, :, 0], 'o-')\n",
    "bx.set_xlabel('Record')\n",
    "ax.set_ylabel('Magnitude (V)')\n",
    "bx.set_ylabel('Phase (deg)')"
   ]
  },
  {
   "cell_type": "markdown",
   "metadata": {
    "heading_collapsed": true
   },
   "source": [
    "### Extracting IQ and usage of buffer blocks"
   ]
  },
  {
   "cell_type": "code",
   "execution_count": null,
   "metadata": {
    "ExecuteTime": {
     "end_time": "2018-10-08T20:06:33.585371Z",
     "start_time": "2018-10-08T20:06:28.292773Z"
    },
    "collapsed": true,
    "hidden": true
   },
   "outputs": [],
   "source": [
    "from pytopo.rf.alazar.awg_sequences import TriggerSequence\n",
    "\n",
    "TriggerSequence.chan_map = {\n",
    "    1 : ['pulse', 'ats_trigger', None]\n",
    "}\n",
    "TriggerSequence.chan_settings = {\n",
    "    1 : {\n",
    "        'marker_hi' : [1.5, 1.5],\n",
    "        'marker_lo' : [-0.3, -0.3],\n",
    "        },\n",
    "}\n",
    "\n",
    "trig_seq = TriggerSequence(station.awg, SR=1e7)\n",
    "trig_seq.wait = 'first'\n",
    "trig_seq.setup_awg(cycle_time=1e-3, debug_signal=True, ncycles=6, plot=True)"
   ]
  },
  {
   "cell_type": "code",
   "execution_count": null,
   "metadata": {
    "ExecuteTime": {
     "end_time": "2018-10-08T20:06:36.510686Z",
     "start_time": "2018-10-08T20:06:36.504682Z"
    },
    "collapsed": true,
    "hidden": true
   },
   "outputs": [],
   "source": [
    "if AWGTYPE == '5208':\n",
    "    station.awg.ch1.awg_amplitude(1.0)\n",
    "else:\n",
    "    station.awg.ch1_amp(1.0)"
   ]
  },
  {
   "cell_type": "code",
   "execution_count": null,
   "metadata": {
    "ExecuteTime": {
     "end_time": "2018-10-08T20:06:40.065619Z",
     "start_time": "2018-10-08T20:06:39.538312Z"
    },
    "collapsed": true,
    "hidden": true
   },
   "outputs": [],
   "source": [
    "class MyPostIQCtl(acquisition_controllers.PostIQCtl):\n",
    "    \n",
    "    def _perform_step(self, num):        \n",
    "        awg = station.awg\n",
    "        if AWGTYPE == '5208':\n",
    "            while awg.run_state() != 'Waiting for trigger':\n",
    "                time.sleep(0.01)\n",
    "        else:\n",
    "            while awg.get_state() != 'Waiting for trigger':\n",
    "                time.sleep(0.01)\n",
    "                   \n",
    "        time.sleep(0.1)\n",
    "        if not (num+1) % self.buffers_per_block():\n",
    "            inc = (num+1) // self.buffers_per_block()\n",
    "            if AWGTYPE == '5208':\n",
    "                awg.ch1.awg_amplitude(0.25 + inc * 0.05)\n",
    "            else:\n",
    "                station.awg.ch1_amp(0.25 + inc * 0.05)\n",
    "            time.sleep(0.01)     \n",
    "            \n",
    "        if AWGTYPE == '5208':\n",
    "            awg.force_triggerA()\n",
    "        else:\n",
    "            awg.force_trigger()\n",
    "        \n",
    "    def pre_acquire(self):\n",
    "        super().pre_acquire()\n",
    "        self._perform_step(0)\n",
    "        self._perform_step(1)\n",
    "    \n",
    "    def buffer_done_callback(self, buffernum):\n",
    "        nextstep = buffernum + 2\n",
    "        self._perform_step(nextstep)\n",
    "\n",
    "my_iq_acq = instools.create_inst(MyPostIQCtl, \n",
    "                                 'my_iq_acq', 'alazar',\n",
    "                                 allocate_samples=1e7, \n",
    "                                 force_new_instance=True)"
   ]
  },
  {
   "cell_type": "code",
   "execution_count": null,
   "metadata": {
    "collapsed": true,
    "hidden": true
   },
   "outputs": [],
   "source": []
  },
  {
   "cell_type": "code",
   "execution_count": null,
   "metadata": {
    "ExecuteTime": {
     "end_time": "2018-10-08T20:07:03.349197Z",
     "start_time": "2018-10-08T20:06:44.769089Z"
    },
    "collapsed": true,
    "hidden": true
   },
   "outputs": [],
   "source": [
    "if AWGTYPE == '5208':\n",
    "    station.awg.ch1.awg_amplitude(0.25)\n",
    "else:\n",
    "    station.awg.ch1_amp(0.25)\n",
    "\n",
    "ctl = my_iq_acq\n",
    "ctl.average_buffers(True)\n",
    "ctl.buffers_per_block(10)\n",
    "\n",
    "demod_frq = 1e6\n",
    "t_rep = 1e-3\n",
    "nsamples = 100e-6 * 1e8 // 128 * 128\n",
    "nbuffers = 100\n",
    "nrecords = 6\n",
    "alloc_buffers = 10\n",
    "SR = 1e8\n",
    "\n",
    "t_total = nbuffers * t_rep\n",
    "\n",
    "t, data = acquisition_tools.time_acquisition(ctl, nsamples, nrecords, nbuffers, \n",
    "                                             alloc_buffers=alloc_buffers, \n",
    "                                             SR=SR, t_total=t_total)\n",
    "\n",
    "print(f'post_acquire time: {ctl.post_acquire_time:.2f} s')\n",
    "print('Data shape:', data.shape)"
   ]
  },
  {
   "cell_type": "code",
   "execution_count": null,
   "metadata": {
    "ExecuteTime": {
     "end_time": "2018-10-08T20:07:06.241300Z",
     "start_time": "2018-10-08T20:07:06.069178Z"
    },
    "collapsed": true,
    "hidden": true
   },
   "outputs": [],
   "source": [
    "mag = np.abs(data)\n",
    "phase = np.angle(data, deg=True)\n",
    "phase[phase < -180] += 360\n",
    "\n",
    "fig, ax = plt.subplots(1, 1, figsize=(6,4))\n",
    "im = ax.imshow(mag[:, 0, :, 0], cmap=cm.seismic, aspect='auto')\n",
    "cb = fig.colorbar(im)\n",
    "\n",
    "ax.set_xlabel('Record')\n",
    "ax.set_ylabel('Block')"
   ]
  },
  {
   "cell_type": "code",
   "execution_count": null,
   "metadata": {
    "collapsed": true,
    "hidden": true
   },
   "outputs": [],
   "source": []
  },
  {
   "cell_type": "markdown",
   "metadata": {},
   "source": [
    "# Using pytopo.sweep"
   ]
  },
  {
   "cell_type": "markdown",
   "metadata": {
    "heading_collapsed": true
   },
   "source": [
    "## Test sequence"
   ]
  },
  {
   "cell_type": "code",
   "execution_count": null,
   "metadata": {
    "ExecuteTime": {
     "end_time": "2018-10-08T20:09:17.787041Z",
     "start_time": "2018-10-08T20:09:11.016367Z"
    },
    "collapsed": true,
    "hidden": true
   },
   "outputs": [],
   "source": [
    "N = 10\n",
    "pulse_times = [35e-6] * N\n",
    "amplitudes = np.arange(N) * 0.02 + 0.02\n",
    "frequencies = [1e6] * N\n",
    "phases = np.arange(N) * 2 * np.pi/N\n",
    "cycle_time = 40e-6\n",
    "\n",
    "test_seq = AlazarTestSequence(station.awg)\n",
    "test_seq.wait = 'off'\n",
    "test_seq.setup_awg(pulse_times=pulse_times, frequencies=frequencies, \n",
    "                   phases=phases, amplitudes=amplitudes, \n",
    "                   cycle_time=cycle_time, pre_trig_time=0.1e-6, trig_time=0.1e-6,\n",
    "                   plot=True)"
   ]
  },
  {
   "cell_type": "markdown",
   "metadata": {},
   "source": [
    "## Intro: remind ourselves what sweep does"
   ]
  },
  {
   "cell_type": "code",
   "execution_count": null,
   "metadata": {
    "ExecuteTime": {
     "end_time": "2018-10-12T13:29:30.109542Z",
     "start_time": "2018-10-12T13:29:30.098534Z"
    },
    "collapsed": true
   },
   "outputs": [],
   "source": [
    "from qcodes.instrument.parameter import Parameter\n",
    "from qcodes.dataset.plotting import plot_by_id\n",
    "from qcodes.dataset.data_export import get_data_by_id\n",
    "\n",
    "from pytopo.sweep.base import Nest, Chain\n",
    "from pytopo.sweep.decorators import getter, setter\n",
    "from pytopo.sweep import sweep, do_experiment, hardsweep, measure"
   ]
  },
  {
   "cell_type": "code",
   "execution_count": null,
   "metadata": {
    "ExecuteTime": {
     "end_time": "2018-10-12T11:47:21.817939Z",
     "start_time": "2018-10-12T11:47:21.798928Z"
    },
    "collapsed": true
   },
   "outputs": [],
   "source": [
    "@setter(('a', 'M'), ('b', 'N'))\n",
    "def set_stuff(a, b):\n",
    "    print(f'Setting a = {a} and b = {b}')\n",
    "    return a, b\n",
    "\n",
    "@getter(('x', 'A'), ('y', 'B'))\n",
    "def measure_stuff():\n",
    "    print(f'Found x = 1, y = 10')\n",
    "    return 1, 10\n",
    "\n",
    "sweep_object = sweep(set_stuff, [(1, 2), (3, 4)])(\n",
    "    measure(measure_stuff)\n",
    ")"
   ]
  },
  {
   "cell_type": "code",
   "execution_count": null,
   "metadata": {
    "ExecuteTime": {
     "end_time": "2018-10-12T11:47:52.940077Z",
     "start_time": "2018-10-12T11:47:52.934074Z"
    }
   },
   "outputs": [],
   "source": [
    "for s in sweep_object:\n",
    "    print(s)"
   ]
  },
  {
   "cell_type": "markdown",
   "metadata": {},
   "source": [
    "## Simple Example: repeated time traces"
   ]
  },
  {
   "cell_type": "code",
   "execution_count": null,
   "metadata": {
    "ExecuteTime": {
     "end_time": "2018-10-12T13:51:48.112320Z",
     "start_time": "2018-10-12T13:51:21.988091Z"
    },
    "scrolled": false
   },
   "outputs": [],
   "source": [
    "from qcodes.dataset import measurements; reload(measurements)\n",
    "\n",
    "from pytopo.sweep import decorators; reload(decorators)\n",
    "from pytopo.sweep.decorators import getter, setter, hardsweep\n",
    "from pytopo.sweep import sweep, do_experiment, measure, call\n",
    "\n",
    "it = Parameter('iteration', set_cmd=None, initial_value=1)\n",
    "\n",
    "@hardsweep(ind=[('tvals', 'us', 'array')], dep=[('signal', 'V', 'array')])\n",
    "def alazar_timetrace(setup_controller=True):\n",
    "    time.sleep(0.5)\n",
    "    print(f'Iteration: {it()+1}', end='\\r')\n",
    "    \n",
    "    t_acq = 5e-6\n",
    "    SR = 1e8\n",
    "    \n",
    "    station = qcodes.Station.default\n",
    "    ctl = station.raw_acq\n",
    "    ctl.buffers_per_block(None)\n",
    "    \n",
    "    with station.alazar.syncing():\n",
    "        station.alazar.sample_rate(SR)\n",
    "        \n",
    "    if setup_controller:\n",
    "        ctl.setup_acquisition(samples=int(t_acq * SR // 128 * 128), records=1,\n",
    "                              buffers=2, verbose=False)\n",
    "        \n",
    "    data = np.squeeze(ctl.acquisition())[0,...,0]    \n",
    "    return ctl.tvals.reshape(-1) * 1e6, data.reshape(-1)\n",
    "\n",
    "\n",
    "so = sweep(it, range(20))(\n",
    "    alazar_timetrace(),\n",
    ")\n",
    "\n",
    "result = do_experiment(\"test_hardsweep/None\", so, live_plot=True)"
   ]
  },
  {
   "cell_type": "code",
   "execution_count": null,
   "metadata": {
    "ExecuteTime": {
     "end_time": "2018-10-12T13:52:12.834572Z",
     "start_time": "2018-10-12T13:52:12.557381Z"
    },
    "scrolled": false
   },
   "outputs": [],
   "source": [
    "plot_by_id(result.run_id)"
   ]
  },
  {
   "cell_type": "code",
   "execution_count": null,
   "metadata": {
    "collapsed": true
   },
   "outputs": [],
   "source": []
  },
  {
   "cell_type": "markdown",
   "metadata": {},
   "source": [
    "## Repeated IQ maps"
   ]
  },
  {
   "cell_type": "code",
   "execution_count": null,
   "metadata": {
    "ExecuteTime": {
     "end_time": "2018-10-12T14:24:46.285926Z",
     "start_time": "2018-10-12T14:24:39.649293Z"
    }
   },
   "outputs": [],
   "source": [
    "@hardsweep(\n",
    "    ind=[('column', '', 'array'), ('row', '', 'array')], \n",
    "    dep=[('magnitude', 'V', 'array'), ('phase', 'deg', 'array')]\n",
    ")\n",
    "def alazar_iq_test(nrows=10, ncols=10, navgs=1, setup_controller=True):\n",
    "    time.sleep(0.5)\n",
    "    print(f'Iteration: {it()+1}', end='\\r')\n",
    "    \n",
    "    t_acq = 15e-6\n",
    "    SR = 1e8\n",
    "    \n",
    "    station = qcodes.Station.default\n",
    "    ctl = station.post_iq_acq\n",
    "    ctl.buffers_per_block(None)\n",
    "    ctl.average_buffers(True)\n",
    "    ctl.integration_start(1.25e-6)\n",
    "    ctl.integration_stop(11.25e-6)\n",
    "    \n",
    "    with station.alazar.syncing():\n",
    "        station.alazar.sample_rate(SR)\n",
    "        \n",
    "    if setup_controller:\n",
    "        ctl.setup_acquisition(samples=int(t_acq * SR // 128 * 128), \n",
    "                              records=nrows*ncols,\n",
    "                              buffers=navgs, verbose=False)\n",
    "        \n",
    "    data = ctl.acquisition()\n",
    "    data = np.squeeze(data)[...,0].reshape(ncols, nrows)\n",
    "    mag, phase = np.abs(data), np.angle(data, deg=True)\n",
    "    cc, rr = np.meshgrid(np.arange(ncols), np.arange(nrows), indexing='ij')\n",
    "    \n",
    "    return ( np.vstack((cc.reshape(-1), rr.reshape(-1))), \n",
    "             np.vstack((mag.reshape(-1), phase.reshape(-1))) )\n",
    "\n",
    "\n",
    "so = sweep(it, range(3))(\n",
    "    alazar_iq_test(20, 20, 1),\n",
    ")\n",
    "\n",
    "result = do_experiment(\"test_hardsweep/None\", so, live_plot=True)"
   ]
  },
  {
   "cell_type": "code",
   "execution_count": null,
   "metadata": {
    "ExecuteTime": {
     "end_time": "2018-10-12T14:26:55.084827Z",
     "start_time": "2018-10-12T14:26:54.879682Z"
    },
    "collapsed": true
   },
   "outputs": [],
   "source": []
  },
  {
   "cell_type": "code",
   "execution_count": null,
   "metadata": {
    "collapsed": true
   },
   "outputs": [],
   "source": []
  }
 ],
 "metadata": {
  "kernelspec": {
   "display_name": "Python 3",
   "language": "python",
   "name": "python3"
  },
  "language_info": {
   "codemirror_mode": {
    "name": "ipython",
    "version": 3
   },
   "file_extension": ".py",
   "mimetype": "text/x-python",
   "name": "python",
   "nbconvert_exporter": "python",
   "pygments_lexer": "ipython3",
   "version": "3.6.3"
  },
  "toc": {
   "base_numbering": 1,
   "nav_menu": {},
   "number_sections": true,
   "sideBar": true,
   "skip_h1_title": false,
   "title_cell": "Table of Contents",
   "title_sidebar": "Contents",
   "toc_cell": false,
   "toc_position": {
    "height": "calc(100% - 180px)",
    "left": "10px",
    "top": "150px",
    "width": "295px"
   },
   "toc_section_display": true,
   "toc_window_display": true
  }
 },
 "nbformat": 4,
 "nbformat_minor": 2
}
