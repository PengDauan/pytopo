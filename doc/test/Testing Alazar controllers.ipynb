{
 "cells": [
  {
   "cell_type": "code",
   "execution_count": null,
   "metadata": {
    "ExecuteTime": {
     "end_time": "2018-09-29T13:11:48.419825Z",
     "start_time": "2018-09-29T13:11:46.764675Z"
    }
   },
   "outputs": [],
   "source": [
    "%matplotlib notebook\n",
    "\n",
    "# %qtconsole\n",
    "\n",
    "import logging\n",
    "import time\n",
    "from importlib import reload\n",
    "\n",
    "from matplotlib import pyplot as plt\n",
    "from matplotlib import colors, cm\n",
    "import numpy as np\n",
    "\n",
    "import qcodes"
   ]
  },
  {
   "cell_type": "code",
   "execution_count": null,
   "metadata": {
    "ExecuteTime": {
     "end_time": "2018-09-25T19:51:12.169563Z",
     "start_time": "2018-09-25T19:51:12.153550Z"
    }
   },
   "outputs": [],
   "source": [
    "%qtconsole"
   ]
  },
  {
   "cell_type": "markdown",
   "metadata": {},
   "source": [
    "# Imports"
   ]
  },
  {
   "cell_type": "code",
   "execution_count": null,
   "metadata": {
    "ExecuteTime": {
     "end_time": "2018-09-29T13:37:25.466837Z",
     "start_time": "2018-09-29T13:37:25.439817Z"
    }
   },
   "outputs": [],
   "source": [
    "from pytopo.awg_sequencing import broadbean as bbtools; reload(bbtools)\n",
    "from pytopo.rf.alazar import acquisition_tools; reload(acquisition_tools)\n",
    "from pytopo.rf.alazar import awg_sequences; reload(awg_sequences)\n",
    "from pytopo.rf.alazar import acquisition_controllers; reload(acquisition_controllers)"
   ]
  },
  {
   "cell_type": "markdown",
   "metadata": {},
   "source": [
    "# Init"
   ]
  },
  {
   "cell_type": "markdown",
   "metadata": {},
   "source": [
    "## initialize station, create instruments"
   ]
  },
  {
   "cell_type": "code",
   "execution_count": null,
   "metadata": {
    "ExecuteTime": {
     "end_time": "2018-09-29T13:12:04.688108Z",
     "start_time": "2018-09-29T13:11:52.190776Z"
    }
   },
   "outputs": [],
   "source": [
    "# %run -i D:/OneDrive/BF2/Code/BF2/BF2/init_station_cqed.py\n",
    "%run -i D:/OneDrive/Setups/LK1/LK1_code/Code/LK1/LK1/init_station_cqed.py"
   ]
  },
  {
   "cell_type": "code",
   "execution_count": null,
   "metadata": {
    "ExecuteTime": {
     "end_time": "2018-09-29T13:12:14.458598Z",
     "start_time": "2018-09-29T13:12:06.996380Z"
    }
   },
   "outputs": [],
   "source": [
    "raw_acq = instools.create_inst(acquisition_controllers.RawAcqCtl, \n",
    "                               'raw_acq', 'alazar',\n",
    "                               allocate_samples=1e9, \n",
    "                               force_new_instance=True)\n",
    "\n",
    "acquisition_controllers.PostDemodCtl._datadtype = np.int32\n",
    "post_demod_acq = instools.create_inst(acquisition_controllers.PostDemodCtl, \n",
    "                                      'post_demod_acq', 'alazar',\n",
    "                                      allocate_samples=1e9, \n",
    "                                      force_new_instance=True)\n",
    "\n",
    "post_iq_acq = instools.create_inst(acquisition_controllers.PostIQCtl, \n",
    "                                   'post_iq_acq', 'alazar',\n",
    "                                   allocate_samples=1e9, \n",
    "                                   force_new_instance=True)"
   ]
  },
  {
   "cell_type": "code",
   "execution_count": null,
   "metadata": {},
   "outputs": [],
   "source": [
    "from qcodes.instrument_drivers.tektronix.AWG5014 import Tektronix_AWG5014\n",
    "from qcodes.instrument_drivers.tektronix.AWG5208 import AWG5208\n",
    "\n",
    "if isinstance(station.awg, Tektronix_AWG5014):\n",
    "    AWGTYPE = '5014'\n",
    "elif isinstance(station.awg, AWG5208):\n",
    "    AWGTYPE = '5208'\n",
    "else:\n",
    "    raise Exception('No usable AWG.')\n",
    "    \n",
    "print(AWGTYPE)"
   ]
  },
  {
   "cell_type": "markdown",
   "metadata": {
    "ExecuteTime": {
     "end_time": "2018-09-20T11:38:25.589714Z",
     "start_time": "2018-09-20T11:38:25.520664Z"
    }
   },
   "source": [
    "## Basic instrument config"
   ]
  },
  {
   "cell_type": "code",
   "execution_count": null,
   "metadata": {},
   "outputs": [],
   "source": [
    "# adopt this for your case. different cards have different allowed ranges.\n",
    "with station.alazar.syncing():\n",
    "    station.alazar.channel_range1(1)\n",
    "    station.alazar.channel_range2(1)"
   ]
  },
  {
   "cell_type": "markdown",
   "metadata": {
    "heading_collapsed": true
   },
   "source": [
    "## Test sequence"
   ]
  },
  {
   "cell_type": "code",
   "execution_count": null,
   "metadata": {
    "ExecuteTime": {
     "end_time": "2018-09-29T13:12:16.280588Z",
     "start_time": "2018-09-29T13:12:16.271581Z"
    },
    "hidden": true
   },
   "outputs": [],
   "source": [
    "from pytopo.rf.alazar.awg_sequences import AlazarTestSequence\n",
    "\n",
    "AlazarTestSequence.chan_map = {\n",
    "    1 : ['pulse', 'ats_trigger', None]\n",
    "}\n",
    "AlazarTestSequence.chan_settings = {\n",
    "    1 : {\n",
    "        'marker_hi' : [1.5, 1.5],\n",
    "        'marker_lo' : [-0.3, -0.3],\n",
    "        },\n",
    "}"
   ]
  },
  {
   "cell_type": "code",
   "execution_count": null,
   "metadata": {
    "ExecuteTime": {
     "end_time": "2018-09-29T13:12:21.870090Z",
     "start_time": "2018-09-29T13:12:18.088151Z"
    },
    "hidden": true,
    "scrolled": false
   },
   "outputs": [],
   "source": [
    "N = 10\n",
    "pulse_times = [35e-6] * N\n",
    "amplitudes = np.arange(N) * 0.02 + 0.02\n",
    "frequencies = [1e6] * N\n",
    "phases = np.arange(N) * 2 * np.pi/N\n",
    "cycle_time = 40e-6\n",
    "\n",
    "test_seq = AlazarTestSequence(station.awg)\n",
    "test_seq.wait = 'off'\n",
    "test_seq.setup_awg(pulse_times=pulse_times, frequencies=frequencies, \n",
    "                   phases=phases, amplitudes=amplitudes, \n",
    "                   cycle_time=cycle_time, pre_trig_time=0.1e-6, trig_time=0.1e-6,\n",
    "                   plot=True)"
   ]
  },
  {
   "cell_type": "code",
   "execution_count": null,
   "metadata": {
    "ExecuteTime": {
     "end_time": "2018-09-25T20:40:24.845485Z",
     "start_time": "2018-09-25T20:40:24.838482Z"
    },
    "hidden": true
   },
   "outputs": [],
   "source": []
  },
  {
   "cell_type": "markdown",
   "metadata": {
    "ExecuteTime": {
     "end_time": "2018-09-22T11:35:35.572799Z",
     "start_time": "2018-09-22T11:35:35.467725Z"
    }
   },
   "source": [
    "# Test basic controllers"
   ]
  },
  {
   "cell_type": "markdown",
   "metadata": {},
   "source": [
    "## Raw data"
   ]
  },
  {
   "cell_type": "code",
   "execution_count": null,
   "metadata": {
    "ExecuteTime": {
     "end_time": "2018-09-29T13:12:42.018067Z",
     "start_time": "2018-09-29T13:12:38.851867Z"
    }
   },
   "outputs": [],
   "source": [
    "ctl = raw_acq\n",
    "\n",
    "t_rep = 40e-6\n",
    "nsamples = 3840\n",
    "npts = int(1e3)\n",
    "nrecords = 100\n",
    "alloc_buffers = 10\n",
    "SR = 1e8\n",
    "\n",
    "t_total = npts * t_rep\n",
    "nbuffers = npts // nrecords\n",
    "\n",
    "t, data = acquisition_tools.time_acquisition(ctl, nsamples, nrecords, nbuffers, \n",
    "                                             alloc_buffers=alloc_buffers, SR=SR, t_total=t_total)"
   ]
  },
  {
   "cell_type": "code",
   "execution_count": null,
   "metadata": {
    "ExecuteTime": {
     "end_time": "2018-09-29T13:12:46.044241Z",
     "start_time": "2018-09-29T13:12:45.718016Z"
    }
   },
   "outputs": [],
   "source": [
    "fig, ax = plt.subplots(1, 1, figsize=(6,4))\n",
    "im = ax.imshow(data[0, 0, :, :, 0], cmap=cm.seismic, aspect='auto')\n",
    "cb = fig.colorbar(im)\n",
    "\n",
    "ax.set_xlabel('Sample')\n",
    "ax.set_ylabel('Record')\n",
    "\n",
    "fig, ax = plt.subplots(1, 1, figsize=(6,4))\n",
    "im = ax.imshow(data[0, -1, :, :, 0], cmap=cm.seismic, aspect='auto')\n",
    "cb = fig.colorbar(im)\n",
    "\n",
    "ax.set_xlabel('Sample')\n",
    "ax.set_ylabel('Record')"
   ]
  },
  {
   "cell_type": "code",
   "execution_count": null,
   "metadata": {
    "ExecuteTime": {
     "end_time": "2018-09-29T13:12:51.979218Z",
     "start_time": "2018-09-29T13:12:50.965538Z"
    }
   },
   "outputs": [],
   "source": [
    "# avgdata = data.mean(axis=0)\n",
    "\n",
    "# fig, ax = plt.subplots(1, 1)\n",
    "# ax.plot(avgdata[4, :, 0], 'o-')"
   ]
  },
  {
   "cell_type": "code",
   "execution_count": null,
   "metadata": {},
   "outputs": [],
   "source": [
    "# fig, ax = plt.subplots(1,1)\n",
    "# ax.plot(ctl.handling_times, 'o')\n",
    "# ax.set_xlabel('buffer')\n",
    "# ax.set_ylabel('handling time (ms)')"
   ]
  },
  {
   "cell_type": "markdown",
   "metadata": {},
   "source": [
    "## Post-acq. demodulation"
   ]
  },
  {
   "cell_type": "markdown",
   "metadata": {},
   "source": [
    "### Only demodulation"
   ]
  },
  {
   "cell_type": "code",
   "execution_count": null,
   "metadata": {
    "ExecuteTime": {
     "end_time": "2018-09-25T20:46:29.657696Z",
     "start_time": "2018-09-25T20:46:25.087949Z"
    }
   },
   "outputs": [],
   "source": [
    "ctl = post_demod_acq\n",
    "ctl.average_buffers(True)\n",
    "\n",
    "demod_frq = 1e6\n",
    "t_rep = 40e-6\n",
    "nsamples = 3840 - 64\n",
    "npts = int(1e6)\n",
    "nrecords = 100\n",
    "alloc_buffers = 10\n",
    "SR = 1e8\n",
    "\n",
    "t_total = npts * t_rep\n",
    "nbuffers = npts // nrecords\n",
    "\n",
    "t, data = acquisition_tools.time_acquisition(ctl, nsamples, nrecords, nbuffers, \n",
    "                                             alloc_buffers=alloc_buffers, \n",
    "                                             SR=SR, t_total=t_total)\n",
    "\n",
    "print(f'post_acquire time: {ctl.post_acquire_time:.2f} s')\n",
    "print('Data shape:', data.shape)"
   ]
  },
  {
   "cell_type": "code",
   "execution_count": null,
   "metadata": {
    "ExecuteTime": {
     "end_time": "2018-09-25T20:46:33.875538Z",
     "start_time": "2018-09-25T20:46:33.705448Z"
    }
   },
   "outputs": [],
   "source": [
    "iqdata = data.mean(axis=-2)\n",
    "mag = np.abs(iqdata)\n",
    "phase = np.angle(iqdata, deg=True)\n",
    "phase[phase < -180] += 360\n",
    "\n",
    "# fig, ax = plt.subplots(1,1)\n",
    "# ax.plot(mag[0, :, 0], 'o-')\n",
    "# ax.plot(mag[-1, :, 0] + 0.01, 'o-')\n",
    "\n",
    "# fig, ax = plt.subplots(1,1)\n",
    "# ax.plot(phase[0, :, 0], 'o-')\n",
    "# ax.plot(phase[-1, :, 0]+50, 'o-')\n",
    "\n",
    "fig, (ax, bx) = plt.subplots(2, 1, sharex='all')\n",
    "ax.plot(mag[0, 0, :, 0], 'o-')\n",
    "bx.plot(phase[0, 0, :, 0], 'o-')\n",
    "bx.set_xlabel('Record')\n",
    "ax.set_ylabel('Magnitude (V)')\n",
    "bx.set_ylabel('Phase (deg)')"
   ]
  },
  {
   "cell_type": "code",
   "execution_count": null,
   "metadata": {},
   "outputs": [],
   "source": []
  },
  {
   "cell_type": "markdown",
   "metadata": {
    "ExecuteTime": {
     "end_time": "2018-09-22T20:15:18.374718Z",
     "start_time": "2018-09-22T20:15:18.368715Z"
    }
   },
   "source": [
    "### Extracting I/Q"
   ]
  },
  {
   "cell_type": "code",
   "execution_count": null,
   "metadata": {
    "ExecuteTime": {
     "end_time": "2018-09-25T20:50:51.407808Z",
     "start_time": "2018-09-25T20:50:46.861693Z"
    }
   },
   "outputs": [],
   "source": [
    "ctl = post_iq_acq\n",
    "ctl.average_buffers(True)\n",
    "ctl.buffers_per_block(None)\n",
    "ctl.integration_start(1.25e-6)\n",
    "ctl.integration_stop(11.25e-6)\n",
    "\n",
    "demod_frq = 1e6\n",
    "t_rep = 40e-6\n",
    "nsamples = 3840 - 64\n",
    "npts = int(1e5)\n",
    "nrecords = 100\n",
    "alloc_buffers = 10\n",
    "SR = 1e8\n",
    "\n",
    "t_total = npts * t_rep\n",
    "nbuffers = npts // nrecords\n",
    "\n",
    "t, data = acquisition_tools.time_acquisition(ctl, nsamples, nrecords, nbuffers, \n",
    "                                             alloc_buffers=alloc_buffers, \n",
    "                                             SR=SR, t_total=t_total)\n",
    "\n",
    "print(f'post_acquire time: {ctl.post_acquire_time:.2f} s')\n",
    "print('Data shape:', data.shape)"
   ]
  },
  {
   "cell_type": "code",
   "execution_count": null,
   "metadata": {
    "ExecuteTime": {
     "end_time": "2018-09-25T20:50:54.137972Z",
     "start_time": "2018-09-25T20:50:53.970859Z"
    }
   },
   "outputs": [],
   "source": [
    "mag = np.abs(data)\n",
    "phase = np.angle(data, deg=True)\n",
    "phase[phase < -180] += 360\n",
    "\n",
    "# fig, ax = plt.subplots(1,1)\n",
    "# ax.plot(mag[0, :, 0], 'o-')\n",
    "# # ax.plot(mag[-1, :, 0] + 0.01, 'o-')\n",
    "\n",
    "# fig, ax = plt.subplots(1,1)\n",
    "# ax.plot(phase[0, :, 0], 'o-')\n",
    "# # ax.plot(phase[-1, :, 0]+50, 'o-')\n",
    "\n",
    "fig, (ax, bx) = plt.subplots(2, 1, sharex='all')\n",
    "ax.plot(mag[0, 0, :, 0], 'o-')\n",
    "bx.plot(phase[0, 0, :, 0], 'o-')\n",
    "bx.set_xlabel('Record')\n",
    "ax.set_ylabel('Magnitude (V)')\n",
    "bx.set_ylabel('Phase (deg)')"
   ]
  },
  {
   "cell_type": "markdown",
   "metadata": {},
   "source": [
    "### Extracting IQ and usage of buffer blocks"
   ]
  },
  {
   "cell_type": "code",
   "execution_count": null,
   "metadata": {
    "ExecuteTime": {
     "end_time": "2018-09-29T13:41:17.771439Z",
     "start_time": "2018-09-29T13:41:14.971262Z"
    }
   },
   "outputs": [],
   "source": [
    "from pytopo.rf.alazar.awg_sequences import TriggerSequence\n",
    "\n",
    "TriggerSequence.chan_map = {\n",
    "    1 : ['pulse', 'ats_trigger', None]\n",
    "}\n",
    "TriggerSequence.chan_settings = {\n",
    "    1 : {\n",
    "        'marker_hi' : [1.5, 1.5],\n",
    "        'marker_lo' : [-0.3, -0.3],\n",
    "        },\n",
    "}\n",
    "\n",
    "trig_seq = TriggerSequence(station.awg, SR=1e7)\n",
    "trig_seq.wait = 'first'\n",
    "trig_seq.setup_awg(cycle_time=1e-3, debug_signal=True, ncycles=6, plot=True)"
   ]
  },
  {
   "cell_type": "code",
   "execution_count": null,
   "metadata": {
    "ExecuteTime": {
     "end_time": "2018-09-29T13:42:19.398690Z",
     "start_time": "2018-09-29T13:42:19.393698Z"
    }
   },
   "outputs": [],
   "source": [
    "if AWGTYPE == '5208':\n",
    "    station.awg.ch1.awg_amplitude(1.0)\n",
    "else:\n",
    "    station.awg.ch1_amp(1.0)"
   ]
  },
  {
   "cell_type": "code",
   "execution_count": null,
   "metadata": {
    "ExecuteTime": {
     "end_time": "2018-09-29T13:38:37.133489Z",
     "start_time": "2018-09-29T13:38:33.937264Z"
    }
   },
   "outputs": [],
   "source": [
    "class MyPostIQCtl(acquisition_controllers.PostIQCtl):\n",
    "    \n",
    "    def _perform_step(self, num):        \n",
    "        awg = station.awg\n",
    "        if AWGTYPE == '5208':\n",
    "            while awg.run_state() != 'Waiting for trigger':\n",
    "                time.sleep(0.01)\n",
    "        else:\n",
    "            while awg.get_state() != 'Waiting for trigger':\n",
    "                time.sleep(0.01)\n",
    "                   \n",
    "        time.sleep(0.1)\n",
    "        if not (num+1) % self.buffers_per_block():\n",
    "            inc = (num+1) // self.buffers_per_block()\n",
    "            if AWGTYPE == '5208':\n",
    "                awg.ch1.awg_amplitude(0.25 + inc * 0.05)\n",
    "            else:\n",
    "                station.awg.ch1_amp(0.25 + inc * 0.05)\n",
    "            time.sleep(0.01)     \n",
    "            \n",
    "        if AWGTYPE == '5208':\n",
    "            awg.force_triggerA()\n",
    "        else:\n",
    "            awg.force_trigger()\n",
    "        \n",
    "    def pre_acquire(self):\n",
    "        super().pre_acquire()\n",
    "        self._perform_step(0)\n",
    "        self._perform_step(1)\n",
    "    \n",
    "    def buffer_done_callback(self, buffernum):\n",
    "        nextstep = buffernum + 2\n",
    "        self._perform_step(nextstep)\n",
    "\n",
    "my_iq_acq = instools.create_inst(MyPostIQCtl, \n",
    "                                 'my_iq_acq', 'alazar',\n",
    "                                 allocate_samples=1e7, \n",
    "                                 force_new_instance=True)"
   ]
  },
  {
   "cell_type": "code",
   "execution_count": null,
   "metadata": {},
   "outputs": [],
   "source": []
  },
  {
   "cell_type": "code",
   "execution_count": null,
   "metadata": {
    "ExecuteTime": {
     "end_time": "2018-09-29T13:38:46.868030Z",
     "start_time": "2018-09-29T13:38:38.999419Z"
    }
   },
   "outputs": [],
   "source": [
    "if AWGTYPE == '5208':\n",
    "    station.awg.ch1.awg_amplitude(0.25)\n",
    "else:\n",
    "    station.awg.ch1_amp(0.25)\n",
    "\n",
    "ctl = my_iq_acq\n",
    "ctl.average_buffers(True)\n",
    "ctl.buffers_per_block(10)\n",
    "\n",
    "demod_frq = 1e6\n",
    "t_rep = 1e-3\n",
    "nsamples = 100e-6 * 1e8 // 128 * 128\n",
    "nbuffers = 100\n",
    "nrecords = 6\n",
    "alloc_buffers = 10\n",
    "SR = 1e8\n",
    "\n",
    "t_total = nbuffers * t_rep\n",
    "\n",
    "t, data = acquisition_tools.time_acquisition(ctl, nsamples, nrecords, nbuffers, \n",
    "                                             alloc_buffers=alloc_buffers, \n",
    "                                             SR=SR, t_total=t_total)\n",
    "\n",
    "print(f'post_acquire time: {ctl.post_acquire_time:.2f} s')\n",
    "print('Data shape:', data.shape)"
   ]
  },
  {
   "cell_type": "code",
   "execution_count": null,
   "metadata": {
    "ExecuteTime": {
     "end_time": "2018-09-29T13:38:50.144617Z",
     "start_time": "2018-09-29T13:38:49.970500Z"
    }
   },
   "outputs": [],
   "source": [
    "mag = np.abs(data)\n",
    "phase = np.angle(data, deg=True)\n",
    "phase[phase < -180] += 360\n",
    "\n",
    "fig, ax = plt.subplots(1, 1, figsize=(6,4))\n",
    "im = ax.imshow(mag[:, 0, :, 0], cmap=cm.seismic, aspect='auto')\n",
    "cb = fig.colorbar(im)\n",
    "\n",
    "ax.set_xlabel('Record')\n",
    "ax.set_ylabel('Block')"
   ]
  },
  {
   "cell_type": "markdown",
   "metadata": {},
   "source": [
    "# Simplified data acquisition"
   ]
  },
  {
   "cell_type": "markdown",
   "metadata": {},
   "source": [
    "## Basic convenience functions"
   ]
  },
  {
   "cell_type": "code",
   "execution_count": null,
   "metadata": {
    "ExecuteTime": {
     "end_time": "2018-09-23T12:10:04.940815Z",
     "start_time": "2018-09-23T12:10:03.546745Z"
    }
   },
   "outputs": [],
   "source": [
    "data = simple_triggered_sweep_acquisition(100, 15e-6, navgs=10, SR=1e8,\n",
    "                                          pre_acq_func=start_awg_func, \n",
    "                                          post_acq_func=stop_awg_func)\n",
    "\n",
    "mag = np.abs(data)\n",
    "phase = np.angle(data, deg=True)\n",
    "phase[phase < -180] += 360\n",
    "\n",
    "fig, (ax, bx) = plt.subplots(2, 1, sharex='all')\n",
    "ax.plot(mag[0, :, 0], 'o-')\n",
    "bx.plot(phase[0, :, 0], 'o-')\n",
    "bx.set_xlabel('Record')\n",
    "ax.set_ylabel('Magnitude (V)')\n",
    "bx.set_ylabel('Phase (deg)')"
   ]
  },
  {
   "cell_type": "markdown",
   "metadata": {
    "ExecuteTime": {
     "end_time": "2018-09-23T12:01:31.173943Z",
     "start_time": "2018-09-23T12:01:31.165938Z"
    }
   },
   "source": [
    "## End-user functions"
   ]
  },
  {
   "cell_type": "code",
   "execution_count": null,
   "metadata": {
    "ExecuteTime": {
     "end_time": "2018-09-24T12:47:00.677322Z",
     "start_time": "2018-09-24T12:47:00.621289Z"
    }
   },
   "outputs": [],
   "source": [
    "def measure_test_sequence(ncycles, navgs, cycle_len=10, cycle_time=40e-6, SR=1e8):\n",
    "    awg = awg = qc.Instrument.find_instrument(qc.config['user']['instruments']['awg_name'])\n",
    "    \n",
    "    pulse_times = np.ones(cycle_len) * cycle_time - 3e-6\n",
    "    amplitudes = np.arange(cycle_len) * 0.02 + 0.02\n",
    "    frequencies = [1e6] * cycle_len\n",
    "    phases = np.arange(cycle_len) * 2 * np.pi/cycle_len    \n",
    "    \n",
    "    awg_test_sequence.make_test_sequence(awg, pulse_times, frequencies, phases, amplitudes, \n",
    "                                         cycle_time=cycle_time, pre_trig_time=1e-6, trig_time=1e-6,\n",
    "                                         plot=False, start_awg=False)\n",
    "    \n",
    "    data = simple_triggered_sweep_acquisition(ncycles*10, cycle_time-1e-6, navgs=10, SR=SR,\n",
    "                                              pre_acq_func=start_awg_func, \n",
    "                                              post_acq_func=stop_awg_func)\n",
    "\n",
    "    mag = np.abs(data)\n",
    "    phase = np.angle(data, deg=True)\n",
    "    phase[phase < -180] += 360\n",
    "    \n",
    "    return mag, phase"
   ]
  },
  {
   "cell_type": "code",
   "execution_count": null,
   "metadata": {
    "ExecuteTime": {
     "end_time": "2018-09-24T12:47:04.194491Z",
     "start_time": "2018-09-24T12:47:01.439670Z"
    }
   },
   "outputs": [],
   "source": [
    "mag, phase = measure_test_sequence(10, 1)\n",
    "\n",
    "fig, (ax, bx) = plt.subplots(2, 1, sharex='all')\n",
    "ax.plot(mag[0, :, 0], 'o-')\n",
    "bx.plot(phase[0, :, 0], 'o-')\n",
    "bx.set_xlabel('Record')\n",
    "ax.set_ylabel('Magnitude (V)')\n",
    "bx.set_ylabel('Phase (deg)')"
   ]
  },
  {
   "cell_type": "code",
   "execution_count": null,
   "metadata": {},
   "outputs": [],
   "source": []
  },
  {
   "cell_type": "markdown",
   "metadata": {},
   "source": [
    "# Scribbles"
   ]
  },
  {
   "cell_type": "code",
   "execution_count": null,
   "metadata": {},
   "outputs": [],
   "source": []
  }
 ],
 "metadata": {
  "kernelspec": {
   "display_name": "Python 3",
   "language": "python",
   "name": "python3"
  },
  "language_info": {
   "codemirror_mode": {
    "name": "ipython",
    "version": 3
   },
   "file_extension": ".py",
   "mimetype": "text/x-python",
   "name": "python",
   "nbconvert_exporter": "python",
   "pygments_lexer": "ipython3",
   "version": "3.6.6"
  },
  "toc": {
   "base_numbering": 1,
   "nav_menu": {},
   "number_sections": true,
   "sideBar": true,
   "skip_h1_title": false,
   "title_cell": "Table of Contents",
   "title_sidebar": "Contents",
   "toc_cell": false,
   "toc_position": {
    "height": "calc(100% - 180px)",
    "left": "10px",
    "top": "150px",
    "width": "295px"
   },
   "toc_section_display": true,
   "toc_window_display": true
  }
 },
 "nbformat": 4,
 "nbformat_minor": 2
}
