{
 "cells": [
  {
   "cell_type": "code",
   "execution_count": null,
   "metadata": {
    "ExecuteTime": {
     "end_time": "2018-10-05T18:09:26.544083Z",
     "start_time": "2018-10-05T18:09:16.990465Z"
    },
    "collapsed": true
   },
   "outputs": [],
   "source": [
    "%matplotlib notebook\n",
    "\n",
    "# %qtconsole\n",
    "\n",
    "import logging\n",
    "import time\n",
    "from importlib import reload\n",
    "\n",
    "from matplotlib import pyplot as plt\n",
    "from matplotlib import colors, cm\n",
    "import numpy as np\n",
    "\n",
    "import qcodes"
   ]
  },
  {
   "cell_type": "code",
   "execution_count": null,
   "metadata": {
    "collapsed": true
   },
   "outputs": [],
   "source": []
  },
  {
   "cell_type": "markdown",
   "metadata": {},
   "source": [
    "# Imports"
   ]
  },
  {
   "cell_type": "code",
   "execution_count": null,
   "metadata": {
    "collapsed": true
   },
   "outputs": [],
   "source": []
  },
  {
   "cell_type": "code",
   "execution_count": null,
   "metadata": {
    "collapsed": true
   },
   "outputs": [],
   "source": []
  },
  {
   "cell_type": "markdown",
   "metadata": {},
   "source": [
    "# Init"
   ]
  },
  {
   "cell_type": "markdown",
   "metadata": {
    "heading_collapsed": true
   },
   "source": [
    "## Init instruments and station"
   ]
  },
  {
   "cell_type": "code",
   "execution_count": null,
   "metadata": {
    "ExecuteTime": {
     "end_time": "2018-10-05T18:10:49.687284Z",
     "start_time": "2018-10-05T18:10:36.540684Z"
    },
    "hidden": true
   },
   "outputs": [],
   "source": [
    "%run -i D:/OneDrive/BF2/Code/BF2/BF2/init_station_cqed.py"
   ]
  },
  {
   "cell_type": "code",
   "execution_count": null,
   "metadata": {
    "ExecuteTime": {
     "end_time": "2018-10-05T18:41:55.582193Z",
     "start_time": "2018-10-05T18:41:54.539806Z"
    },
    "collapsed": true,
    "hidden": true
   },
   "outputs": [],
   "source": [
    "def simple_alazar_setup_ext_trigger(nsamples, nrecords, nbuffers, \n",
    "                                    allocated_buffers=2, \n",
    "                                    SR=1e8, int_time=None):\n",
    "    \"\"\"\n",
    "    Simple setting up of the alazar. This is basically just setting some\n",
    "    reasonable starting values when starting up the station.\n",
    "    Parameters:\n",
    "    -----------\n",
    "    nsamples : int\n",
    "        samples per record\n",
    "    nrecords : int\n",
    "        records per buffer\n",
    "    nbuffers : int\n",
    "        buffers per acquisition\n",
    "    allocated_buffers : int (default: 2)\n",
    "        allocated buffers\n",
    "    SR : float (default: 1e8)\n",
    "        sampling rate\n",
    "    int_time : float (default: None)\n",
    "        if not None, will try to compute number of samples that best corresponds\n",
    "        to this measurement time (taking mod 128 into account, and that we need at\n",
    "        least 256 samples per record). Overrrides nsamples if set.\n",
    "    \"\"\"\n",
    "    \n",
    "    alazar = qc.Instrument.find_instrument('alazar')\n",
    "    idn = alazar.get_idn()\n",
    "    \n",
    "    SR = int(SR)\n",
    "    if int_time is not None:\n",
    "        SPR = max(256, int(int_time * SR // 128 * 128))\n",
    "    else: \n",
    "        SPR = nsamples\n",
    "    \n",
    "    with alazar.syncing():\n",
    "        alazar.clock_source('INTERNAL_CLOCK')\n",
    "        alazar.sample_rate(SR)\n",
    "        alazar.clock_edge('CLOCK_EDGE_RISING')\n",
    "\n",
    "        if idn['model'] == 'ATS9870':\n",
    "            alazar.external_sample_rate(int(1e9))\n",
    "\n",
    "        alazar.decimation(1)\n",
    "        alazar.coupling1('DC')\n",
    "        alazar.coupling2('DC')\n",
    "\n",
    "        if idn['model'] == 'ATS9870':\n",
    "            crange = 0.1\n",
    "        elif idn['model'] in ['ATS9360', 'ATS9373']:\n",
    "            crange = 0.4\n",
    "        else:\n",
    "            raise ValueError(\"Don't know model\", idn['model'])\n",
    "        alazar.channel_range1(crange)\n",
    "        alazar.channel_range2(crange)\n",
    "        \n",
    "        alazar.impedance1(50)\n",
    "        alazar.impedance2(50)\n",
    "        alazar.trigger_source1('EXTERNAL')\n",
    "        alazar.trigger_level1(128 + 5)\n",
    "        alazar.external_trigger_coupling('DC')\n",
    "        \n",
    "        if idn['model'] == 'ATS9870':\n",
    "            trange = 'ETR_5V'\n",
    "        elif idn['model'] in ['ATS9360', 'ATS9373']:\n",
    "            trange = 'ETR_2V5'\n",
    "        else:\n",
    "            raise ValueError(\"Don't know model\", idn['model'])\n",
    "        alazar.external_trigger_range(trange)\n",
    "        \n",
    "        alazar.trigger_delay(0)\n",
    "        # alazar.timeout_ticks(int(1e7))\n",
    "        alazar.timeout_ticks(int(0))\n",
    "        alazar.records_per_buffer(nrecords)\n",
    "        alazar.buffers_per_acquisition(nbuffers)\n",
    "        alazar.buffer_timeout(10000)\n",
    "        alazar.samples_per_record(SPR)\n",
    "        alazar.allocated_buffers(allocated_buffers)\n",
    "    \n",
    "simple_alazar_setup_ext_trigger(1024, 1, 1)"
   ]
  },
  {
   "cell_type": "markdown",
   "metadata": {},
   "source": [
    "# Test sequence"
   ]
  },
  {
   "cell_type": "code",
   "execution_count": null,
   "metadata": {
    "ExecuteTime": {
     "end_time": "2018-10-05T18:26:25.109672Z",
     "start_time": "2018-10-05T18:26:23.519558Z"
    }
   },
   "outputs": [],
   "source": [
    "from cqed import bb_sequences; reload(bb_sequences)\n",
    "from cqed.bb_sequences import TriggeredReadoutSequence\n",
    "\n",
    "TriggeredReadoutSequence.chan_map = {\n",
    "    1 : ['debug_pulse', 'ro_trigger', None]\n",
    "}\n",
    "\n",
    "trig_seq = create_inst(TriggeredReadoutSequence, name='trigger_seq', awg=station.awg, force_new_instance=True)\n",
    "trig_seq.setup()"
   ]
  },
  {
   "cell_type": "markdown",
   "metadata": {},
   "source": [
    "# Load acquisition controllers"
   ]
  },
  {
   "cell_type": "code",
   "execution_count": null,
   "metadata": {
    "ExecuteTime": {
     "end_time": "2018-10-08T13:56:49.478836Z",
     "start_time": "2018-10-08T13:56:48.271999Z"
    }
   },
   "outputs": [],
   "source": [
    "from pytopo.rf import alazar_acquisition, alazar_detector\n",
    "reload(alazar_acquisition); reload(alazar_detector)\n",
    "\n",
    "raw_acq = create_inst(alazar_acquisition.RawAcqCtl, \n",
    "                      'raw_acq', 'alazar', force_new_instance=True)\n",
    "raw_det = create_inst(alazar_detector.AlazarDetector, \n",
    "                      'raw_det', raw_acq, force_new_instance=True)\n",
    "\n",
    "avg_demod_acq = create_inst(alazar_acquisition.AvgDemodCtl, \n",
    "                            'avg_demod_acq', 'alazar', force_new_instance=True)\n",
    "avg_demod_det = create_inst(alazar_detector.AlazarDetector, \n",
    "                            'avg_demod_det', avg_demod_acq, force_new_instance=True)\n",
    "\n",
    "demod_acq = create_inst(alazar_acquisition.DemodCtl, \n",
    "                        'demod_acq', 'alazar', force_new_instance=True)\n",
    "demod_det = create_inst(alazar_detector.AlazarDetector, \n",
    "                        'demod_det', demod_acq, sweep_params=[],\n",
    "                        force_new_instance=True,)"
   ]
  },
  {
   "cell_type": "markdown",
   "metadata": {},
   "source": [
    "# Raw acquisition"
   ]
  },
  {
   "cell_type": "code",
   "execution_count": null,
   "metadata": {
    "ExecuteTime": {
     "end_time": "2018-10-08T13:59:23.432580Z",
     "start_time": "2018-10-08T13:59:23.421569Z"
    },
    "collapsed": true
   },
   "outputs": [],
   "source": [
    "raw_det.set_sweeper(trig_seq)\n",
    "raw_det.avg_buffers(False)\n",
    "raw_det.acq_time(5e-6)\n",
    "\n",
    "raw_det.configure_alazar(\n",
    "    buffers_per_acquisition=2,\n",
    "    records_per_buffer=1,\n",
    ")\n",
    "\n",
    "raw_det.setup()"
   ]
  },
  {
   "cell_type": "code",
   "execution_count": null,
   "metadata": {
    "ExecuteTime": {
     "end_time": "2018-10-08T13:59:24.853333Z",
     "start_time": "2018-10-08T13:59:24.845322Z"
    }
   },
   "outputs": [],
   "source": [
    "trig_seq.sweep_dims, trig_seq.sweep_shape, raw_det.sweep_dims, raw_det.sweep_shape"
   ]
  },
  {
   "cell_type": "code",
   "execution_count": null,
   "metadata": {
    "ExecuteTime": {
     "end_time": "2018-10-08T13:59:26.214066Z",
     "start_time": "2018-10-08T13:59:26.158020Z"
    }
   },
   "outputs": [],
   "source": [
    "data = raw_det.acquisition()\n",
    "tvals = raw_acq.tvals\n",
    "data.shape, raw_det.sweep_dims, raw_det.sweep_shape"
   ]
  },
  {
   "cell_type": "code",
   "execution_count": null,
   "metadata": {
    "ExecuteTime": {
     "end_time": "2018-10-08T13:59:26.731911Z",
     "start_time": "2018-10-08T13:59:26.648853Z"
    }
   },
   "outputs": [],
   "source": [
    "fig, ax = plt.subplots(1,1)\n",
    "ax.plot(tvals * 1e6, data[0, 0, :, 0])"
   ]
  },
  {
   "cell_type": "code",
   "execution_count": null,
   "metadata": {
    "collapsed": true
   },
   "outputs": [],
   "source": []
  },
  {
   "cell_type": "markdown",
   "metadata": {},
   "source": [
    "# Demod acquisition (no buffer avg)"
   ]
  },
  {
   "cell_type": "code",
   "execution_count": null,
   "metadata": {
    "ExecuteTime": {
     "end_time": "2018-10-08T13:57:57.615051Z",
     "start_time": "2018-10-08T13:57:57.599067Z"
    }
   },
   "outputs": [],
   "source": [
    "acq = demod_acq\n",
    "det = demod_det\n",
    "\n",
    "det.set_sweeper(trig_seq)\n",
    "det.avg_buffers(False)\n",
    "det.acq_time(5e-6)\n",
    "det.demod_frq(1e6)\n",
    "\n",
    "det.configure_alazar(\n",
    "    buffers_per_acquisition=2,\n",
    "    records_per_buffer=1,\n",
    ")\n",
    "\n",
    "det.setup()"
   ]
  },
  {
   "cell_type": "code",
   "execution_count": null,
   "metadata": {
    "ExecuteTime": {
     "end_time": "2018-10-08T13:57:58.758296Z",
     "start_time": "2018-10-08T13:57:58.750288Z"
    }
   },
   "outputs": [],
   "source": [
    "trig_seq.sweep_dims, trig_seq.sweep_shape, det.sweep_dims, det.sweep_shape"
   ]
  },
  {
   "cell_type": "code",
   "execution_count": null,
   "metadata": {
    "ExecuteTime": {
     "end_time": "2018-10-08T13:58:02.184755Z",
     "start_time": "2018-10-08T13:58:02.127714Z"
    }
   },
   "outputs": [],
   "source": [
    "data = det.acquisition()\n",
    "tvals = acq.demod_tvals\n",
    "data.shape"
   ]
  },
  {
   "cell_type": "code",
   "execution_count": null,
   "metadata": {
    "ExecuteTime": {
     "end_time": "2018-10-08T13:58:03.396361Z",
     "start_time": "2018-10-08T13:58:03.390358Z"
    }
   },
   "outputs": [],
   "source": [
    "det.sweep_dims, det.sweep_shape"
   ]
  },
  {
   "cell_type": "code",
   "execution_count": null,
   "metadata": {
    "ExecuteTime": {
     "end_time": "2018-10-08T13:58:04.772503Z",
     "start_time": "2018-10-08T13:58:04.766499Z"
    }
   },
   "outputs": [],
   "source": [
    "det.inner_dims"
   ]
  },
  {
   "cell_type": "code",
   "execution_count": null,
   "metadata": {
    "ExecuteTime": {
     "end_time": "2018-10-08T13:58:05.962529Z",
     "start_time": "2018-10-08T13:58:05.859462Z"
    }
   },
   "outputs": [],
   "source": [
    "fig, ax = plt.subplots(1,1)\n",
    "ax.plot(tvals * 1e6, data[0, 0, :, 0].real)\n",
    "ax.plot(tvals * 1e6, data[0, 0, :, 0].imag)\n",
    "\n",
    "ax.plot(tvals * 1e6, data[1, 0, :, 0].real, 'o')\n",
    "ax.plot(tvals * 1e6, data[1, 0, :, 0].imag, 'o')"
   ]
  },
  {
   "cell_type": "code",
   "execution_count": null,
   "metadata": {
    "ExecuteTime": {
     "end_time": "2018-10-08T13:58:08.992500Z",
     "start_time": "2018-10-08T13:58:08.974462Z"
    }
   },
   "outputs": [],
   "source": [
    "det.get_all()"
   ]
  },
  {
   "cell_type": "markdown",
   "metadata": {},
   "source": [
    "# Demod acquisition (with buffer average)"
   ]
  },
  {
   "cell_type": "code",
   "execution_count": null,
   "metadata": {
    "ExecuteTime": {
     "end_time": "2018-10-08T13:58:23.292590Z",
     "start_time": "2018-10-08T13:58:23.277578Z"
    },
    "collapsed": true
   },
   "outputs": [],
   "source": [
    "acq = avg_demod_acq\n",
    "det = avg_demod_det\n",
    "\n",
    "det.set_sweeper(trig_seq)\n",
    "det.avg_buffers(False)\n",
    "det.acq_time(5e-6)\n",
    "det.demod_frq(1e6)\n",
    "\n",
    "det.configure_alazar(\n",
    "    buffers_per_acquisition=2,\n",
    "    records_per_buffer=1,\n",
    ")\n",
    "\n",
    "det.setup()"
   ]
  },
  {
   "cell_type": "code",
   "execution_count": null,
   "metadata": {
    "ExecuteTime": {
     "end_time": "2018-10-08T13:58:25.286582Z",
     "start_time": "2018-10-08T13:58:25.278600Z"
    }
   },
   "outputs": [],
   "source": [
    "trig_seq.sweep_dims, trig_seq.sweep_shape, det.sweep_dims, det.sweep_shape"
   ]
  },
  {
   "cell_type": "code",
   "execution_count": null,
   "metadata": {
    "ExecuteTime": {
     "end_time": "2018-10-08T08:05:28.908775Z",
     "start_time": "2018-10-08T08:05:28.852729Z"
    }
   },
   "outputs": [],
   "source": [
    "data = det.acquisition()\n",
    "tvals = acq.demod_tvals\n",
    "data.shape"
   ]
  },
  {
   "cell_type": "code",
   "execution_count": null,
   "metadata": {
    "ExecuteTime": {
     "end_time": "2018-10-08T08:05:29.412466Z",
     "start_time": "2018-10-08T08:05:29.324398Z"
    }
   },
   "outputs": [],
   "source": [
    "fig, ax = plt.subplots(1,1)\n",
    "ax.plot(tvals * 1e6, data[0, :, 0].real)\n",
    "ax.plot(tvals * 1e6, data[0, :, 0].imag)"
   ]
  },
  {
   "cell_type": "code",
   "execution_count": null,
   "metadata": {
    "collapsed": true
   },
   "outputs": [],
   "source": []
  }
 ],
 "metadata": {
  "kernelspec": {
   "display_name": "Python 3",
   "language": "python",
   "name": "python3"
  },
  "language_info": {
   "codemirror_mode": {
    "name": "ipython",
    "version": 3
   },
   "file_extension": ".py",
   "mimetype": "text/x-python",
   "name": "python",
   "nbconvert_exporter": "python",
   "pygments_lexer": "ipython3",
   "version": "3.6.3"
  },
  "toc": {
   "base_numbering": 1,
   "nav_menu": {},
   "number_sections": true,
   "sideBar": true,
   "skip_h1_title": false,
   "title_cell": "Table of Contents",
   "title_sidebar": "Contents",
   "toc_cell": false,
   "toc_position": {},
   "toc_section_display": true,
   "toc_window_display": false
  }
 },
 "nbformat": 4,
 "nbformat_minor": 2
}
