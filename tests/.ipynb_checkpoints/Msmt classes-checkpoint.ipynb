{
 "cells": [
  {
   "cell_type": "code",
   "execution_count": null,
   "metadata": {
    "collapsed": true
   },
   "outputs": [],
   "source": [
    "import sys\n",
    "import numpy as np\n",
    "from matplotlib import pyplot as plt\n",
    "import h5py\n",
    "\n",
    "%matplotlib notebook"
   ]
  },
  {
   "cell_type": "code",
   "execution_count": null,
   "metadata": {},
   "outputs": [],
   "source": [
    "import qcodes as qc\n",
    "from pysweep import sweep, Measurement"
   ]
  },
  {
   "cell_type": "code",
   "execution_count": null,
   "metadata": {},
   "outputs": [],
   "source": [
    "import sys\n",
    "sys.path"
   ]
  },
  {
   "cell_type": "code",
   "execution_count": null,
   "metadata": {
    "collapsed": true
   },
   "outputs": [],
   "source": [
    "def create_inst(cls, name, *arg, **kw):\n",
    "    force_new = kw.pop('force_new_instance', False)\n",
    "    \n",
    "    try:\n",
    "        return cls(name, *arg, **kw)\n",
    "    except KeyError:\n",
    "        print(\"Instrument {} already exists.\".format(name))\n",
    "        if force_new:\n",
    "            qc.Instrument._all_instruments[name]().close()\n",
    "            return cls(name, *arg, **kw)\n",
    "            \n",
    "        return qc.Instrument._all_instruments[name]()"
   ]
  },
  {
   "cell_type": "code",
   "execution_count": null,
   "metadata": {},
   "outputs": [],
   "source": [
    "from qcodes.instrument_drivers.tektronix.AWG5014 import Tektronix_AWG5014\n",
    "awg = create_inst(Tektronix_AWG5014, 'awg', address=\"TCPIP0::169.254.183.196::inst0::INSTR\")\n",
    "\n",
    "station = qc.Station(awg)"
   ]
  },
  {
   "cell_type": "code",
   "execution_count": null,
   "metadata": {
    "collapsed": true
   },
   "outputs": [],
   "source": [
    "class BaseMeasurement(object):\n",
    "    \n",
    "    def __init__(self, station):\n",
    "        self.station = station\n",
    "        \n",
    "\n",
    "        \n",
    "\n",
    "\n",
    "class AlazarMeasurement(BaseMeasurement):\n",
    "    \n",
    "    controller_cls = ATS9360Controller\n",
    "    \n",
    "    def __init__(self, *arg, **kw):\n",
    "        super().__init__(*arg, **kw)\n",
    "        \n",
    "        self.int_time = 0.1 # [s]\n",
    "        self.int_delay = 1e-6 # [s]\n",
    "        self.ifrq = 8e6\n",
    "        \n",
    "        self.nchans = 2\n",
    "        self.sample_rate = int(1e9)\n",
    "        self.trigger_source1 = 'CHANNEL_A'\n",
    "        self.demod = False\n",
    "        self.integrate_samples = False\n",
    "        self.average_records = False\n",
    "        self.average_buffers = True\n",
    "        self.navgs = 1\n",
    "        self.records_per_buffer = 1\n",
    "\n",
    "        \n",
    "    def setup_channels(self, **kw):\n",
    "        self.chans = []\n",
    "        for c in ['A', 'B']:\n",
    "            _chan = AlazarChannel(self.station.alazar_ctl,\n",
    "                                  'chan'+c, \n",
    "                                  demod=self.demod,\n",
    "                                  integrate_samples=self.integrate_samples,\n",
    "                                  average_records=self.average_records,\n",
    "                                  average_buffers=self.average_buffers)\n",
    "            self.station.alazar_ctl.channels.append(_chan)\n",
    "            self.chans.append(_chan)\n",
    "            \n",
    "            if self.demod:\n",
    "                _chan.demod_freq(self.ifrq)\n",
    "                _chan.demod_type('IQ')\n",
    "        \n",
    "        self.station.alazar_ctl.int_time(self.int_time)\n",
    "        self.station.alazar_ctl.int_delay(self.int_delay)\n",
    "        print(\"Number of samples per record:\", \n",
    "              self.station.alazar_ctl.samples_per_record())\n",
    "        \n",
    "        for c, n in zip(self.chans, ['A', 'B']):\n",
    "            c.num_averages(self.navgs)\n",
    "            if not self.average_records:\n",
    "                c.records_per_buffer(self.records_per_buffer)\n",
    "            c.alazar_channel(n)\n",
    "            c.prepare_channel()\n",
    "        \n",
    "    \n",
    "    def setup_alazar(self, **kw):\n",
    "        if hasattr(self.station, 'alazar_ctl'):\n",
    "            del station.components['alazar_ctl']\n",
    "\n",
    "        _ctl = create_inst(self.controller_cls, 'alazar_ctl',\n",
    "                           alazar_name='alazar', filter='ave', \n",
    "                           force_new_instance=True)\n",
    "        self.station.add_component(_ctl)\n",
    "        \n",
    "        self.station.alazar.config(\n",
    "              clock_source='INTERNAL_CLOCK',\n",
    "              sample_rate=self.sample_rate,\n",
    "              clock_edge='CLOCK_EDGE_RISING',\n",
    "              decimation=1,\n",
    "              coupling=['DC','DC'],\n",
    "              channel_range=[.4,.4],\n",
    "              impedance=[50,50],\n",
    "              trigger_operation='TRIG_ENGINE_OP_J',\n",
    "              trigger_engine1='TRIG_ENGINE_J',\n",
    "              trigger_source1=self.trigger_source1, #'EXTERNAL',  # 'CHANNEL_A',\n",
    "              trigger_slope1='TRIG_SLOPE_POSITIVE',\n",
    "              trigger_level1=128+2,\n",
    "              trigger_engine2='TRIG_ENGINE_K',\n",
    "              trigger_source2='DISABLE',\n",
    "              trigger_slope2='TRIG_SLOPE_POSITIVE',\n",
    "              trigger_level2=128,\n",
    "              external_trigger_coupling='DC',\n",
    "              external_trigger_range='ETR_2V5',\n",
    "              trigger_delay=0,\n",
    "              timeout_ticks=0,\n",
    "              aux_io_mode='AUX_IN_AUXILIARY', # AUX_IN_TRIGGER_ENABLE for seq mode on\n",
    "              aux_io_param='NONE' # TRIG_SLOPE_POSITIVE for seq mode on\n",
    "              )\n",
    "\n",
    "        self.setup_channels()\n",
    "        \n",
    "\n",
    "    def acquire(self):\n",
    "        return self.station.alazar_ctl.channels.data()\n",
    "           "
   ]
  },
  {
   "cell_type": "code",
   "execution_count": null,
   "metadata": {
    "collapsed": true
   },
   "outputs": [],
   "source": [
    "# m = AlazarMeasurement(station)\n",
    "# m.sample_rate = int(1e8)\n",
    "# m.int_time = 0.1\n",
    "\n",
    "# m.setup_alazar()\n",
    "# A, B = m.acquire()\n",
    "\n",
    "# t = np.arange(A.size) * 1./m.sample_rate\n",
    "# ffty = np.fft.rfft(A)\n",
    "# fftx = np.fft.rfftfreq(A.size, d=1./m.sample_rate) * 1e-3 # [kHz]\n",
    "\n",
    "# fig, ax = plt.subplots(1,1)\n",
    "# ax.plot(fftx[1:], np.abs(ffty[1:])**2)\n",
    "# ax.set_yscale('log')\n",
    "# ax.set_xscale('log')\n",
    "# ax.set_xlim(1, None)\n",
    "\n",
    "\n",
    "# fig, ax = plt.subplots(1,1)\n",
    "# ax.plot(fftx[1:], np.abs(ffty[1:])**2)\n",
    "# ax.set_yscale('log')\n",
    "# ax.set_xlim(m.ifrq*1e-3 - 0.2, m.ifrq*1e-3 + 0.2)"
   ]
  },
  {
   "cell_type": "code",
   "execution_count": null,
   "metadata": {
    "collapsed": true
   },
   "outputs": [],
   "source": []
  },
  {
   "cell_type": "code",
   "execution_count": null,
   "metadata": {
    "collapsed": true
   },
   "outputs": [],
   "source": []
  },
  {
   "cell_type": "code",
   "execution_count": null,
   "metadata": {
    "collapsed": true
   },
   "outputs": [],
   "source": [
    "import time\n",
    "from collections import OrderedDict\n",
    "\n",
    "Measurement.set_station(station)\n",
    "Measurement.use_storage(\"np\")\n",
    "\n",
    "class RFSETMeasurement(AlazarMeasurement):\n",
    "    \n",
    "    def __init__(self, *arg, **kw):\n",
    "        super().__init__(*arg, **kw)\n",
    "        \n",
    "        self.trigger_source1 = 'EXTERNAL'\n",
    "\n",
    "    \n",
    "    def _setup_run(self, station, namespace):\n",
    "        station.RF.power(-35)\n",
    "        station.LO.power(10)\n",
    "        \n",
    "    \n",
    "    def _cleanup_run(self, station, namespace):\n",
    "        station.RF.frequency(146.4e6)\n",
    "        station.LO.frequency(146.4e6 + self.ifrq)\n",
    "    \n",
    "    \n",
    "    def _msmt(self, station, namespace):\n",
    "        f0 = station.RF.frequency()\n",
    "        station.LO.frequency(f0 + self.ifrq)\n",
    "        time.sleep(1e-3)\n",
    "        f1 = station.LO.frequency()\n",
    "        A, B = station.alazar_ctl.channels.data()\n",
    "        \n",
    "        return OrderedDict({\n",
    "            \"chanA_I\" : {\"unit\" : \"V\", \"value\" : A.real},\n",
    "            \"chanA_Q\" : {\"unit\" : \"V\", \"value\" : A.imag},\n",
    "            \"chanB_I\" : {\"unit\" : \"V\", \"value\" : B.real},\n",
    "            \"chanB_Q\" : {\"unit\" : \"V\", \"value\" : B.imag},\n",
    "            \"abs\" : {\"unit\" : \"V\", \"value\" : (abs(A)**2 + abs(B)**2)**.5, },\n",
    "        })\n",
    "        \n",
    "\n",
    "class SETResonanceScan(RFSETMeasurement):\n",
    "    \n",
    "    def __init__(self, *arg, **kw):\n",
    "        super().__init__(*arg, **kw)\n",
    "        \n",
    "        self.integrate_samples = True\n",
    "        self.demod = True\n",
    "        self.average_records = True    \n",
    "\n",
    "    def run(self):\n",
    "        m = Measurement(self._setup_run, self._cleanup_run, \n",
    "                (sweep(self.station.RF.frequency, np.linspace(50e6, 200e6, 301)),\n",
    "                 self._msmt)\n",
    "            )\n",
    "        return m.run()\n"
   ]
  },
  {
   "cell_type": "code",
   "execution_count": null,
   "metadata": {},
   "outputs": [],
   "source": [
    "m = SETResonanceScan(station)\n",
    "m.int_time = 50e-6\n",
    "m.ifrq = 8e6\n",
    "m.setup_alazar()\n",
    "ret = m.run()"
   ]
  },
  {
   "cell_type": "code",
   "execution_count": null,
   "metadata": {},
   "outputs": [],
   "source": [
    "class SETBiasSweep(RFSETMeasurement):\n",
    "    \n",
    "    def __init__(self, *arg, **kw):\n",
    "        super().__init__(*arg, **kw)\n",
    "        \n",
    "        self.integrate_samples = True\n",
    "        self.demod = True\n",
    "        self.average_records = True\n",
    "        \n",
    "    def run(self):\n",
    "        m = Measurement(self._setup_run, self._cleanup_run, \n",
    "                (sweep(self.station.ivvi.dac1, np.linspace(-2000, 2000, 201)),\n",
    "                 self._msmt)\n",
    "            )\n",
    "        return m.run()\n",
    "        \n",
    "\n",
    "m = SETBiasSweep(station)\n",
    "m.int_time = 50e-6\n",
    "m.ifrq = 8e6\n",
    "m.setup_alazar()\n",
    "ret = m.run()"
   ]
  },
  {
   "cell_type": "code",
   "execution_count": null,
   "metadata": {
    "collapsed": true
   },
   "outputs": [],
   "source": []
  },
  {
   "cell_type": "code",
   "execution_count": null,
   "metadata": {
    "collapsed": true
   },
   "outputs": [],
   "source": [
    "class TrigController(ATS9360Controller):\n",
    "    fg = None\n",
    "    \n",
    "    def pre_acquire(self):\n",
    "        time.sleep(1e-3)\n",
    "        self.fg.ch1_output_enabled(True) \n",
    "        \n",
    "    def post_acquire(self):\n",
    "        self.fg.ch1_output_enabled(False)\n",
    "        time.sleep(5e-3)\n",
    "        return super().post_acquire()"
   ]
  },
  {
   "cell_type": "code",
   "execution_count": null,
   "metadata": {
    "scrolled": false
   },
   "outputs": [],
   "source": [
    "class SETAWGGateSweep(RFSETMeasurement):\n",
    "    \n",
    "    controller_cls = TrigController\n",
    "    \n",
    "    def __init__(self, *arg, **kw):\n",
    "        super().__init__(*arg, **kw)\n",
    "        \n",
    "        self.records_per_buffer = None\n",
    "        self.integrate_samples = True\n",
    "        self.demod = True\n",
    "        self.average_records = False\n",
    "        \n",
    "    def _setup_run(self, station, namespace):\n",
    "        station.fg.ch1_output_enabled(False)\n",
    "    \n",
    "    def _cleanup_run(self, station, namespace):\n",
    "        station.fg.ch1_output_enabled(False)\n",
    "        \n",
    "    def run(self):\n",
    "        m = Measurement(self._setup_run, self._cleanup_run, \n",
    "#                 (sweep(self.station.ivvi.dac1, [-200]), # np.linspace(-600, 1400, 101)),\n",
    "                (sweep(self.station.ivvi.dac1, np.linspace(-600, 1400, 101)),\n",
    "                 self._msmt)\n",
    "            )\n",
    "        return m.run()\n",
    "\n",
    "\n",
    "fg.ch1_output_enabled(False)\n",
    "station.fg.ch1_frequency(40)\n",
    "TrigController.fg = station.fg\n",
    "\n",
    "m = SETAWGGateSweep(station)\n",
    "m.records_per_buffer = 200\n",
    "m.int_time = 50e-6\n",
    "m.navgs = 50\n",
    "m.ifrq = 8e6\n",
    "m.sample_rate = int(1e8)\n",
    "m.setup_alazar()\n",
    "\n",
    "ret = m.run()\n",
    "fn = ret.data_prefix + r\"_data.h5\"\n",
    "with h5py.File(fn, 'a') as f:\n",
    "    f['data'] = ret.output()"
   ]
  },
  {
   "cell_type": "code",
   "execution_count": null,
   "metadata": {
    "collapsed": true
   },
   "outputs": [],
   "source": []
  },
  {
   "cell_type": "code",
   "execution_count": null,
   "metadata": {
    "collapsed": true
   },
   "outputs": [],
   "source": []
  },
  {
   "cell_type": "code",
   "execution_count": null,
   "metadata": {},
   "outputs": [],
   "source": [
    "class SETAWGGateSweep(RFSETMeasurement):\n",
    "    \n",
    "    controller_cls = TrigController\n",
    "    \n",
    "    def __init__(self, *arg, **kw):\n",
    "        super().__init__(*arg, **kw)\n",
    "        \n",
    "        self.records_per_buffer = None\n",
    "        self.integrate_samples = True\n",
    "        self.demod = True\n",
    "        self.average_records = False\n",
    "        \n",
    "    def _setup_run(self, station, namespace):\n",
    "        station.fg.ch1_output_enabled(False)\n",
    "    \n",
    "    def _cleanup_run(self, station, namespace):\n",
    "        station.fg.ch1_output_enabled(False)\n",
    "        \n",
    "    def run(self):\n",
    "        m = Measurement(self._setup_run, self._cleanup_run, \n",
    "                (sweep(self.station.ivvi.dac1, [-200]), # np.linspace(-600, 1400, 101)),\n",
    "#                 (sweep(self.station.ivvi.dac1, np.linspace(-600, 1400, 101)),\n",
    "                 self._msmt)\n",
    "            )\n",
    "        return m.run()\n",
    "\n",
    "\n",
    "fg.ch1_output_enabled(False)\n",
    "station.fg.ch1_frequency(1)\n",
    "TrigController.fg = station.fg\n",
    "\n",
    "m = SETAWGGateSweep(station)\n",
    "m.records_per_buffer = 200\n",
    "m.int_time = 300e-6\n",
    "m.navgs = 1\n",
    "m.ifrq = 8e6\n",
    "m.sample_rate = int(1e8)\n",
    "m.setup_alazar()\n",
    "\n",
    "ret = m.run()\n",
    "fn = ret.data_prefix + r\"_data.h5\"\n",
    "with h5py.File(fn, 'a') as f:\n",
    "    f['data'] = ret.output()"
   ]
  },
  {
   "cell_type": "code",
   "execution_count": null,
   "metadata": {},
   "outputs": [],
   "source": [
    "d = ret.output()\n",
    "t = np.arange(m.records_per_buffer) * 0.5 * 1e-3 # [s]\n",
    "y = d['abs'].reshape(-1)\n",
    "# y /= y.max()\n",
    "\n",
    "fig, (ax, bx) = plt.subplots(2,1, figsize=(5,4))\n",
    "\n",
    "ax.plot(t, y)\n",
    "ax.set_xlabel(\"Time (s)\")\n",
    "ax.set_ylabel(\"Signal (au)\")\n",
    "\n",
    "ffty = abs(np.fft.rfft(y))[1:]\n",
    "fftx = np.fft.rfftfreq(y.size, d=0.5 * 1e-3)[1:] # [Hz]\n",
    "bx.plot(fftx, ffty)\n",
    "bx.set_xlabel('Frq (Hz)')\n",
    "bx.set_ylabel('FFT (au)')\n",
    "bx.set_xlim(None, 400)\n",
    "\n",
    "fig.tight_layout()"
   ]
  },
  {
   "cell_type": "code",
   "execution_count": null,
   "metadata": {
    "collapsed": true
   },
   "outputs": [],
   "source": []
  },
  {
   "cell_type": "code",
   "execution_count": null,
   "metadata": {
    "collapsed": true
   },
   "outputs": [],
   "source": []
  },
  {
   "cell_type": "code",
   "execution_count": null,
   "metadata": {
    "collapsed": true
   },
   "outputs": [],
   "source": []
  },
  {
   "cell_type": "code",
   "execution_count": null,
   "metadata": {
    "collapsed": true
   },
   "outputs": [],
   "source": []
  },
  {
   "cell_type": "code",
   "execution_count": null,
   "metadata": {
    "collapsed": true
   },
   "outputs": [],
   "source": []
  },
  {
   "cell_type": "code",
   "execution_count": null,
   "metadata": {
    "collapsed": true
   },
   "outputs": [],
   "source": [
    "station.fg.ch1_frequency(10)\n",
    "fg.ch1_output_enabled(True)"
   ]
  },
  {
   "cell_type": "code",
   "execution_count": null,
   "metadata": {
    "collapsed": true
   },
   "outputs": [],
   "source": [
    "fg.ch1_output_enabled(False)"
   ]
  },
  {
   "cell_type": "code",
   "execution_count": null,
   "metadata": {
    "collapsed": true
   },
   "outputs": [],
   "source": []
  },
  {
   "cell_type": "code",
   "execution_count": null,
   "metadata": {
    "collapsed": true
   },
   "outputs": [],
   "source": [
    "ivvi.dac1(-600)"
   ]
  },
  {
   "cell_type": "code",
   "execution_count": null,
   "metadata": {
    "collapsed": true
   },
   "outputs": [],
   "source": []
  },
  {
   "cell_type": "code",
   "execution_count": null,
   "metadata": {
    "collapsed": true,
    "scrolled": true
   },
   "outputs": [],
   "source": [
    "fg.reference_clock_source('external')"
   ]
  },
  {
   "cell_type": "code",
   "execution_count": null,
   "metadata": {
    "collapsed": true
   },
   "outputs": [],
   "source": [
    "ivvi.set_dacs_zero()"
   ]
  },
  {
   "cell_type": "code",
   "execution_count": null,
   "metadata": {
    "collapsed": true
   },
   "outputs": [],
   "source": []
  }
 ],
 "metadata": {
  "kernelspec": {
   "display_name": "Python 3",
   "language": "python",
   "name": "python3"
  },
  "language_info": {
   "codemirror_mode": {
    "name": "ipython",
    "version": 3
   },
   "file_extension": ".py",
   "mimetype": "text/x-python",
   "name": "python",
   "nbconvert_exporter": "python",
   "pygments_lexer": "ipython3",
   "version": "3.6.2"
  }
 },
 "nbformat": 4,
 "nbformat_minor": 2
}
