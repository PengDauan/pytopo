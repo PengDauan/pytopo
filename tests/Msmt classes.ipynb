{
 "cells": [
  {
   "cell_type": "code",
   "execution_count": 1,
   "metadata": {
    "collapsed": true
   },
   "outputs": [],
   "source": [
    "import sys\n",
    "import numpy as np\n",
    "from matplotlib import pyplot as plt\n",
    "import h5py\n",
    "\n",
    "%matplotlib notebook"
   ]
  },
  {
   "cell_type": "code",
   "execution_count": 2,
   "metadata": {
    "collapsed": true
   },
   "outputs": [],
   "source": [
    "import qcodes as qc"
   ]
  },
  {
   "cell_type": "markdown",
   "metadata": {},
   "source": [
    "# Setup notes\n",
    "\n",
    "For this example to run, you need to have set up a labpython config file. There is a template in labpythonQDelft/templates."
   ]
  },
  {
   "cell_type": "code",
   "execution_count": 15,
   "metadata": {
    "collapsed": true
   },
   "outputs": [],
   "source": [
    "from importlib import reload\n",
    "from qctools import instruments as instools\n",
    "reload(instools)\n",
    "\n",
    "import labpythonconfig as cfg\n",
    "reload(cfg)\n",
    "\n",
    "from experiment import measurement\n",
    "reload(measurement)\n",
    "from experiment.measurement import Parameter, BaseMeasurement, PysweepMeasurement"
   ]
  },
  {
   "cell_type": "code",
   "execution_count": 19,
   "metadata": {
    "collapsed": true
   },
   "outputs": [],
   "source": [
    "from pysweep.data_storage import np_storage\n",
    "reload(np_storage)\n",
    "from pysweep.data_storage.np_storage import NpStorage, DataSet\n",
    "\n",
    "from pysweep import sweep_object\n",
    "reload(sweep_object)\n",
    "from pysweep.sweep_object import sweep, ChainSweep"
   ]
  },
  {
   "cell_type": "code",
   "execution_count": 17,
   "metadata": {
    "collapsed": true
   },
   "outputs": [],
   "source": [
    "station = qc.Station()"
   ]
  },
  {
   "cell_type": "code",
   "execution_count": 18,
   "metadata": {
    "collapsed": true
   },
   "outputs": [],
   "source": [
    "class NameSpace:\n",
    "    pass\n",
    "\n",
    "namespace = NameSpace()"
   ]
  },
  {
   "cell_type": "code",
   "execution_count": null,
   "metadata": {
    "collapsed": true
   },
   "outputs": [],
   "source": []
  },
  {
   "cell_type": "code",
   "execution_count": 7,
   "metadata": {},
   "outputs": [],
   "source": [
    "class DummyMeasurement(BaseMeasurement):\n",
    "    def __init__(self, station, namespace):\n",
    "        super().__init__(station, namespace)\n",
    "        \n",
    "        self.add_parameter('start', Parameter)\n",
    "        self.add_parameter('stop', Parameter)\n",
    "        self.add_parameter('npts', Parameter)\n",
    "    \n",
    "    def measure(self):        \n",
    "        # set up loop\n",
    "        xpoints = np.linspace(self.start(), self.stop(), self.npts())\n",
    "        ypoints = np.linspace(self.start(), self.stop(), self.npts())\n",
    "                \n",
    "        # now populate in a primitive loop\n",
    "        for x in xpoints:\n",
    "            for y in ypoints:\n",
    "                \n",
    "                # acquire some data\n",
    "                z = np.cos(x) * np.cos(y) * np.linspace(0,1,3)\n",
    "\n",
    "                # add to dataset\n",
    "                self.data.add(\n",
    "                    {'x' : {'value' : x, 'independent_parameter' : True, 'unit' : 'V'},\n",
    "                     'y' : {'value' : y, 'independent_parameter' : True, 'unit' : 'V'},\n",
    "                     'z' : {'value' : z },\n",
    "                    }\n",
    "                )\n",
    "                    \n",
    "\n",
    "m = DummyMeasurement(station, namespace)\n",
    "m.start(0)\n",
    "m.stop(10)\n",
    "m.npts(3)\n",
    "m.run()"
   ]
  },
  {
   "cell_type": "code",
   "execution_count": null,
   "metadata": {
    "collapsed": true
   },
   "outputs": [],
   "source": []
  },
  {
   "cell_type": "code",
   "execution_count": null,
   "metadata": {
    "collapsed": true
   },
   "outputs": [],
   "source": []
  },
  {
   "cell_type": "code",
   "execution_count": 21,
   "metadata": {
    "collapsed": true
   },
   "outputs": [],
   "source": [
    "voltage1 = 0\n",
    "voltage2 = 0\n",
    "\n",
    "def getv1():\n",
    "    global voltage1\n",
    "    return voltage1\n",
    "\n",
    "def setv1(v):\n",
    "    global voltage1\n",
    "    voltage1 = v\n",
    "\n",
    "def getv2():\n",
    "    global voltage2\n",
    "    return voltage2\n",
    "\n",
    "def setv2(v):\n",
    "    global voltage2\n",
    "    voltage2 = v\n",
    "\n",
    "v1 = qc.Parameter('voltage1', get_cmd=getv1, set_cmd=setv1)\n",
    "v2 = qc.Parameter('voltage2', get_cmd=getv2, set_cmd=setv2)\n",
    "\n",
    "station = qc.Station(v1, v2)"
   ]
  },
  {
   "cell_type": "code",
   "execution_count": 22,
   "metadata": {},
   "outputs": [],
   "source": [
    "class SimplePysweepMeasurement(PysweepMeasurement):\n",
    "\n",
    "    def measure_datapoint(self, station, namespace):\n",
    "        return {'data' : {'value' : self.station.voltage1() * self.station.voltage2()**2 }}\n",
    "        \n",
    "    def sweep(self):\n",
    "        return sweep(self.station.voltage1, np.linspace(0,1,3)) (\n",
    "            sweep(self.station.voltage2, np.linspace(0,2,5)) (\n",
    "                self.measure_datapoint,\n",
    "            )\n",
    "        )\n",
    "    \n",
    "m = SimplePysweepMeasurement(station, namespace)\n",
    "m.run()"
   ]
  },
  {
   "cell_type": "code",
   "execution_count": 23,
   "metadata": {},
   "outputs": [
    {
     "name": "stdout",
     "output_type": "stream",
     "text": [
      "c:\\data\\2017-12\\2017-12-22\\2017-12-22_SimplePysweepMeasurement-#0001.hdf5\n"
     ]
    }
   ],
   "source": [
    "fn = m.datafilepath\n",
    "print(fn)"
   ]
  },
  {
   "cell_type": "code",
   "execution_count": null,
   "metadata": {
    "collapsed": true
   },
   "outputs": [],
   "source": []
  }
 ],
 "metadata": {
  "kernelspec": {
   "display_name": "Python 3",
   "language": "python",
   "name": "python3"
  },
  "language_info": {
   "codemirror_mode": {
    "name": "ipython",
    "version": 3
   },
   "file_extension": ".py",
   "mimetype": "text/x-python",
   "name": "python",
   "nbconvert_exporter": "python",
   "pygments_lexer": "ipython3",
   "version": "3.6.2"
  }
 },
 "nbformat": 4,
 "nbformat_minor": 2
}
