{
 "cells": [
  {
   "cell_type": "code",
   "execution_count": 1,
   "metadata": {
    "collapsed": true
   },
   "outputs": [],
   "source": [
    "import sys\n",
    "import numpy as np\n",
    "from matplotlib import pyplot as plt\n",
    "import h5py\n",
    "\n",
    "%matplotlib notebook"
   ]
  },
  {
   "cell_type": "code",
   "execution_count": 2,
   "metadata": {
    "collapsed": true
   },
   "outputs": [],
   "source": [
    "import qcodes as qc"
   ]
  },
  {
   "cell_type": "markdown",
   "metadata": {},
   "source": [
    "# Setup notes\n",
    "\n",
    "For this example to run, you need to have set up a labpython config file. There is a template in labpythonQDelft/templates."
   ]
  },
  {
   "cell_type": "code",
   "execution_count": 14,
   "metadata": {
    "collapsed": true
   },
   "outputs": [],
   "source": [
    "from importlib import reload\n",
    "from qctools import instruments as instools\n",
    "reload(instools)\n",
    "\n",
    "import labpythonconfig as cfg\n",
    "reload(cfg)\n",
    "\n",
    "from experiment import measurement\n",
    "reload(measurement)\n",
    "from experiment.measurement import Parameter, BaseMeasurement"
   ]
  },
  {
   "cell_type": "code",
   "execution_count": 15,
   "metadata": {
    "collapsed": true
   },
   "outputs": [],
   "source": [
    "from pysweep.data_storage import np_storage\n",
    "reload(np_storage)\n",
    "from pysweep.data_storage.np_storage import NpStorage, DataSet"
   ]
  },
  {
   "cell_type": "code",
   "execution_count": 16,
   "metadata": {
    "collapsed": true
   },
   "outputs": [],
   "source": [
    "station = qc.Station()"
   ]
  },
  {
   "cell_type": "code",
   "execution_count": null,
   "metadata": {
    "collapsed": true
   },
   "outputs": [],
   "source": []
  },
  {
   "cell_type": "code",
   "execution_count": null,
   "metadata": {
    "collapsed": true
   },
   "outputs": [],
   "source": []
  },
  {
   "cell_type": "code",
   "execution_count": null,
   "metadata": {
    "collapsed": true
   },
   "outputs": [],
   "source": []
  },
  {
   "cell_type": "code",
   "execution_count": 20,
   "metadata": {
    "collapsed": true
   },
   "outputs": [],
   "source": [
    "class DummyMeasurement(BaseMeasurement):\n",
    "    def __init__(self, station):\n",
    "        super().__init__(station)\n",
    "        \n",
    "        self.add_parameter('start', Parameter)\n",
    "        self.add_parameter('stop', Parameter)\n",
    "        self.add_parameter('npts', Parameter)\n",
    "    \n",
    "    def measure(self):        \n",
    "        # set up loop\n",
    "        xpoints = np.linspace(self.start(), self.stop(), self.npts())\n",
    "        ypoints = np.linspace(self.start(), self.stop(), self.npts())\n",
    "                \n",
    "        # now populate in a primitive loop\n",
    "        for x in xpoints:\n",
    "            for y in ypoints:\n",
    "                \n",
    "                # acquire some data\n",
    "                z = np.cos(x) * np.cos(y) * np.linspace(0,1,3)\n",
    "\n",
    "                # add to dataset\n",
    "                self.data.add(\n",
    "                    {'x' : {'value' : x, 'independent_parameter' : True, 'unit' : 'V'},\n",
    "                     'y' : {'value' : y, 'independent_parameter' : True, 'unit' : 'V'},\n",
    "                     'z' : {'value' : z },\n",
    "                    }\n",
    "                )\n",
    "                    \n",
    "\n",
    "m = DummyMeasurement(station)\n",
    "m.start(0)\n",
    "m.stop(10)\n",
    "m.npts(3)\n",
    "m.run()"
   ]
  },
  {
   "cell_type": "code",
   "execution_count": null,
   "metadata": {
    "collapsed": true
   },
   "outputs": [],
   "source": []
  },
  {
   "cell_type": "code",
   "execution_count": null,
   "metadata": {
    "collapsed": true
   },
   "outputs": [],
   "source": []
  },
  {
   "cell_type": "code",
   "execution_count": null,
   "metadata": {
    "collapsed": true
   },
   "outputs": [],
   "source": [
    "voltage1 = 0\n",
    "voltage2 = 0\n",
    "\n",
    "def getv1():\n",
    "    global voltage1\n",
    "    return voltage1\n",
    "\n",
    "def setv1(v):\n",
    "    global voltage1\n",
    "    voltage1 = v\n",
    "\n",
    "def getv2():\n",
    "    global voltage2\n",
    "    return voltage2\n",
    "\n",
    "def setv2(v):\n",
    "    global voltage2\n",
    "    voltage2 = v\n",
    "\n",
    "v1 = qc.Parameter('voltage1', get_cmd=getv1, set_cmd=setv1)\n",
    "v2 = qc.Parameter('voltage2', get_cmd=getv2, set_cmd=setv2)\n",
    "\n",
    "station = qc.Station(v1, v2)"
   ]
  },
  {
   "cell_type": "code",
   "execution_count": null,
   "metadata": {
    "collapsed": true
   },
   "outputs": [],
   "source": [
    "from pysweep import sweep_object\n",
    "reload(sweep_object)\n",
    "from pysweep.sweep_object import sweep, ChainSweep\n",
    "\n",
    "class PysweepMeasurement(BaseMeasurement):\n",
    "    \"\"\"\n",
    "    A simple prototype for how we could write a measurement around pysweep loops.\n",
    "    \n",
    "    The idea here is that when inheriting from this, the user only needs to specify the\n",
    "    sweep and acquire methods. The measure methods should just work for all sweeps.\n",
    "    Importantly, the data allocation is taken out of the user's hands here.\n",
    "    \"\"\"\n",
    "    \n",
    "    def measure(self):\n",
    "       \n",
    "        # knowing the dimension allows us to allocate a dataset\n",
    "        # this only works for scalar data.\n",
    "        # if the acquire methods returns an array, then we would have to wait\n",
    "        # with allocation until we know the returned shape (depends on class implementation)\n",
    "        data = xr.DataArray(np.zeros(shp), coords=coords)\n",
    "        self.dataset['data'] = data\n",
    "        self.save_data()\n",
    "        \n",
    "        # this is not very elegant, but since i don't really know 'where' in the\n",
    "        # sweep pysweep currently is, this is the easiest i could come up with.\n",
    "        # this line generates the n-d array indices in the order that the sweep loops through the coordinates.\n",
    "        idxs = zip(*[ idx.reshape(-1) for idx in np.meshgrid(*[np.arange(c[1].size) for c in coords], indexing='ij') ])\n",
    "        \n",
    "        for idx, data in zip(idxs, sweep):\n",
    "            data_val = data['data']['value']\n",
    "            print(idx, self.station.voltage1(), self.station.voltage2(), data_val)\n",
    "            \n",
    "            self.dataset['data'][idx] = data_val\n",
    "            self.save_data()\n",
    "        \n",
    "    \n",
    "    # These are examples -- will be implemented by the user.\n",
    "    def acquire(self, station, namespace):\n",
    "        return {'data' : {'value' : self.station.voltage1() * self.station.voltage2()**2 }}\n",
    "        \n",
    "    def sweep(self):\n",
    "        return ChainSweep([\n",
    "            sweep(self.station.voltage1, np.linspace(0,1,3)) (\n",
    "                sweep(self.station.voltage2, np.linspace(0,2,5)) (\n",
    "                    self.acquire,\n",
    "                )\n",
    "            )\n",
    "        ])\n",
    "    \n",
    "\n",
    "m = SimplePysweepMeasurement(station)\n",
    "m.run()"
   ]
  },
  {
   "cell_type": "code",
   "execution_count": null,
   "metadata": {
    "collapsed": true
   },
   "outputs": [],
   "source": [
    "fn = m.datafilepath\n",
    "print(fn)"
   ]
  },
  {
   "cell_type": "code",
   "execution_count": null,
   "metadata": {
    "collapsed": true
   },
   "outputs": [],
   "source": [
    "with xr.open_dataset(fn) as ds:\n",
    "    z = ds['data'].values\n",
    "    v1 = ds['data'].coords['voltage1'].values\n",
    "    v2 = ds['data'].coords['voltage2'].values"
   ]
  },
  {
   "cell_type": "code",
   "execution_count": null,
   "metadata": {
    "collapsed": true
   },
   "outputs": [],
   "source": [
    "fig, ax = plt.subplots(1,1)\n",
    "for i, v1val in enumerate(v1):\n",
    "    ax.plot(v2, z[i, :], '-o', label='v1 = {}'.format(v1val))\n",
    "\n",
    "ax.legend()\n",
    "ax.set_xlabel(\"v2\")"
   ]
  },
  {
   "cell_type": "code",
   "execution_count": null,
   "metadata": {
    "collapsed": true
   },
   "outputs": [],
   "source": []
  },
  {
   "cell_type": "code",
   "execution_count": null,
   "metadata": {
    "collapsed": true
   },
   "outputs": [],
   "source": []
  },
  {
   "cell_type": "code",
   "execution_count": null,
   "metadata": {
    "collapsed": true
   },
   "outputs": [],
   "source": []
  },
  {
   "cell_type": "code",
   "execution_count": null,
   "metadata": {
    "collapsed": true
   },
   "outputs": [],
   "source": []
  },
  {
   "cell_type": "code",
   "execution_count": null,
   "metadata": {
    "collapsed": true
   },
   "outputs": [],
   "source": []
  },
  {
   "cell_type": "code",
   "execution_count": 20,
   "metadata": {},
   "outputs": [
    {
     "data": {
      "text/plain": [
       "[0, 1, 2, 6, 8]"
      ]
     },
     "execution_count": 20,
     "metadata": {},
     "output_type": "execute_result"
    }
   ],
   "source": [
    "[i if i<3 else i*2 for i in range(5)]"
   ]
  },
  {
   "cell_type": "code",
   "execution_count": null,
   "metadata": {
    "collapsed": true
   },
   "outputs": [],
   "source": []
  }
 ],
 "metadata": {
  "kernelspec": {
   "display_name": "Python 3",
   "language": "python",
   "name": "python3"
  },
  "language_info": {
   "codemirror_mode": {
    "name": "ipython",
    "version": 3
   },
   "file_extension": ".py",
   "mimetype": "text/x-python",
   "name": "python",
   "nbconvert_exporter": "python",
   "pygments_lexer": "ipython3",
   "version": "3.6.2"
  }
 },
 "nbformat": 4,
 "nbformat_minor": 2
}
