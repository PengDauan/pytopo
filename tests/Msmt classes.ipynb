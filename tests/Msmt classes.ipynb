{
 "cells": [
  {
   "cell_type": "code",
   "execution_count": 1,
   "metadata": {
    "collapsed": true
   },
   "outputs": [],
   "source": [
    "import sys\n",
    "import numpy as np\n",
    "from matplotlib import pyplot as plt\n",
    "import h5py\n",
    "from collections import OrderedDict\n",
    "\n",
    "%matplotlib notebook"
   ]
  },
  {
   "cell_type": "code",
   "execution_count": 2,
   "metadata": {
    "collapsed": true
   },
   "outputs": [],
   "source": [
    "import qcodes as qc"
   ]
  },
  {
   "cell_type": "markdown",
   "metadata": {},
   "source": [
    "# Setup notes\n",
    "\n",
    "For this example to run, you need to have set up a labpython config file. There is a template in labpythonQDelft/templates."
   ]
  },
  {
   "cell_type": "code",
   "execution_count": 3,
   "metadata": {},
   "outputs": [],
   "source": [
    "from importlib import reload\n",
    "from qctools import instruments as instools\n",
    "reload(instools)\n",
    "\n",
    "import labpythonconfig as cfg\n",
    "reload(cfg)\n",
    "\n",
    "from experiment import measurement\n",
    "reload(measurement)\n",
    "from experiment.measurement import Parameter, BaseMeasurement, PysweepMeasurement"
   ]
  },
  {
   "cell_type": "code",
   "execution_count": 4,
   "metadata": {},
   "outputs": [],
   "source": [
    "from pysweep.data_storage import base_storage\n",
    "reload(base_storage)\n",
    "from pysweep.data_storage.base_storage import BaseStorage, DataSet\n",
    "\n",
    "from pysweep import sweep_object\n",
    "reload(sweep_object)\n",
    "from pysweep.sweep_object import sweep, ChainSweep"
   ]
  },
  {
   "cell_type": "code",
   "execution_count": 5,
   "metadata": {
    "collapsed": true
   },
   "outputs": [],
   "source": [
    "station = qc.Station()"
   ]
  },
  {
   "cell_type": "code",
   "execution_count": 6,
   "metadata": {
    "collapsed": true
   },
   "outputs": [],
   "source": [
    "class NameSpace:\n",
    "    pass\n",
    "\n",
    "namespace = NameSpace()"
   ]
  },
  {
   "cell_type": "code",
   "execution_count": null,
   "metadata": {
    "collapsed": true
   },
   "outputs": [],
   "source": []
  },
  {
   "cell_type": "code",
   "execution_count": 20,
   "metadata": {},
   "outputs": [],
   "source": [
    "class DummyMeasurement(BaseMeasurement):\n",
    "    def __init__(self, station, namespace):\n",
    "        super().__init__(station, namespace)\n",
    "        \n",
    "        self.add_parameter('start', Parameter)\n",
    "        self.add_parameter('stop', Parameter)\n",
    "        self.add_parameter('npts', Parameter)\n",
    "    \n",
    "    def measure(self):        \n",
    "        # set up loop\n",
    "        xpoints = np.linspace(self.start(), self.stop(), self.npts())\n",
    "        ypoints = np.linspace(self.start(), self.stop(), self.npts())\n",
    "                \n",
    "        # now populate in a primitive loop\n",
    "        for x in xpoints:\n",
    "            for y in ypoints:\n",
    "                \n",
    "                # acquire some data\n",
    "                z = np.cos(x) * np.cos(y) * np.linspace(0,1,3)\n",
    "\n",
    "                # add to dataset\n",
    "                self.data.add(OrderedDict(\n",
    "                        {'idx' : {'value' : np.arange(z.size).reshape(z.shape), 'independent_parameter' : True, },\n",
    "                         'y' : {'value' : y, 'independent_parameter' : True, 'unit' : 'V'},\n",
    "                         'x' : {'value' : x, 'independent_parameter' : True, 'unit' : 'V'},\n",
    "                         'z' : {'value' : z },\n",
    "                        }\n",
    "                ))\n",
    "                    \n",
    "\n",
    "m = DummyMeasurement(station, namespace)\n",
    "m.start(0)\n",
    "m.stop(10)\n",
    "m.npts(3)\n",
    "m.run()"
   ]
  },
  {
   "cell_type": "code",
   "execution_count": 21,
   "metadata": {},
   "outputs": [
    {
     "data": {
      "text/plain": [
       "dtype([('idx', '<i4', (3,)), ('y [V]', '<f8', (1,)), ('x [V]', '<f8', (1,)), ('z', '<f8', (3,))])"
      ]
     },
     "execution_count": 21,
     "metadata": {},
     "output_type": "execute_result"
    }
   ],
   "source": [
    "m.data['z'].dtype"
   ]
  },
  {
   "cell_type": "code",
   "execution_count": null,
   "metadata": {
    "collapsed": true
   },
   "outputs": [],
   "source": []
  },
  {
   "cell_type": "code",
   "execution_count": 22,
   "metadata": {
    "collapsed": true
   },
   "outputs": [],
   "source": [
    "voltage1 = 0\n",
    "voltage2 = 0\n",
    "\n",
    "def getv1():\n",
    "    global voltage1\n",
    "    return voltage1\n",
    "\n",
    "def setv1(v):\n",
    "    global voltage1\n",
    "    voltage1 = v\n",
    "\n",
    "def getv2():\n",
    "    global voltage2\n",
    "    return voltage2\n",
    "\n",
    "def setv2(v):\n",
    "    global voltage2\n",
    "    voltage2 = v\n",
    "\n",
    "v1 = qc.Parameter('voltage1', get_cmd=getv1, set_cmd=setv1)\n",
    "v2 = qc.Parameter('voltage2', get_cmd=getv2, set_cmd=setv2)\n",
    "\n",
    "station = qc.Station(v1, v2)"
   ]
  },
  {
   "cell_type": "code",
   "execution_count": 30,
   "metadata": {},
   "outputs": [],
   "source": [
    "class PysweepGrid(BaseMeasurement):\n",
    "    \n",
    "    def measure(self):\n",
    "        swp = []\n",
    "        for p, vals in self.sweep:\n",
    "            swp.append(sweep(p, vals))\n",
    "        swp.append(self.measure_datapoint)\n",
    "        \n",
    "        for rec in ChainSweep([tuple(swp)]):\n",
    "            self.data.add(rec)\n",
    "    \n",
    "\n",
    "class SimpleGrid(PysweepGrid):\n",
    "    \n",
    "    def measure_datapoint(self, station, namespace):\n",
    "        scale = np.linspace(0,1,3)\n",
    "        return OrderedDict({\n",
    "            'scale' : {'value' : scale, 'independent_parameter' : True, },\n",
    "            'data' : {'value' : self.station.voltage1() * self.station.voltage2()**2 * scale},\n",
    "        })\n",
    "    \n",
    "    def sweep(self):\n",
    "        return\n",
    "    \n",
    "m = SimpleGrid(station, namespace)\n",
    "m.sweep = [\n",
    "    (m.station.voltage1, np.linspace(0,1,3)), \n",
    "    (m.station.voltage2, np.linspace(0,2,5)),\n",
    "]\n",
    "m.run()"
   ]
  },
  {
   "cell_type": "code",
   "execution_count": null,
   "metadata": {},
   "outputs": [],
   "source": [
    "fn = m.datafilepath\n",
    "print(fn)"
   ]
  },
  {
   "cell_type": "code",
   "execution_count": 19,
   "metadata": {},
   "outputs": [
    {
     "data": {
      "text/plain": [
       "dtype([('voltage2', '<f8', (1,)), ('voltage1', '<f8', (1,)), ('data', '<f8', (1,))])"
      ]
     },
     "execution_count": 19,
     "metadata": {},
     "output_type": "execute_result"
    }
   ],
   "source": [
    "m.data['data'].dtype"
   ]
  },
  {
   "cell_type": "code",
   "execution_count": null,
   "metadata": {
    "collapsed": true
   },
   "outputs": [],
   "source": []
  }
 ],
 "metadata": {
  "kernelspec": {
   "display_name": "Python 3",
   "language": "python",
   "name": "python3"
  },
  "language_info": {
   "codemirror_mode": {
    "name": "ipython",
    "version": 3
   },
   "file_extension": ".py",
   "mimetype": "text/x-python",
   "name": "python",
   "nbconvert_exporter": "python",
   "pygments_lexer": "ipython3",
   "version": "3.6.3"
  }
 },
 "nbformat": 4,
 "nbformat_minor": 2
}
