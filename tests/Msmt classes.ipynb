{
 "cells": [
  {
   "cell_type": "code",
   "execution_count": 1,
   "metadata": {
    "collapsed": true
   },
   "outputs": [],
   "source": [
    "import sys\n",
    "import numpy as np\n",
    "from matplotlib import pyplot as plt\n",
    "import h5py\n",
    "\n",
    "%matplotlib notebook"
   ]
  },
  {
   "cell_type": "code",
   "execution_count": 2,
   "metadata": {},
   "outputs": [],
   "source": [
    "import qcodes as qc"
   ]
  },
  {
   "cell_type": "code",
   "execution_count": 78,
   "metadata": {},
   "outputs": [],
   "source": [
    "from importlib import reload\n",
    "from qctools import instruments as instools\n",
    "reload(instools)\n",
    "\n",
    "import labpythonconfig as cfg\n",
    "reload(cfg)\n",
    "\n",
    "from experiment import measurement\n",
    "reload(measurement)\n",
    "from experiment.measurement import Parameter, BaseMeasurement"
   ]
  },
  {
   "cell_type": "code",
   "execution_count": 76,
   "metadata": {
    "collapsed": true
   },
   "outputs": [],
   "source": [
    "station = qc.Station()"
   ]
  },
  {
   "cell_type": "code",
   "execution_count": 79,
   "metadata": {},
   "outputs": [
    {
     "name": "stdout",
     "output_type": "stream",
     "text": [
      "Params: 0 1 11\n"
     ]
    }
   ],
   "source": [
    "class DummyMeasurement(BaseMeasurement):\n",
    "    start = Parameter(\"start\")\n",
    "    stop = Parameter(\"stop\")\n",
    "    npts = Parameter(\"npts\")\n",
    "    \n",
    "    def measure(self):\n",
    "        print(\"Params:\", self.start(), self.stop(), self.npts())\n",
    "        \n",
    "\n",
    "m = DummyMeasurement(station)\n",
    "m.start(0)\n",
    "m.stop(1)\n",
    "m.npts(11)\n",
    "m.run()"
   ]
  },
  {
   "cell_type": "code",
   "execution_count": null,
   "metadata": {
    "collapsed": true
   },
   "outputs": [],
   "source": []
  },
  {
   "cell_type": "code",
   "execution_count": null,
   "metadata": {
    "collapsed": true
   },
   "outputs": [],
   "source": []
  },
  {
   "cell_type": "code",
   "execution_count": 81,
   "metadata": {
    "collapsed": true
   },
   "outputs": [],
   "source": [
    "class SimpleMsmt(BaseMeasurement):\n",
    "    def __init__(self, station, func):\n",
    "        super().__init__(station)\n",
    "        self.func = func\n",
    "        \n",
    "    def measure(self):\n",
    "        self.func()\n",
    "        \n",
    "\n",
    "f = lambda : True\n",
    "s = SimpleMsmt(station, f)\n",
    "s.run()"
   ]
  },
  {
   "cell_type": "code",
   "execution_count": null,
   "metadata": {
    "collapsed": true
   },
   "outputs": [],
   "source": []
  }
 ],
 "metadata": {
  "kernelspec": {
   "display_name": "Python 3",
   "language": "python",
   "name": "python3"
  },
  "language_info": {
   "codemirror_mode": {
    "name": "ipython",
    "version": 3
   },
   "file_extension": ".py",
   "mimetype": "text/x-python",
   "name": "python",
   "nbconvert_exporter": "python",
   "pygments_lexer": "ipython3",
   "version": "3.6.2"
  }
 },
 "nbformat": 4,
 "nbformat_minor": 2
}
