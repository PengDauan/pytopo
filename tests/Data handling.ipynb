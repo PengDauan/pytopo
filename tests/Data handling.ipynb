{
 "cells": [
  {
   "cell_type": "code",
   "execution_count": 119,
   "metadata": {
    "collapsed": true
   },
   "outputs": [],
   "source": [
    "import sys\n",
    "import numpy as np\n",
    "from matplotlib import pyplot as plt\n",
    "import h5py\n",
    "import pandas as pd\n",
    "from collections import OrderedDict\n",
    "\n",
    "%matplotlib notebook"
   ]
  },
  {
   "cell_type": "code",
   "execution_count": 2,
   "metadata": {
    "collapsed": true
   },
   "outputs": [],
   "source": [
    "import qcodes as qc"
   ]
  },
  {
   "cell_type": "markdown",
   "metadata": {},
   "source": [
    "# Setup notes\n",
    "\n",
    "For this example to run, you need to have set up a labpython config file. There is a template in labpythonQDelft/templates."
   ]
  },
  {
   "cell_type": "code",
   "execution_count": 3,
   "metadata": {
    "collapsed": true
   },
   "outputs": [],
   "source": [
    "from importlib import reload\n",
    "from qctools import instruments as instools\n",
    "reload(instools)\n",
    "\n",
    "import labpythonconfig as cfg\n",
    "reload(cfg)\n",
    "\n",
    "from experiment import measurement\n",
    "reload(measurement)\n",
    "from experiment.measurement import Parameter, BaseMeasurement"
   ]
  },
  {
   "cell_type": "code",
   "execution_count": 4,
   "metadata": {
    "collapsed": true
   },
   "outputs": [],
   "source": [
    "from pysweep.data_storage import np_storage\n",
    "reload(np_storage)\n",
    "from pysweep.data_storage.np_storage import NpStorage, DataSet"
   ]
  },
  {
   "cell_type": "code",
   "execution_count": 5,
   "metadata": {
    "collapsed": true
   },
   "outputs": [],
   "source": [
    "station = qc.Station()"
   ]
  },
  {
   "cell_type": "code",
   "execution_count": null,
   "metadata": {
    "collapsed": true
   },
   "outputs": [],
   "source": []
  },
  {
   "cell_type": "code",
   "execution_count": 162,
   "metadata": {},
   "outputs": [],
   "source": [
    "import os\n",
    "import h5py\n",
    "import numpy as np\n",
    "\n",
    "class Data(NpStorage):\n",
    "    def __init__(self, filepath):\n",
    "        super().__init__()\n",
    "        self.filepath = filepath\n",
    "        \n",
    "    \n",
    "    def spyview_meta(self, page):\n",
    "        pass       \n",
    "            \n",
    "    @staticmethod\n",
    "    def flatten_page(page):\n",
    "        names = [n for n in page.dtype.fields]\n",
    "        shapes = [page.dtype[n].shape for n in names]\n",
    "        dtypes = [page[n].dtype for n in names]\n",
    "        sizes = [np.prod(s) for s in shapes]\n",
    "\n",
    "        if ((1,) in shapes and len(set(shapes)) > 2) or ((1,) not in shapes and len(set(shapes)) > 1):\n",
    "            raise NotImplementedError(\"Flattening of non-trivial shapes is currently not implemented.\")\n",
    "        \n",
    "        blocksize = max(sizes)\n",
    "        pagelen = page.size\n",
    "        datasize = blocksize * pagelen\n",
    "        data = np.zeros((datasize,), dtype=[(n,d) for n,d in zip(names, dtypes)])\n",
    "        \n",
    "        for name, size in zip(names, sizes):\n",
    "            if size < blocksize:\n",
    "                data[name] = np.vstack(blocksize*[page[name].reshape(-1)]).reshape(-1, order='F')\n",
    "            else:\n",
    "                data[name] = page[name].reshape(-1)\n",
    "        \n",
    "        return data\n",
    "\n",
    "    def write_spyview_data(self, fn, page):\n",
    "        isnewfile = not os.path.exists(fn)\n",
    "        \n",
    "        data = Data.flatten_page(page)\n",
    "        _names = [n for n in data.dtype.fields]\n",
    "        names = _names[::-1][1:] + [_names[-1]]\n",
    "        page_name = names[-1]\n",
    "        \n",
    "        alldata = Data.flatten_page(self[page_name])\n",
    "        col0_start = alldata[names[0]][0]\n",
    "      \n",
    "        with open(fn, 'a') as f:\n",
    "            for i, row in enumerate(data):\n",
    "                if row[names[0]] == col0_start:\n",
    "                    f.write(\"\\n\")\n",
    "                \n",
    "                line = \"\\t\".join([\"{}\".format(row[k]) for k in names])\n",
    "                line += \"\\n\"\n",
    "                f.write(line)\n",
    "        \n",
    "    \n",
    "    def add(self, record, write=True):\n",
    "        super().add(record)\n",
    "        if write:\n",
    "            self.write(record)    \n",
    "        \n",
    "    def write(self, record=None):\n",
    "        with h5py.File(self.filepath, 'a') as f:\n",
    "            if record is None:\n",
    "                pages = self._pages\n",
    "            else:\n",
    "                pages = self.record_to_pages(record)\n",
    "\n",
    "            for name, arr in pages.items():\n",
    "                if name in f:\n",
    "                    d = f[name]\n",
    "                else:\n",
    "                    d = f.create_dataset(name, (0,), maxshape=(None,), dtype=arr.dtype, chunks=True)\n",
    "                    \n",
    "                newlen = d.size + arr.size\n",
    "                d.resize((newlen,))\n",
    "                d[-arr.size:] = arr"
   ]
  },
  {
   "cell_type": "code",
   "execution_count": 163,
   "metadata": {},
   "outputs": [],
   "source": [
    "data = Data(None)\n",
    "        \n",
    "# set up loop\n",
    "xpoints = np.linspace(0, 10, 3)\n",
    "ypoints = np.linspace(0, 10, 5)\n",
    "\n",
    "# now populate in a primitive loop\n",
    "for x in xpoints:\n",
    "    for y in ypoints:\n",
    "\n",
    "        # acquire some data\n",
    "        z = np.cos(x) * np.cos(y) * np.linspace(0,1,4).reshape(2,2)\n",
    "        idx = np.arange(4).reshape(2,2)\n",
    "\n",
    "        # add to dataset\n",
    "        data.add(\n",
    "            OrderedDict(\n",
    "                {'a' : {'value' : x, 'independent_parameter' : True, 'unit' : 'V'},\n",
    "                 'b' : {'value' : y, 'independent_parameter' : True, 'unit' : 'V'},\n",
    "                 'idx' : {'value' : idx, 'independent_parameter' : True},\n",
    "                 'z' : {'value' : z },\n",
    "            }), write=False\n",
    "        )"
   ]
  },
  {
   "cell_type": "code",
   "execution_count": 164,
   "metadata": {},
   "outputs": [],
   "source": [
    "data.write_spyview_data('test.txt', data['z'])"
   ]
  },
  {
   "cell_type": "code",
   "execution_count": 79,
   "metadata": {},
   "outputs": [],
   "source": []
  },
  {
   "cell_type": "code",
   "execution_count": null,
   "metadata": {
    "collapsed": true
   },
   "outputs": [],
   "source": []
  }
 ],
 "metadata": {
  "kernelspec": {
   "display_name": "Python 3",
   "language": "python",
   "name": "python3"
  },
  "language_info": {
   "codemirror_mode": {
    "name": "ipython",
    "version": 3
   },
   "file_extension": ".py",
   "mimetype": "text/x-python",
   "name": "python",
   "nbconvert_exporter": "python",
   "pygments_lexer": "ipython3",
   "version": "3.6.2"
  }
 },
 "nbformat": 4,
 "nbformat_minor": 2
}
