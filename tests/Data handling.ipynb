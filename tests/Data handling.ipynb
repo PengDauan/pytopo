{
 "cells": [
  {
   "cell_type": "code",
   "execution_count": 113,
   "metadata": {
    "collapsed": true
   },
   "outputs": [],
   "source": [
    "import sys\n",
    "import numpy as np\n",
    "from matplotlib import pyplot as plt\n",
    "import h5py\n",
    "import pandas as pd\n",
    "from collections import OrderedDict\n",
    "from pprint import pprint\n",
    "\n",
    "%matplotlib notebook"
   ]
  },
  {
   "cell_type": "code",
   "execution_count": 2,
   "metadata": {
    "collapsed": true
   },
   "outputs": [],
   "source": [
    "import qcodes as qc"
   ]
  },
  {
   "cell_type": "markdown",
   "metadata": {},
   "source": [
    "# Setup notes\n",
    "\n",
    "For this example to run, you need to have set up a labpython config file. There is a template in labpythonQDelft/templates."
   ]
  },
  {
   "cell_type": "code",
   "execution_count": 7,
   "metadata": {
    "collapsed": true
   },
   "outputs": [],
   "source": [
    "from pysweep.data_storage import base_storage\n",
    "reload(base_storage)\n",
    "from pysweep.data_storage.base_storage import BaseStorage, DataSet\n",
    "\n",
    "from pysweep import sweep_object\n",
    "reload(sweep_object)\n",
    "from pysweep.sweep_object import sweep, ChainSweep"
   ]
  },
  {
   "cell_type": "code",
   "execution_count": 87,
   "metadata": {
    "collapsed": true
   },
   "outputs": [],
   "source": [
    "from importlib import reload\n",
    "from qctools import instruments as instools\n",
    "reload(instools)\n",
    "\n",
    "import labpythonconfig as cfg\n",
    "reload(cfg)\n",
    "\n",
    "from experiment import measurement\n",
    "reload(measurement)\n",
    "from experiment.measurement import Parameter, BaseMeasurement, PysweepMeasurement\n",
    "from experiment.measurement import Data as _Data"
   ]
  },
  {
   "cell_type": "code",
   "execution_count": 88,
   "metadata": {
    "collapsed": true
   },
   "outputs": [],
   "source": [
    "station = qc.Station()"
   ]
  },
  {
   "cell_type": "code",
   "execution_count": null,
   "metadata": {
    "collapsed": true
   },
   "outputs": [],
   "source": []
  },
  {
   "cell_type": "code",
   "execution_count": 116,
   "metadata": {},
   "outputs": [],
   "source": [
    "class Data(_Data):\n",
    "    \n",
    "    @staticmethod\n",
    "    def get_column_names(page):\n",
    "        colnames = [n for n in page.dtype.fields]\n",
    "        return colnames\n",
    "    \n",
    "    @staticmethod\n",
    "    def get_axes_names(page):\n",
    "        n = Data.get_column_names(page)\n",
    "        return n[:-1]\n",
    "\n",
    "\n",
    "class GridData(Data):\n",
    "    \n",
    "    def __init__(self, filepath):\n",
    "        super().__init__(filepath)\n",
    "        self.grids = {}\n",
    "        \n",
    "    def add(self, record):\n",
    "        super().add(record)\n",
    "        \n",
    "        independents = [(name, value) for name, value in record.items() if value.get('independent_parameter', False)]\n",
    "        independents = self.dict_to_array(dict(independents))\n",
    "        dependents = [(name, value) for name, value in record.items() if not value.get('independent_parameter', False)]\n",
    "        \n",
    "        for (n, v) in dependents:\n",
    "            if n in self.grids:\n",
    "                g = self.grids[n]\n",
    "                if 'shape' not in g:\n",
    "                    shp = tuple([a.size for _, a in g['axes'].items()])\n",
    "                    g['shape'] = shp\n",
    "        \n",
    "    \n",
    "    \n",
    "ivals = np.arange(5, dtype=int)\n",
    "jvals = np.arange(5) * 0.1\n",
    "scales = np.linspace(0,1,3)\n",
    "\n",
    "d = GridData(None)\n",
    "d.grids['value'] = {}\n",
    "d.grids['value']['axes'] = OrderedDict({\n",
    "    'scale' : scales,\n",
    "    'j' : jvals,\n",
    "    'i' : ivals,\n",
    "})\n",
    "\n",
    "for i in ivals:\n",
    "    for j in jvals:\n",
    "        v = (i + j**2) * scales\n",
    "        rec = OrderedDict({\n",
    "            'scale' : {'value' : scales, 'independent_parameter' : True},\n",
    "            'j' : {'value' : j, 'independent_parameter' : True},\n",
    "            'i' : {'value' : i, 'independent_parameter' : True},\n",
    "            'value' : {'value' : v},\n",
    "        })\n",
    "        d.add(rec)"
   ]
  },
  {
   "cell_type": "code",
   "execution_count": 117,
   "metadata": {},
   "outputs": [
    {
     "name": "stdout",
     "output_type": "stream",
     "text": [
      "{'value': {'axes': OrderedDict([('scale', array([ 0. ,  0.5,  1. ])),\n",
      "                                ('j', array([ 0. ,  0.1,  0.2,  0.3,  0.4])),\n",
      "                                ('i', array([0, 1, 2, 3, 4]))]),\n",
      "           'shape': (3, 5, 5)}}\n"
     ]
    }
   ],
   "source": [
    "pprint(d.grids)"
   ]
  },
  {
   "cell_type": "code",
   "execution_count": null,
   "metadata": {
    "collapsed": true
   },
   "outputs": [],
   "source": []
  }
 ],
 "metadata": {
  "kernelspec": {
   "display_name": "Python 3",
   "language": "python",
   "name": "python3"
  },
  "language_info": {
   "codemirror_mode": {
    "name": "ipython",
    "version": 3
   },
   "file_extension": ".py",
   "mimetype": "text/x-python",
   "name": "python",
   "nbconvert_exporter": "python",
   "pygments_lexer": "ipython3",
   "version": "3.6.3"
  }
 },
 "nbformat": 4,
 "nbformat_minor": 2
}
