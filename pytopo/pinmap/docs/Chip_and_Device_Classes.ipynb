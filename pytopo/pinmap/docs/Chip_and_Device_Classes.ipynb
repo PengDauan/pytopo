{
 "cells": [
  {
   "cell_type": "markdown",
   "metadata": {},
   "source": [
    "## Import and initialize"
   ]
  },
  {
   "cell_type": "code",
   "execution_count": 1,
   "metadata": {},
   "outputs": [
    {
     "name": "stdout",
     "output_type": "stream",
     "text": [
      "pyqtgraph plotting not supported, try \"from qcodes.plots.pyqtgraph import QtPlot\" to see the full error\n"
     ]
    }
   ],
   "source": [
    "import qcodes as qc\n",
    "from qcodes import ManualParameter, ScaledParameter\n",
    "from qcodes import Parameter, Instrument, validators as vals\n",
    "from qcodes.instrument.channel import InstrumentChannel"
   ]
  },
  {
   "cell_type": "code",
   "execution_count": 2,
   "metadata": {},
   "outputs": [],
   "source": [
    "from qcodes.tests.instrument_mocks import DummyInstrument"
   ]
  },
  {
   "cell_type": "code",
   "execution_count": 3,
   "metadata": {},
   "outputs": [],
   "source": [
    "dac = DummyInstrument('dac', gates=['dac1', 'dac2', 'dac3'])\n",
    "dmm = DummyInstrument('dmm', gates=['voltage'])\n",
    "lockin = DummyInstrument('lockin', gates=['X', \"SineOut\"])"
   ]
  },
  {
   "cell_type": "code",
   "execution_count": 4,
   "metadata": {},
   "outputs": [
    {
     "name": "stdout",
     "output_type": "stream",
     "text": [
      "V\n"
     ]
    }
   ],
   "source": [
    "print(dac.dac1.unit)"
   ]
  },
  {
   "cell_type": "code",
   "execution_count": 19,
   "metadata": {},
   "outputs": [
    {
     "name": "stdout",
     "output_type": "stream",
     "text": [
      "R = 9.500000000000002 kOhms\n"
     ]
    }
   ],
   "source": [
    "print('R = ' + str(12906/g()/1e3) + ' kOhms')"
   ]
  },
  {
   "cell_type": "markdown",
   "metadata": {},
   "source": [
    "This is a typical value when checking a 'sample simulator' set to 10k with the IVVI rack"
   ]
  },
  {
   "cell_type": "markdown",
   "metadata": {},
   "source": [
    "## Class definitions\n",
    "Save all info about chip, device type, lines, series resistance, etc. as parameters in various classes so that it all gets stored in the snapshot"
   ]
  },
  {
   "cell_type": "code",
   "execution_count": 23,
   "metadata": {},
   "outputs": [],
   "source": [
    "#Dictionaries below are for testing purposes.  Eventually will probably import these from config \n",
    "#files associated with each fridge and PCB\n",
    "\n",
    "#Fridge series resistance dictionary\n",
    "Rs_fridge = {'1-1': 3.4e3,\n",
    "            '1-2': 3.4e3,\n",
    "            '1-3': 3.4e3,\n",
    "            '1-4': 5e3,\n",
    "            '2-1': 3.4e3,\n",
    "            '2-2': 3.4e3,\n",
    "            '2-3': 5e3,\n",
    "            '2-4': 3.4e3}\n",
    "\n",
    "#PCB series resistance dictionary\n",
    "Rs_pcb = {'1': 5e3,\n",
    "         '2': 5e3,\n",
    "         '3': 10e3,\n",
    "         '4': 10e3,\n",
    "         '5': 5e3,\n",
    "         '6': 5e3,\n",
    "         '7': 10e3,\n",
    "         '8': 5e3}\n",
    "\n",
    "#PCB to fridge line mapping\n",
    "PCB_to_fridge = {'1': '1-1',\n",
    "                '2': '1-2',\n",
    "                '3': '1-3',\n",
    "                '4': '1-4',\n",
    "                '5':  '2-4',\n",
    "                '6':  '2-3',\n",
    "                '7':  '2-2',\n",
    "                '8':  '2-1'}"
   ]
  },
  {
   "cell_type": "code",
   "execution_count": 34,
   "metadata": {},
   "outputs": [
    {
     "name": "stdout",
     "output_type": "stream",
     "text": [
      "13400.0\n"
     ]
    }
   ],
   "source": [
    "line = '7'\n",
    "Total_Rs =  Rs_pcb[line] + Rs_fridge[PCB_to_fridge[line]]\n",
    "print(Total_Rs)"
   ]
  },
  {
   "cell_type": "code",
   "execution_count": 40,
   "metadata": {},
   "outputs": [],
   "source": [
    "class Device(InstrumentChannel):\n",
    "    \n",
    "    def __init__(self, parent: Instrument, name: str, channel: str, device_info) -> None:\n",
    "        \"\"\"\n",
    "        Args:\n",
    "            parent: The Instrument instance to which the channel is\n",
    "                to be attached.\n",
    "            name: The 'colloquial' name of the channel\n",
    "            channel: The name used by the Keithley, i.e. either\n",
    "                'smua' or 'smub'\n",
    "        \"\"\"\n",
    "        super().__init__(parent, name)\n",
    "\n",
    "        self.add_parameter('device_id',\n",
    "                               parameter_class=ManualParameter,\n",
    "                               initial_value=channel,\n",
    "                               label='Device_ID',\n",
    "                          )\n",
    "        \n",
    "        self.add_parameter('device_type',\n",
    "                               parameter_class=ManualParameter,\n",
    "                               initial_value=device_info[0],\n",
    "                               label='Device_Type',\n",
    "                               vals=vals.Strings()\n",
    "                          )\n",
    "                           \n",
    "        \n",
    "        for elec in device_info[1]:\n",
    "            self.add_parameter(elec,\n",
    "                                   parameter_class=ManualParameter,\n",
    "                                   initial_value=0.0,\n",
    "                                   label=elec,\n",
    "                                   vals=vals.Numbers()\n",
    "                              )      \n",
    "\n",
    "        self.channel = channel\n",
    "\n",
    "class Die(Instrument):\n",
    "    def __init__(self, name, fridge, motherboard, daughterboard, device_tuple, **kwargs):\n",
    "        super().__init__(name, **kwargs)\n",
    "    \n",
    "        self.add_parameter('fridge',\n",
    "                               parameter_class=ManualParameter,\n",
    "                               initial_value=fridge,\n",
    "                               label='Fridge',\n",
    "                               vals=vals.Enum('QT1', 'QT2', 'QT3', 'QT4', 'QT5', 'LC1'))\n",
    "\n",
    "        self.add_parameter('motherboard',\n",
    "                               parameter_class=ManualParameter,\n",
    "                               initial_value=motherboard,\n",
    "                               label='Motherboard',\n",
    "                               vals=vals.Enum('Gen4.0', 'Gen4.5', 'Gen5.0'))\n",
    "\n",
    "        self.add_parameter('daughterboard',\n",
    "                               parameter_class=ManualParameter,\n",
    "                               initial_value=daughterboard,\n",
    "                               label='Daughterboard',\n",
    "                               vals=vals.Enum('Gen4.0_Rect', 'Gen4.0_Sq', 'Gen4.5', \n",
    "                                                 'Gen5.0_Rect_Gnd', 'Gen5.0_Sq_Gnd', \n",
    "                                                 'Gen5.0_Rect_Flt', 'Gen5.0_Sq_Flt'))\n",
    "        \n",
    "        \n",
    "        for ch in range(len(device_tuple)):\n",
    "                ch_name = 'dev{}'.format(ch + 1)\n",
    "                channel = Device(self, ch_name, ch_name, device_tuple[ch])\n",
    "                self.add_submodule(ch_name, channel)"
   ]
  },
  {
   "cell_type": "code",
   "execution_count": 41,
   "metadata": {},
   "outputs": [],
   "source": [
    "electrodes1 = {'source': 1, 'drain': 5, 'cutter1': 2, 'cutter2': 8, 'plunger1': 3, 'plunger2': 7}\n",
    "# maps PCB pins to device's electrodes\n",
    "electrodes2 = {'source': 9, 'drain': 10, 'cutter1': 11, 'cutter2': 12, 'plunger1': 13, 'plunger2': 14}\n",
    "device_list = (('ZBP', electrodes1), ('QD', electrodes2))\n",
    "\n",
    "chip = Die('V0_0121A', 'QT3', 'Gen5.0', 'Gen5.0_Rect_Flt', device_list)\n",
    "# name of the die/chip is from the fab"
   ]
  },
  {
   "cell_type": "code",
   "execution_count": 42,
   "metadata": {},
   "outputs": [
    {
     "data": {
      "text/plain": [
       "0.0"
      ]
     },
     "execution_count": 42,
     "metadata": {},
     "output_type": "execute_result"
    }
   ],
   "source": [
    "chip.dev1.cutter1()"
   ]
  },
  {
   "cell_type": "code",
   "execution_count": 43,
   "metadata": {},
   "outputs": [
    {
     "data": {
      "text/plain": [
       "'ZBP'"
      ]
     },
     "execution_count": 43,
     "metadata": {},
     "output_type": "execute_result"
    }
   ],
   "source": [
    "chip.dev1.device_type()"
   ]
  },
  {
   "cell_type": "markdown",
   "metadata": {},
   "source": [
    "# Trying ideas here"
   ]
  },
  {
   "cell_type": "markdown",
   "metadata": {},
   "source": [
    "## Concept"
   ]
  },
  {
   "cell_type": "code",
   "execution_count": 3,
   "metadata": {},
   "outputs": [],
   "source": [
    "class Pin:  # Parameter-like\n",
    "    \"\"\"\n",
    "    This class represents a pin or an electrode.\n",
    "    \n",
    "    It has a label that users can refer to when \n",
    "    creating connections between pins.\n",
    "    \n",
    "    It also has a transformation that defines what \n",
    "    happens with the values that are passed thorugh this pin.\n",
    "    \n",
    "    TODO:\n",
    "    * snapshot\n",
    "    * create properties for useful parts\n",
    "    * QCODES Parameter-like?\n",
    "    \"\"\"\n",
    "    def __init__(label, transformation):\n",
    "        self.label = label\n",
    "        self.transformation = transformation\n",
    "\n",
    "\n",
    "# probably should be some sort of generic class of 'SmthWithPins'\n",
    "class Device:  # Instrument-like\n",
    "    \"\"\"\n",
    "    The device represents one device on a chip/die.\n",
    "    \n",
    "    It contains pins. They are accessible as attributes.\n",
    "    \n",
    "    TODO:\n",
    "    * adding pins\n",
    "    * snapshot\n",
    "    * properties?\n",
    "    * make loadable/creatable from yaml file\n",
    "    \"\"\"\n",
    "    def __init__(name):\n",
    "        self.name = name\n",
    "        # self.add_pin(...)\n",
    "\n",
    "\n",
    "class Chip:  # Instrument-like\n",
    "    \"\"\"\n",
    "    Just comprises one or more devices, nothing more.\n",
    "    \n",
    "    TODO:\n",
    "    * add device\n",
    "    * properties?\n",
    "    * should pins of devices be directly accessible or only via devices attributes?\n",
    "    * make loadable/creatable from yaml file\n",
    "    * snapshot\n",
    "    \"\"\"\n",
    "    def __init__(name):\n",
    "        self.name = name\n",
    "        # self.add_device(...)\n",
    "        \n",
    "\n",
    "Daughterboard = Device\n",
    "Motherboard = Device\n",
    "Fridge = Device\n",
    "BreakoutBox = Device\n",
    "# TODO: what for the case of MDAC? a wrapper?\n",
    "# TODO: viasualization of all connections\n",
    "\n",
    "\n",
    "class Transformation:\n",
    "    \"\"\"\n",
    "    Interface for defining how value is propagated forward and backward\n",
    "    \n",
    "    TODO:\n",
    "    * should it work on value or on Parameter or Pin?\n",
    "    \"\"\"\n",
    "    def forward(self, value):\n",
    "        raise NotImplemented\n",
    "    \n",
    "    def backward(self, value):\n",
    "        raise NotImplemented\n",
    "\n",
    "\n",
    "class UnityTransformation(Transformation):\n",
    "    def forward(self, value):\n",
    "        return value\n",
    "    def backward(self, value):\n",
    "        return value"
   ]
  },
  {
   "cell_type": "markdown",
   "metadata": {},
   "source": [
    "## Dirty implementation based on qcodes parameters and instruments"
   ]
  },
  {
   "cell_type": "code",
   "execution_count": 144,
   "metadata": {},
   "outputs": [],
   "source": [
    "from pprint import pprint\n"
   ]
  },
  {
   "cell_type": "code",
   "execution_count": 196,
   "metadata": {},
   "outputs": [],
   "source": [
    "from pytopo.pinmap.connect import connect_pins\n",
    "from pytopo.pinmap.devices import Device, Chip, Daughterboard\n",
    "from pytopo.pinmap.transformations import AddOneTransformation"
   ]
  },
  {
   "cell_type": "markdown",
   "metadata": {},
   "source": [
    "Now trying out really:"
   ]
  },
  {
   "cell_type": "code",
   "execution_count": 197,
   "metadata": {},
   "outputs": [],
   "source": [
    "qubit = Device('qubit')\n",
    "qubit.add_pin('source', '1')\n",
    "qubit.add_pin('drain', '2')\n",
    "qubit.add_pin('cutter', '3')"
   ]
  },
  {
   "cell_type": "code",
   "execution_count": 198,
   "metadata": {},
   "outputs": [],
   "source": [
    "majorana = Device('majorana')\n",
    "majorana.add_pin('source', '21')\n",
    "majorana.add_pin('drain', '22')\n",
    "majorana.add_pin('plunger', '33')"
   ]
  },
  {
   "cell_type": "code",
   "execution_count": 199,
   "metadata": {},
   "outputs": [],
   "source": [
    "chip = Chip('chip-1255GHER')\n",
    "chip.add_device(qubit)\n",
    "chip.add_device(majorana)"
   ]
  },
  {
   "cell_type": "code",
   "execution_count": 200,
   "metadata": {},
   "outputs": [
    {
     "name": "stdout",
     "output_type": "stream",
     "text": [
      "Chip 'chip-1255GHER'\n",
      "Device 'qubit'\n",
      "Pin 'source' - '1'\n",
      "Pin 'drain' - '2'\n",
      "Pin 'cutter' - '3'\n",
      "Device 'majorana'\n",
      "Pin 'source' - '21'\n",
      "Pin 'drain' - '22'\n",
      "Pin 'plunger' - '33'\n"
     ]
    }
   ],
   "source": [
    "print(chip)"
   ]
  },
  {
   "cell_type": "code",
   "execution_count": 201,
   "metadata": {},
   "outputs": [],
   "source": [
    "daughter = Daughterboard('daughter-D123')\n",
    "for i in range(8):\n",
    "    daughter.add_pin(f'p{i}', f'{i}', transformation=AddOneTransformation)"
   ]
  },
  {
   "cell_type": "code",
   "execution_count": 202,
   "metadata": {},
   "outputs": [
    {
     "name": "stdout",
     "output_type": "stream",
     "text": [
      "Device 'daughter-D123'\n",
      "Pin 'p0' - '0'\n",
      "Pin 'p1' - '1'\n",
      "Pin 'p2' - '2'\n",
      "Pin 'p3' - '3'\n",
      "Pin 'p4' - '4'\n",
      "Pin 'p5' - '5'\n",
      "Pin 'p6' - '6'\n",
      "Pin 'p7' - '7'\n"
     ]
    }
   ],
   "source": [
    "print(daughter)"
   ]
  },
  {
   "cell_type": "code",
   "execution_count": 203,
   "metadata": {},
   "outputs": [],
   "source": [
    "chip_to_daughter = {\n",
    "    '1': '1',\n",
    "    '2': '3',\n",
    "    '3': '5'\n",
    "}"
   ]
  },
  {
   "cell_type": "code",
   "execution_count": 204,
   "metadata": {},
   "outputs": [
    {
     "name": "stdout",
     "output_type": "stream",
     "text": [
      "done!\n"
     ]
    }
   ],
   "source": [
    "connect_pins(of=chip, to=daughter, using_map=chip_to_daughter)"
   ]
  },
  {
   "cell_type": "code",
   "execution_count": 205,
   "metadata": {},
   "outputs": [
    {
     "name": "stdout",
     "output_type": "stream",
     "text": [
      "12\n",
      "11\n"
     ]
    }
   ],
   "source": [
    "daughter.p5(12)\n",
    "print(daughter.p5())\n",
    "print(daughter.p5.raw_value)"
   ]
  },
  {
   "cell_type": "code",
   "execution_count": 206,
   "metadata": {},
   "outputs": [
    {
     "data": {
      "text/plain": [
       "0"
      ]
     },
     "execution_count": 206,
     "metadata": {},
     "output_type": "execute_result"
    }
   ],
   "source": [
    "chip.qubit.cutter()"
   ]
  },
  {
   "cell_type": "code",
   "execution_count": null,
   "metadata": {},
   "outputs": [],
   "source": []
  }
 ],
 "metadata": {
  "kernelspec": {
   "display_name": "Python [conda env:qcodes]",
   "language": "python",
   "name": "conda-env-qcodes-py"
  },
  "language_info": {
   "codemirror_mode": {
    "name": "ipython",
    "version": 3
   },
   "file_extension": ".py",
   "mimetype": "text/x-python",
   "name": "python",
   "nbconvert_exporter": "python",
   "pygments_lexer": "ipython3",
   "version": "3.6.6"
  },
  "toc": {
   "base_numbering": 1,
   "nav_menu": {},
   "number_sections": true,
   "sideBar": true,
   "skip_h1_title": false,
   "title_cell": "Table of Contents",
   "title_sidebar": "Contents",
   "toc_cell": false,
   "toc_position": {},
   "toc_section_display": true,
   "toc_window_display": false
  },
  "varInspector": {
   "cols": {
    "lenName": 16,
    "lenType": 16,
    "lenVar": 40
   },
   "kernels_config": {
    "python": {
     "delete_cmd_postfix": "",
     "delete_cmd_prefix": "del ",
     "library": "var_list.py",
     "varRefreshCmd": "print(var_dic_list())"
    },
    "r": {
     "delete_cmd_postfix": ") ",
     "delete_cmd_prefix": "rm(",
     "library": "var_list.r",
     "varRefreshCmd": "cat(var_dic_list()) "
    }
   },
   "types_to_exclude": [
    "module",
    "function",
    "builtin_function_or_method",
    "instance",
    "_Feature"
   ],
   "window_display": false
  }
 },
 "nbformat": 4,
 "nbformat_minor": 2
}
