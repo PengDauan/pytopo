{
 "cells": [
  {
   "cell_type": "markdown",
   "metadata": {},
   "source": [
    "## Overview\n",
    "This notebook tests importing and running the scripted version of the continuity checker.  The use case in mind is that one would initialize the station in the primary measurement notebook and then call this script (i.e. eliminate the need to re-initialize the instruments in separate notebooks since the MDAC takes so long to connect to."
   ]
  },
  {
   "cell_type": "markdown",
   "metadata": {},
   "source": [
    "## Imports"
   ]
  },
  {
   "cell_type": "code",
   "execution_count": 3,
   "metadata": {},
   "outputs": [
    {
     "name": "stdout",
     "output_type": "stream",
     "text": [
      "67\n"
     ]
    }
   ],
   "source": [
    "import qcodes as qc\n",
    "import numpy as np\n",
    "from matplotlib import pyplot as plt\n",
    "import logging\n",
    "import matplotlib.pyplot as plt\n",
    "import time\n",
    "\n",
    "from qcodes.instrument_drivers.tektronix.Keithley_2600_channels import Keithley_2600\n",
    "from StationQ.MDAC.Driver.MDAC import MDAC\n",
    "\n",
    "from v0_utils.qcodes_tools import \\\n",
    "instrument_factory\n",
    "\n",
    "from Continuity_checker import continuity_checker\n",
    "from wiring_maps import channel_mapper"
   ]
  },
  {
   "cell_type": "code",
   "execution_count": 2,
   "metadata": {},
   "outputs": [
    {
     "name": "stderr",
     "output_type": "stream",
     "text": [
      "C:\\ProgramData\\Anaconda3\\envs\\qcodes4\\lib\\site-packages\\pyvisa\\ctwrapper\\functions.py:1649: VisaIOWarning: VI_WARN_NSUP_ATTR_STATE (1073676420): Although the specified state of the attribute is valid, it is not supported by this implementation.\n",
      "  return library.viSetAttribute(session, attribute, attribute_state)\n"
     ]
    },
    {
     "name": "stdout",
     "output_type": "stream",
     "text": [
      "Connected to: QNL Sydney MDAC (serial:0x303035313535510D0032001D, firmware:1.4) in 4.78s\n",
      "Connected to: QNL Sydney MDAC (serial:0x303035313535510D0031001D, firmware:1.4) in 4.87s\n",
      "Connected to: Keithley Instruments Inc. 2614B (serial:4349231, firmware:3.2.2) in 0.18s\n"
     ]
    },
    {
     "data": {
      "text/plain": [
       "'keithley'"
      ]
     },
     "execution_count": 2,
     "metadata": {},
     "output_type": "execute_result"
    }
   ],
   "source": [
    "station = qc.Station()\n",
    "\n",
    "mdac1 = instrument_factory(\n",
    "    MDAC, \"mdac1\", address='ASRL7::INSTR')\n",
    "station.add_component(mdac1)\n",
    "\n",
    "mdac2 = instrument_factory(\n",
    "    MDAC, \"mdac2\", address='ASRL4::INSTR')\n",
    "station.add_component(mdac2)\n",
    "\n",
    "keithley = instrument_factory(Keithley_2600, \"keithley\", address='TCPIP::169.254.0.1')\n",
    "station.add_component(keithley)"
   ]
  },
  {
   "cell_type": "code",
   "execution_count": 3,
   "metadata": {},
   "outputs": [],
   "source": [
    "from Continuity_checker import continuity_checker"
   ]
  },
  {
   "cell_type": "code",
   "execution_count": 5,
   "metadata": {
    "scrolled": true
   },
   "outputs": [
    {
     "name": "stdout",
     "output_type": "stream",
     "text": [
      "Total continuity check time = 74.3768699169159s\n"
     ]
    }
   ],
   "source": [
    "R_dict = continuity_checker(station.mdac1, station.mdac2, station.keithley, probe_connection=False)"
   ]
  },
  {
   "cell_type": "code",
   "execution_count": 7,
   "metadata": {},
   "outputs": [
    {
     "name": "stdout",
     "output_type": "stream",
     "text": [
      "2-14 :  103253.0\n",
      "3-2 :  13564.560000000001\n",
      "3-3 :  13573.939999999999\n",
      "3-7 :  17633.31\n",
      "3-8 :  13666.470000000001\n",
      "3-9 :  13541.009999999998\n",
      "3-10 :  13644.689999999999\n",
      "3-11 :  13602.159999999998\n",
      "3-20 :  13637.059999999998\n",
      "3-21 :  13687.9\n",
      "3-22 :  13696.340000000002\n",
      "3-23 :  13654.219999999998\n",
      "3-24 :  16942.15\n",
      "4-1 :  13568.98\n",
      "4-7 :  18380.420000000002\n",
      "4-9 :  13597.060000000001\n",
      "4-11 :  18052.06\n",
      "4-12 :  13620.569999999998\n",
      "4-16 :  13698.320000000002\n",
      "4-24 :  13722.65\n",
      "4-25 :  13673.170000000002\n"
     ]
    }
   ],
   "source": [
    "for key in R_dict:\n",
    "    if R_dict[key] < 1e6:\n",
    "        print(key,': ',R_dict[key])"
   ]
  },
  {
   "cell_type": "markdown",
   "metadata": {},
   "source": [
    "Seems to work as expected"
   ]
  },
  {
   "cell_type": "code",
   "execution_count": 15,
   "metadata": {},
   "outputs": [
    {
     "data": {
      "text/plain": [
       "14944713300.0"
      ]
     },
     "execution_count": 15,
     "metadata": {},
     "output_type": "execute_result"
    }
   ],
   "source": [
    "R_dict['4-20']"
   ]
  },
  {
   "cell_type": "code",
   "execution_count": 9,
   "metadata": {},
   "outputs": [],
   "source": [
    "BG1 = channel_mapper('4-16', station.mdac1.channels, station.mdac2.channels, probe_connection=False)"
   ]
  },
  {
   "cell_type": "code",
   "execution_count": 11,
   "metadata": {},
   "outputs": [],
   "source": [
    "BG2 = channel_mapper('4-1', station.mdac1.channels, station.mdac2.channels, probe_connection=False)"
   ]
  },
  {
   "cell_type": "code",
   "execution_count": 19,
   "metadata": {},
   "outputs": [],
   "source": [
    "BG1.voltage(0)\n",
    "BG2.voltage(0)\n",
    "\n",
    "BG1.dac_output('open')\n",
    "BG2.dac_output('open')\n",
    "\n",
    "BG1.bus('close')\n",
    "\n",
    "BG1.microd('close')\n",
    "BG2.microd('close')"
   ]
  },
  {
   "cell_type": "code",
   "execution_count": 20,
   "metadata": {},
   "outputs": [
    {
     "data": {
      "text/plain": [
       "1402580000.0"
      ]
     },
     "execution_count": 20,
     "metadata": {},
     "output_type": "execute_result"
    }
   ],
   "source": [
    "station.keithley.smub.res()"
   ]
  },
  {
   "cell_type": "code",
   "execution_count": 21,
   "metadata": {},
   "outputs": [],
   "source": [
    "BG2.gnd('close')"
   ]
  },
  {
   "cell_type": "code",
   "execution_count": 22,
   "metadata": {},
   "outputs": [
    {
     "data": {
      "text/plain": [
       "13714.2"
      ]
     },
     "execution_count": 22,
     "metadata": {},
     "output_type": "execute_result"
    }
   ],
   "source": [
    "station.keithley.smub.res()"
   ]
  },
  {
   "cell_type": "code",
   "execution_count": 23,
   "metadata": {},
   "outputs": [],
   "source": [
    "BG1.microd('open')\n",
    "BG2.microd('open')\n",
    "BG2.gnd('open')\n",
    "BG1.bus('open')"
   ]
  },
  {
   "cell_type": "code",
   "execution_count": 71,
   "metadata": {},
   "outputs": [],
   "source": [
    "S1 = channel_mapper('4-11', station.mdac1.channels, station.mdac2.channels, probe_connection=False)\n",
    "S2 = channel_mapper('3-7', station.mdac1.channels, station.mdac2.channels, probe_connection=False)\n",
    "D1 = channel_mapper('4-11', station.mdac1.channels, station.mdac2.channels, probe_connection=False)\n",
    "D2 = channel_mapper('3-24', station.mdac1.channels, station.mdac2.channels, probe_connection=False)"
   ]
  },
  {
   "cell_type": "code",
   "execution_count": 75,
   "metadata": {},
   "outputs": [
    {
     "name": "stdout",
     "output_type": "stream",
     "text": [
      "266.926\n"
     ]
    }
   ],
   "source": [
    "#Float unused pins\n",
    "for ch in [S1, S2, D1, D2]:\n",
    "    ch.voltage(0)\n",
    "    ch.dac_output('open')\n",
    "    ch.smc('open')\n",
    "    ch.gnd('open')\n",
    "    ch.bus('open')\n",
    "    ch.microd('open')\n",
    "S1.bus('close')\n",
    "D2.gnd('close')\n",
    "S1.microd('close')\n",
    "D1.microd('close')\n",
    "S2.microd('close')\n",
    "D2.microd('close')\n",
    "print(station.keithley.smub.res()/1e3)"
   ]
  },
  {
   "cell_type": "code",
   "execution_count": 41,
   "metadata": {},
   "outputs": [
    {
     "data": {
      "text/plain": [
       "36433300000.0"
      ]
     },
     "execution_count": 41,
     "metadata": {},
     "output_type": "execute_result"
    }
   ],
   "source": [
    "station.keithley.smua.res()"
   ]
  },
  {
   "cell_type": "code",
   "execution_count": 77,
   "metadata": {},
   "outputs": [],
   "source": [
    "for ch in station.mdac1.channels:\n",
    "    ch.microd('open')\n",
    "    ch.bus('open')\n",
    "\n",
    "for ch in station.mdac2.channels:\n",
    "    ch.microd('open')\n",
    "    ch.bus('open')\n",
    "    "
   ]
  },
  {
   "cell_type": "code",
   "execution_count": null,
   "metadata": {},
   "outputs": [],
   "source": []
  }
 ],
 "metadata": {
  "kernelspec": {
   "display_name": "Python 3",
   "language": "python",
   "name": "python3"
  },
  "language_info": {
   "codemirror_mode": {
    "name": "ipython",
    "version": 3
   },
   "file_extension": ".py",
   "mimetype": "text/x-python",
   "name": "python",
   "nbconvert_exporter": "python",
   "pygments_lexer": "ipython3",
   "version": "3.6.5"
  },
  "toc": {
   "base_numbering": 1,
   "nav_menu": {},
   "number_sections": true,
   "sideBar": true,
   "skip_h1_title": false,
   "title_cell": "Table of Contents",
   "title_sidebar": "Contents",
   "toc_cell": false,
   "toc_position": {},
   "toc_section_display": true,
   "toc_window_display": false
  }
 },
 "nbformat": 4,
 "nbformat_minor": 2
}
