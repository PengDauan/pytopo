{
 "cells": [
  {
   "cell_type": "markdown",
   "metadata": {},
   "source": [
    "## Overview\n",
    "This notebook tests importing and running the scripted version of the continuity checker.  The use case in mind is that one would initialize the station in the primary measurement notebook and then call this script (i.e. eliminate the need to re-initialize the instruments in separate notebooks since the MDAC takes so long to connect to."
   ]
  },
  {
   "cell_type": "markdown",
   "metadata": {},
   "source": [
    "## Imports"
   ]
  },
  {
   "cell_type": "code",
   "execution_count": 1,
   "metadata": {},
   "outputs": [],
   "source": [
    "import qcodes as qc\n",
    "import numpy as np\n",
    "from matplotlib import pyplot as plt\n",
    "import logging\n",
    "import matplotlib.pyplot as plt\n",
    "import time\n",
    "\n",
    "from qcodes.instrument_drivers.tektronix.Keithley_2600_channels import Keithley_2600\n",
    "from StationQ.MDAC.Driver.MDAC import MDAC\n",
    "\n",
    "from v0_utils.qcodes_tools import \\\n",
    "instrument_factory"
   ]
  },
  {
   "cell_type": "code",
   "execution_count": 2,
   "metadata": {},
   "outputs": [
    {
     "name": "stderr",
     "output_type": "stream",
     "text": [
      "C:\\ProgramData\\Anaconda3\\lib\\site-packages\\pyvisa\\ctwrapper\\functions.py:1649: VisaIOWarning: VI_WARN_NSUP_ATTR_STATE (1073676420): Although the specified state of the attribute is valid, it is not supported by this implementation.\n",
      "  return library.viSetAttribute(session, attribute, attribute_state)\n"
     ]
    },
    {
     "name": "stdout",
     "output_type": "stream",
     "text": [
      "Connected to: QNL Sydney MDAC (serial:0x303035313535510D0032001D, firmware:1.4) in 5.80s\n",
      "Connected to: QNL Sydney MDAC (serial:0x303035313535510D0031001D, firmware:1.4) in 4.87s\n",
      "Connected to: Keithley Instruments Inc. 2614B (serial:4349231, firmware:3.2.2) in 0.18s\n"
     ]
    },
    {
     "data": {
      "text/plain": [
       "'keithley'"
      ]
     },
     "execution_count": 2,
     "metadata": {},
     "output_type": "execute_result"
    }
   ],
   "source": [
    "station = qc.Station()\n",
    "\n",
    "mdac1 = instrument_factory(\n",
    "    MDAC, \"mdac1\", address='ASRL5::INSTR')\n",
    "station.add_component(mdac1)\n",
    "\n",
    "mdac2 = instrument_factory(\n",
    "    MDAC, \"mdac2\", address='ASRL8::INSTR')\n",
    "station.add_component(mdac2)\n",
    "\n",
    "keithley = instrument_factory(Keithley_2600, \"keithley\", address='TCPIP::169.254.0.1')\n",
    "station.add_component(keithley)"
   ]
  },
  {
   "cell_type": "code",
   "execution_count": 3,
   "metadata": {},
   "outputs": [],
   "source": [
    "from Continuity_checker import continuity_checker"
   ]
  },
  {
   "cell_type": "code",
   "execution_count": 4,
   "metadata": {
    "scrolled": true
   },
   "outputs": [
    {
     "name": "stdout",
     "output_type": "stream",
     "text": [
      "Total continuity check time = 160.78395771980286s\n"
     ]
    }
   ],
   "source": [
    "R_dict = continuity_checker(station.mdac1, station.mdac2, station.keithley, probe_connection=False)"
   ]
  },
  {
   "cell_type": "code",
   "execution_count": 6,
   "metadata": {},
   "outputs": [
    {
     "data": {
      "text/plain": [
       "{'1-1': 203451840.0,\n",
       " '1-10': 165511950.0,\n",
       " '1-11': 170508980.0,\n",
       " '1-12': 169364940.0,\n",
       " '1-14': 13762.470000000001,\n",
       " '1-15': 656880040.0,\n",
       " '1-16': 164416550.0,\n",
       " '1-17': 169285660.0,\n",
       " '1-18': 163935330.0,\n",
       " '1-19': 179022290.0,\n",
       " '1-2': 167871590.0,\n",
       " '1-20': 174172960.0,\n",
       " '1-21': 167982670.0,\n",
       " '1-22': 165201940.0,\n",
       " '1-23': 168436360.0,\n",
       " '1-24': 166787670.0,\n",
       " '1-25': 13696.87,\n",
       " '1-3': 164691020.0,\n",
       " '1-4': 163717360.0,\n",
       " '1-5': 165777200.0,\n",
       " '1-6': 173985860.0,\n",
       " '1-7': 176310770.0,\n",
       " '1-8': 158696110.0,\n",
       " '1-9': 164842040.0,\n",
       " '2-1': 583558560.0,\n",
       " '2-10': 167823360.0,\n",
       " '2-11': 166945380.0,\n",
       " '2-12': 167595860.0,\n",
       " '2-14': 13740.140000000003,\n",
       " '2-15': 458765720.0,\n",
       " '2-16': 193706920.0,\n",
       " '2-17': 170384890.0,\n",
       " '2-18': 170028490.0,\n",
       " '2-19': 173031940.0,\n",
       " '2-2': 13712.41,\n",
       " '2-20': 1697.782,\n",
       " '2-21': 546781580.0,\n",
       " '2-22': 166050100.0,\n",
       " '2-23': 170166690.0,\n",
       " '2-24': 166596290.0,\n",
       " '2-25': 162566400.0,\n",
       " '2-3': 405206980.0,\n",
       " '2-4': 158176760.0,\n",
       " '2-5': 168900980.0,\n",
       " '2-6': 167304230.0,\n",
       " '2-7': 168620990.0,\n",
       " '2-8': 166721960.0,\n",
       " '2-9': 170373580.0,\n",
       " '3-1': 134404922.0,\n",
       " '3-10': 109448645.0,\n",
       " '3-11': 110026287.0,\n",
       " '3-12': 110004888.0,\n",
       " '3-14': 107646935.0,\n",
       " '3-15': 11284.560000000001,\n",
       " '3-16': 414936030.0,\n",
       " '3-17': 110618096.0,\n",
       " '3-18': 11243.91,\n",
       " '3-19': 427964140.0,\n",
       " '3-2': 108929999.0,\n",
       " '3-20': 11251.210000000001,\n",
       " '3-21': 419810080.0,\n",
       " '3-22': 109424286.0,\n",
       " '3-23': 110074731.0,\n",
       " '3-24': 111045324.0,\n",
       " '3-25': 108125786.0,\n",
       " '3-3': 107708954.0,\n",
       " '3-4': 110246549.0,\n",
       " '3-5': 11246.06,\n",
       " '3-6': 419701570.0,\n",
       " '3-7': 111910183.0,\n",
       " '3-8': 110268452.0,\n",
       " '3-9': 108759338.0,\n",
       " '4-1': 112267617.0,\n",
       " '4-10': 110719878.0,\n",
       " '4-11': 112002811.0,\n",
       " '4-12': 107555433.0,\n",
       " '4-14': 108225522.0,\n",
       " '4-15': 111569623.0,\n",
       " '4-16': 110183057.0,\n",
       " '4-17': 109715886.0,\n",
       " '4-18': 113721102.0,\n",
       " '4-19': 110359495.0,\n",
       " '4-2': 113942781.0,\n",
       " '4-20': 108309799.0,\n",
       " '4-21': 110311631.0,\n",
       " '4-22': 107686263.0,\n",
       " '4-23': 110385520.0,\n",
       " '4-24': 110126420.0,\n",
       " '4-25': 108855186.0,\n",
       " '4-3': 107410460.0,\n",
       " '4-4': 111946896.0,\n",
       " '4-5': 135410468.0,\n",
       " '4-6': 108428445.0,\n",
       " '4-7': 112785933.0,\n",
       " '4-8': 108284237.0,\n",
       " '4-9': 108313885.0}"
      ]
     },
     "execution_count": 6,
     "metadata": {},
     "output_type": "execute_result"
    }
   ],
   "source": [
    "R_dict"
   ]
  },
  {
   "cell_type": "markdown",
   "metadata": {},
   "source": [
    "Seems to work as expected"
   ]
  },
  {
   "cell_type": "code",
   "execution_count": null,
   "metadata": {},
   "outputs": [],
   "source": []
  }
 ],
 "metadata": {
  "kernelspec": {
   "display_name": "Python 3",
   "language": "python",
   "name": "python3"
  },
  "language_info": {
   "codemirror_mode": {
    "name": "ipython",
    "version": 3
   },
   "file_extension": ".py",
   "mimetype": "text/x-python",
   "name": "python",
   "nbconvert_exporter": "python",
   "pygments_lexer": "ipython3",
   "version": "3.6.4"
  },
  "toc": {
   "base_numbering": 1,
   "nav_menu": {},
   "number_sections": true,
   "sideBar": true,
   "skip_h1_title": false,
   "title_cell": "Table of Contents",
   "title_sidebar": "Contents",
   "toc_cell": false,
   "toc_position": {},
   "toc_section_display": true,
   "toc_window_display": false
  }
 },
 "nbformat": 4,
 "nbformat_minor": 2
}
