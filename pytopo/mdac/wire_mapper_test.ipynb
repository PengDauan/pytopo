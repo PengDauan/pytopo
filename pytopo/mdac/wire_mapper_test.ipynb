{
 "cells": [
  {
   "cell_type": "code",
   "execution_count": 4,
   "metadata": {},
   "outputs": [],
   "source": [
    "from wiring_maps import fridge_BoB_to_mdac, fridge_to_probe_map"
   ]
  },
  {
   "cell_type": "code",
   "execution_count": 14,
   "metadata": {},
   "outputs": [],
   "source": [
    "mdac1 = list(range(1,49))\n",
    "mdac2 = list(range(49,97))"
   ]
  },
  {
   "cell_type": "markdown",
   "metadata": {},
   "source": [
    "# Use case 1 - identify an MDAC channel corresponding to a top-of-fridge pin #"
   ]
  },
  {
   "cell_type": "code",
   "execution_count": 15,
   "metadata": {},
   "outputs": [
    {
     "data": {
      "text/plain": [
       "{'1-1': 1,\n",
       " '1-2': 2,\n",
       " '1-3': 3,\n",
       " '1-4': 4,\n",
       " '1-5': 5,\n",
       " '1-6': 6,\n",
       " '1-7': 7,\n",
       " '1-8': 8,\n",
       " '1-9': 9,\n",
       " '1-10': 10,\n",
       " '1-11': 11,\n",
       " '1-12': 12,\n",
       " '1-14': 14,\n",
       " '1-15': 15,\n",
       " '1-16': 16,\n",
       " '1-17': 17,\n",
       " '1-18': 18,\n",
       " '1-19': 19,\n",
       " '1-20': 20,\n",
       " '1-21': 21,\n",
       " '1-22': 22,\n",
       " '1-23': 23,\n",
       " '1-24': 24,\n",
       " '1-25': 13,\n",
       " '2-1': 25,\n",
       " '2-2': 26,\n",
       " '2-3': 27,\n",
       " '2-4': 28,\n",
       " '2-5': 29,\n",
       " '2-6': 30,\n",
       " '2-7': 31,\n",
       " '2-8': 32,\n",
       " '2-9': 33,\n",
       " '2-10': 34,\n",
       " '2-11': 35,\n",
       " '2-12': 36,\n",
       " '2-14': 38,\n",
       " '2-15': 39,\n",
       " '2-16': 40,\n",
       " '2-17': 41,\n",
       " '2-18': 42,\n",
       " '2-19': 43,\n",
       " '2-20': 44,\n",
       " '2-21': 45,\n",
       " '2-22': 46,\n",
       " '2-23': 47,\n",
       " '2-24': 48,\n",
       " '2-25': 37,\n",
       " '3-1': 49,\n",
       " '3-2': 50,\n",
       " '3-3': 51,\n",
       " '3-4': 52,\n",
       " '3-5': 53,\n",
       " '3-6': 54,\n",
       " '3-7': 55,\n",
       " '3-8': 56,\n",
       " '3-9': 57,\n",
       " '3-10': 58,\n",
       " '3-11': 59,\n",
       " '3-12': 60,\n",
       " '3-14': 62,\n",
       " '3-15': 63,\n",
       " '3-16': 64,\n",
       " '3-17': 65,\n",
       " '3-18': 66,\n",
       " '3-19': 67,\n",
       " '3-20': 68,\n",
       " '3-21': 69,\n",
       " '3-22': 70,\n",
       " '3-23': 71,\n",
       " '3-24': 72,\n",
       " '3-25': 61,\n",
       " '4-1': 73,\n",
       " '4-2': 74,\n",
       " '4-3': 75,\n",
       " '4-4': 76,\n",
       " '4-5': 77,\n",
       " '4-6': 78,\n",
       " '4-7': 79,\n",
       " '4-8': 80,\n",
       " '4-9': 81,\n",
       " '4-10': 82,\n",
       " '4-11': 83,\n",
       " '4-12': 84,\n",
       " '4-14': 86,\n",
       " '4-15': 87,\n",
       " '4-16': 88,\n",
       " '4-17': 89,\n",
       " '4-18': 90,\n",
       " '4-19': 91,\n",
       " '4-20': 92,\n",
       " '4-21': 93,\n",
       " '4-22': 94,\n",
       " '4-23': 95,\n",
       " '4-24': 96,\n",
       " '4-25': 85}"
      ]
     },
     "execution_count": 15,
     "metadata": {},
     "output_type": "execute_result"
    }
   ],
   "source": [
    "wiring_dict = fridge_BoB_to_mdac(mdac1, mdac2)\n",
    "wiring_dict\n",
    "#key represents pin at top of fridge, value represents corresponding MDAC channel"
   ]
  },
  {
   "cell_type": "markdown",
   "metadata": {},
   "source": [
    "# Use case 2 - identify an MDAC channel using top-of-fridge mapping but while MDAC connected to probe\n",
    "This would be the case when checking continuity at room temperature.  Suppose you want to manually float a few pins while checking the continuity of another pin.  In this case you want to use your single printout of your bond map and not have to think about what the corresponding pin is on the probe"
   ]
  },
  {
   "cell_type": "code",
   "execution_count": 16,
   "metadata": {},
   "outputs": [
    {
     "data": {
      "text/plain": [
       "{'3-9': 41,\n",
       " '3-21': 29,\n",
       " '3-8': 42,\n",
       " '3-20': 30,\n",
       " '3-19': 31,\n",
       " '3-18': 32,\n",
       " '3-17': 46,\n",
       " '3-4': 33,\n",
       " '3-3': 47,\n",
       " '4-16': 10,\n",
       " '3-15': 35,\n",
       " '3-25': 25,\n",
       " '3-12': 38,\n",
       " '1-1': 85,\n",
       " '1-14': 84,\n",
       " '2-17': 57,\n",
       " '2-5': 69,\n",
       " '2-18': 56,\n",
       " '2-6': 68,\n",
       " '2-7': 67,\n",
       " '2-8': 66,\n",
       " '2-9': 65,\n",
       " '2-22': 52,\n",
       " '2-23': 51,\n",
       " '1-10': 88,\n",
       " '2-11': 63,\n",
       " '2-1': 61,\n",
       " '2-14': 60,\n",
       " '4-25': 1,\n",
       " '4-12': 14,\n",
       " '4-24': 2,\n",
       " '3-10': 40,\n",
       " '3-22': 28,\n",
       " '4-9': 17,\n",
       " '4-20': 6,\n",
       " '3-7': 43,\n",
       " '3-6': 44,\n",
       " '3-5': 45,\n",
       " '4-5': 21,\n",
       " '3-16': 34,\n",
       " '3-2': 48,\n",
       " '3-14': 36,\n",
       " '4-1': 13,\n",
       " '3-1': 37,\n",
       " '2-2': 72,\n",
       " '2-15': 59,\n",
       " '2-3': 71,\n",
       " '1-2': 96,\n",
       " '2-16': 58,\n",
       " '2-4': 70,\n",
       " '1-17': 81,\n",
       " '1-6': 92,\n",
       " '2-19': 55,\n",
       " '2-20': 54,\n",
       " '2-21': 53,\n",
       " '1-21': 77,\n",
       " '2-10': 64,\n",
       " '2-24': 50,\n",
       " '2-12': 62,\n",
       " '1-25': 73,\n",
       " '2-25': 49,\n",
       " '3-24': 26,\n",
       " '3-11': 39,\n",
       " '3-23': 27,\n",
       " '4-22': 4,\n",
       " '4-10': 16,\n",
       " '4-21': 5,\n",
       " '4-8': 18,\n",
       " '4-7': 19,\n",
       " '4-19': 7,\n",
       " '4-6': 20,\n",
       " '4-18': 8,\n",
       " '4-17': 9,\n",
       " '4-4': 22,\n",
       " '4-15': 11,\n",
       " '4-3': 23,\n",
       " '4-2': 24,\n",
       " '4-14': 12,\n",
       " '1-15': 83,\n",
       " '1-3': 95,\n",
       " '1-4': 94,\n",
       " '1-16': 82,\n",
       " '1-5': 93,\n",
       " '1-18': 80,\n",
       " '1-19': 79,\n",
       " '1-7': 91,\n",
       " '1-20': 78,\n",
       " '1-8': 90,\n",
       " '1-9': 89,\n",
       " '1-22': 76,\n",
       " '1-11': 87,\n",
       " '1-23': 75,\n",
       " '1-24': 74,\n",
       " '1-12': 86,\n",
       " '4-11': 15,\n",
       " '4-23': 3}"
      ]
     },
     "execution_count": 16,
     "metadata": {},
     "output_type": "execute_result"
    }
   ],
   "source": [
    "fridge_to_probe_dict = fridge_to_probe_map()\n",
    "\n",
    "first = True\n",
    "for fridge_key in fridge_to_probe_dict:\n",
    "    if first:\n",
    "        final_dict = {fridge_key: wiring_dict[fridge_to_probe_dict[fridge_key]]}\n",
    "        first = False\n",
    "    else:\n",
    "        final_dict[fridge_key] = wiring_dict[fridge_to_probe_dict[fridge_key]]\n",
    "        \n",
    "final_dict"
   ]
  },
  {
   "cell_type": "code",
   "execution_count": 28,
   "metadata": {},
   "outputs": [
    {
     "name": "stdout",
     "output_type": "stream",
     "text": [
      "94\n",
      "94\n"
     ]
    }
   ],
   "source": [
    "print(wiring_dict['4-22']) #Key = pad label using top of fridge map, value=MDAC channel\n",
    "print(final_dict['1-4']) #Key = pad label (of same pad) using probe wiring map, value=MDAC channel\n"
   ]
  },
  {
   "cell_type": "markdown",
   "metadata": {},
   "source": [
    "This seems to work as expected.\n",
    "\n",
    "\n",
    "Now set this up as a function definition so we could import it neatly into another notebook"
   ]
  },
  {
   "cell_type": "code",
   "execution_count": 25,
   "metadata": {},
   "outputs": [],
   "source": [
    "def channel_mapper(fridge_pin, mdac1, mdac2, probe_connection=False):    \n",
    "    fridge_to_probe_dict = fridge_to_probe_map()\n",
    "    \n",
    "    if not(probe_connection):\n",
    "        channel = fridge_BoB_to_mdac(mdac1, mdac2)[fridge_pin]\n",
    "    else:\n",
    "        channel = fridge_BoB_to_mdac(mdac1, mdac2)[fridge_to_probe_dict[fridge_pin]]\n",
    "    return channel"
   ]
  },
  {
   "cell_type": "code",
   "execution_count": 35,
   "metadata": {},
   "outputs": [
    {
     "name": "stdout",
     "output_type": "stream",
     "text": [
      "94\n",
      "94\n"
     ]
    }
   ],
   "source": [
    "#Check that the wiring mapping still works as expected\n",
    "print(channel_mapper('4-22', mdac1, mdac2, probe_connection=False)) #Pin as defined at top of fridge\n",
    "print(channel_mapper('1-4', mdac1, mdac2, probe_connection=True)) #Same pin but defined from probe"
   ]
  },
  {
   "cell_type": "markdown",
   "metadata": {},
   "source": [
    "This still works as expected"
   ]
  },
  {
   "cell_type": "code",
   "execution_count": null,
   "metadata": {},
   "outputs": [],
   "source": []
  }
 ],
 "metadata": {
  "kernelspec": {
   "display_name": "Python 3",
   "language": "python",
   "name": "python3"
  },
  "language_info": {
   "codemirror_mode": {
    "name": "ipython",
    "version": 3
   },
   "file_extension": ".py",
   "mimetype": "text/x-python",
   "name": "python",
   "nbconvert_exporter": "python",
   "pygments_lexer": "ipython3",
   "version": "3.6.5"
  },
  "toc": {
   "base_numbering": 1,
   "nav_menu": {},
   "number_sections": true,
   "sideBar": true,
   "skip_h1_title": false,
   "title_cell": "Table of Contents",
   "title_sidebar": "Contents",
   "toc_cell": false,
   "toc_position": {},
   "toc_section_display": true,
   "toc_window_display": false
  }
 },
 "nbformat": 4,
 "nbformat_minor": 2
}
