{
 "cells": [
  {
   "cell_type": "code",
   "execution_count": 1,
   "metadata": {},
   "outputs": [
    {
     "name": "stderr",
     "output_type": "stream",
     "text": [
      "User schema at C:\\Users\\Administrator\\Code\\pytopo\\pytopo\\tests\\Basic QCodes workflow/qcodesrc_schema.json not found.User settings won't be validated\n"
     ]
    }
   ],
   "source": [
    "import numpy as np\n",
    "import qcodes as qc"
   ]
  },
  {
   "cell_type": "code",
   "execution_count": 2,
   "metadata": {},
   "outputs": [
    {
     "data": {
      "text/plain": [
       "{'core': {'db_debug': False,\n",
       "  'db_location': './qcodes_test_data.db',\n",
       "  'default_fmt': 'data/{date}/#{counter}_{name}_{time}',\n",
       "  'loglevel': 'DEBUG',\n",
       "  'register_magic': True},\n",
       " 'gui': {'defaultcolormap': 'hot',\n",
       "  'notebook': True,\n",
       "  'plotlib': 'all',\n",
       "  'pyqtmaxplots': 100},\n",
       " 'user': {}}"
      ]
     },
     "execution_count": 2,
     "metadata": {},
     "output_type": "execute_result"
    }
   ],
   "source": [
    "qc.config.current_config"
   ]
  },
  {
   "cell_type": "code",
   "execution_count": 3,
   "metadata": {
    "collapsed": true
   },
   "outputs": [],
   "source": [
    "from qcodes import Station, Parameter, new_data_set, new_experiment\n",
    "from qcodes.dataset.measurements import Measurement\n",
    "from qcodes.dataset.plotting import plot_by_id\n",
    "from qcodes.dataset.data_export import get_shaped_data_by_runid, get_data_by_id"
   ]
  },
  {
   "cell_type": "code",
   "execution_count": null,
   "metadata": {
    "collapsed": true
   },
   "outputs": [],
   "source": []
  },
  {
   "cell_type": "code",
   "execution_count": null,
   "metadata": {
    "collapsed": true
   },
   "outputs": [],
   "source": [
    "p1 = Parameter('p1', instrument=None, get_cmd=None, set_cmd=None, initial_value=0)\n",
    "m1 = Parameter('m1', instrument=None, get_cmd=None, set_cmd=None, initial_value=None)"
   ]
  },
  {
   "cell_type": "code",
   "execution_count": 16,
   "metadata": {
    "collapsed": true
   },
   "outputs": [],
   "source": [
    "class MyFirst1DMeasurement(Measurement):\n",
    "    \n",
    "    def __init__(self, *arg, **kw):\n",
    "        super().__init__(*arg, **kw)\n",
    "        \n",
    "#         self.register_parameter(p1)\n",
    "#         self.register_parameter(m1, setpoints=(p1,))\n",
    "        \n",
    "        self.register_custom_parameter('arr')\n",
    "        self.register_custom_parameter('brr', setpoints=('arr', ))\n",
    "    \n",
    "    def measure(self):\n",
    "        pass"
   ]
  },
  {
   "cell_type": "code",
   "execution_count": 17,
   "metadata": {},
   "outputs": [
    {
     "data": {
      "text/plain": [
       "another experiment#still not really a sample#2@./qcodes_test_data.db\n",
       "--------------------------------------------------------------------"
      ]
     },
     "execution_count": 17,
     "metadata": {},
     "output_type": "execute_result"
    }
   ],
   "source": [
    "station = Station()\n",
    "exp = new_experiment('another experiment', sample_name='still not really a sample')\n",
    "exp"
   ]
  },
  {
   "cell_type": "code",
   "execution_count": 18,
   "metadata": {},
   "outputs": [
    {
     "name": "stdout",
     "output_type": "stream",
     "text": [
      "Starting experimental run with id: 3\n"
     ]
    }
   ],
   "source": [
    "m = MyFirst1DMeasurement()\n",
    "with m.run() as datasaver:\n",
    "    for i in range(10):\n",
    "        x = float(i)\n",
    "        y = float(i)**2\n",
    "        datasaver.add_result(('arr', x), ('brr', y))\n",
    "#         datasaver.add_result(('arr', x), ('brr', y))\n",
    "        \n",
    "    dataid = datasaver.run_id"
   ]
  },
  {
   "cell_type": "code",
   "execution_count": 19,
   "metadata": {},
   "outputs": [
    {
     "data": {
      "text/plain": [
       "[[0, 0],\n",
       " [1, 1],\n",
       " [2, 4],\n",
       " [3, 9],\n",
       " [4, 16],\n",
       " [5, 25],\n",
       " [6, 36],\n",
       " [7, 49],\n",
       " [8, 64],\n",
       " [9, 81]]"
      ]
     },
     "execution_count": 19,
     "metadata": {},
     "output_type": "execute_result"
    }
   ],
   "source": [
    "ret = datasaver.dataset.get_data('arr', 'brr')\n",
    "ret"
   ]
  },
  {
   "cell_type": "code",
   "execution_count": 21,
   "metadata": {},
   "outputs": [
    {
     "data": {
      "text/plain": [
       "(2, 1, 3)"
      ]
     },
     "execution_count": 21,
     "metadata": {},
     "output_type": "execute_result"
    }
   ],
   "source": [
    "exp.exp_id, datasaver.dataset.counter, dataid"
   ]
  },
  {
   "cell_type": "code",
   "execution_count": 22,
   "metadata": {},
   "outputs": [
    {
     "data": {
      "text/plain": [
       "('./qcodes_test_data.db', 'results-2-1')"
      ]
     },
     "execution_count": 22,
     "metadata": {},
     "output_type": "execute_result"
    }
   ],
   "source": [
    "datasaver.dataset.path_to_db, datasaver.dataset.table_name"
   ]
  },
  {
   "cell_type": "code",
   "execution_count": 23,
   "metadata": {},
   "outputs": [
    {
     "data": {
      "text/plain": [
       "[[{'data': array([0, 1, 2, 3, 4, 5, 6, 7, 8, 9]),\n",
       "   'label': '',\n",
       "   'name': 'arr',\n",
       "   'unit': ''},\n",
       "  {'data': array([ 0,  1,  4,  9, 16, 25, 36, 49, 64, 81]),\n",
       "   'label': '',\n",
       "   'name': 'brr',\n",
       "   'unit': ''}]]"
      ]
     },
     "execution_count": 23,
     "metadata": {},
     "output_type": "execute_result"
    }
   ],
   "source": [
    "get_data_by_id(3)"
   ]
  },
  {
   "cell_type": "code",
   "execution_count": 24,
   "metadata": {},
   "outputs": [
    {
     "data": {
      "text/plain": [
       "results #3@./qcodes_test_data.db\n",
       "--------------------------------\n",
       "arr - numeric\n",
       "brr - numeric"
      ]
     },
     "execution_count": 24,
     "metadata": {},
     "output_type": "execute_result"
    }
   ],
   "source": [
    "qc.load_by_id(3)"
   ]
  },
  {
   "cell_type": "code",
   "execution_count": null,
   "metadata": {
    "collapsed": true
   },
   "outputs": [],
   "source": []
  }
 ],
 "metadata": {
  "hide_input": false,
  "kernelspec": {
   "display_name": "Python 3",
   "language": "python",
   "name": "python3"
  },
  "language_info": {
   "codemirror_mode": {
    "name": "ipython",
    "version": 3
   },
   "file_extension": ".py",
   "mimetype": "text/x-python",
   "name": "python",
   "nbconvert_exporter": "python",
   "pygments_lexer": "ipython3",
   "version": "3.6.4"
  },
  "toc": {
   "nav_menu": {},
   "number_sections": true,
   "sideBar": true,
   "skip_h1_title": false,
   "title_cell": "Table of Contents",
   "title_sidebar": "Contents",
   "toc_cell": false,
   "toc_position": {},
   "toc_section_display": true,
   "toc_window_display": false
  }
 },
 "nbformat": 4,
 "nbformat_minor": 2
}
