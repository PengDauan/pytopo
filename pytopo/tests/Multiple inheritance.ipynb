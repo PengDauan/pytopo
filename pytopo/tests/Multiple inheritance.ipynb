{
 "cells": [
  {
   "cell_type": "code",
   "execution_count": 3,
   "metadata": {
    "collapsed": true
   },
   "outputs": [],
   "source": [
    "class A(object):\n",
    "    def func(self):\n",
    "        print(self.__class__.__name__, 'func in A')\n",
    "        \n",
    "        \n",
    "class B(A):\n",
    "    def func(self):\n",
    "        print(self.__class__.__name__, 'func in B')\n",
    "        super().func()\n",
    "        \n",
    "class C(A):\n",
    "    def func(self):\n",
    "        print(self.__class__.__name__, 'func in C')\n",
    "        super().func()\n",
    "        \n",
    "class D(B, C):\n",
    "    def func(self):\n",
    "        print(self.__class__.__name__, 'func in D')\n",
    "        super().func()"
   ]
  },
  {
   "cell_type": "code",
   "execution_count": 4,
   "metadata": {},
   "outputs": [
    {
     "name": "stdout",
     "output_type": "stream",
     "text": [
      "D func in D\n",
      "D func in B\n",
      "D func in C\n",
      "D func in A\n"
     ]
    }
   ],
   "source": [
    "d = D()\n",
    "d.func()"
   ]
  },
  {
   "cell_type": "code",
   "execution_count": null,
   "metadata": {
    "collapsed": true
   },
   "outputs": [],
   "source": []
  }
 ],
 "metadata": {
  "kernelspec": {
   "display_name": "Python 3",
   "language": "python",
   "name": "python3"
  },
  "language_info": {
   "codemirror_mode": {
    "name": "ipython",
    "version": 3
   },
   "file_extension": ".py",
   "mimetype": "text/x-python",
   "name": "python",
   "nbconvert_exporter": "python",
   "pygments_lexer": "ipython3",
   "version": "3.6.2"
  }
 },
 "nbformat": 4,
 "nbformat_minor": 2
}
