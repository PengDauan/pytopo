{
 "cells": [
  {
   "cell_type": "code",
   "execution_count": 1,
   "metadata": {},
   "outputs": [],
   "source": [
    "from qcodes import Parameter\n",
    "from qcodes.dataset.plotting import plot_by_id\n",
    "from pytopo.sweep import sweep, measure, call\n",
    "from pytopo.qctools.dataset2 import do_experiment"
   ]
  },
  {
   "cell_type": "code",
   "execution_count": 2,
   "metadata": {},
   "outputs": [],
   "source": [
    "x = Parameter(\"x\", set_cmd=None, get_cmd=None)\n",
    "y = Parameter(\"y\", set_cmd=None, get_cmd=None)\n",
    "m = Parameter(\"m\", get_cmd=lambda: x.get()**2 + y.get())"
   ]
  },
  {
   "cell_type": "code",
   "execution_count": 6,
   "metadata": {},
   "outputs": [
    {
     "name": "stdout",
     "output_type": "stream",
     "text": [
      "Starting experimental run with id: 160\n",
      "hello world\n",
      "hello world\n",
      "hello world\n"
     ]
    },
    {
     "data": {
      "image/png": "[encoded data removed]",
      "text/plain": [
       "<matplotlib.figure.Figure at 0x254fb8df2e8>"
      ]
     },
     "metadata": {},
     "output_type": "display_data"
    }
   ],
   "source": [
    "sweep_object = sweep(x, [0, 1, 2])(\n",
    "    sweep(y, [0, 1, 2])(\n",
    "        measure(m), \n",
    "    ), \n",
    "    call(print, \"hello world\")\n",
    ")\n",
    "\n",
    "setup = [lambda: None]\n",
    "cleanup = [lambda: None]\n",
    "\n",
    "experiment_result = do_experiment(setup, sweep_object, cleanup)\n",
    "experiment_result.plot()"
   ]
  },
  {
   "cell_type": "code",
   "execution_count": 7,
   "metadata": {},
   "outputs": [
    {
     "data": {
      "text/plain": [
       "{'x': array([0, 0, 0, 1, 1, 1, 2, 2, 2]),\n",
       " 'y': array([0, 1, 2, 0, 1, 2, 0, 1, 2]),\n",
       " 'm': array([0, 1, 2, 1, 2, 3, 4, 5, 6])}"
      ]
     },
     "execution_count": 7,
     "metadata": {},
     "output_type": "execute_result"
    }
   ],
   "source": [
    "experiment_result[\"m\"]"
   ]
  },
  {
   "cell_type": "code",
   "execution_count": null,
   "metadata": {},
   "outputs": [],
   "source": []
  }
 ],
 "metadata": {
  "celltoolbar": "Slideshow",
  "kernelspec": {
   "display_name": "Python 3",
   "language": "python",
   "name": "python3"
  },
  "language_info": {
   "codemirror_mode": {
    "name": "ipython",
    "version": 3
   },
   "file_extension": ".py",
   "mimetype": "text/x-python",
   "name": "python",
   "nbconvert_exporter": "python",
   "pygments_lexer": "ipython3",
   "version": "3.6.5"
  },
  "toc": {
   "base_numbering": 1,
   "nav_menu": {},
   "number_sections": true,
   "sideBar": true,
   "skip_h1_title": false,
   "title_cell": "Table of Contents",
   "title_sidebar": "Contents",
   "toc_cell": false,
   "toc_position": {},
   "toc_section_display": true,
   "toc_window_display": false
  }
 },
 "nbformat": 4,
 "nbformat_minor": 2
}
